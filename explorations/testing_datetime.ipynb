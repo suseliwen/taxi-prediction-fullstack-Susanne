{
 "cells": [
  {
   "cell_type": "markdown",
   "id": "3d870aa6",
   "metadata": {},
   "source": [
    "### Notebook för test av olika funktioner"
   ]
  },
  {
   "cell_type": "code",
   "execution_count": 5,
   "id": "b3b6089b",
   "metadata": {},
   "outputs": [
    {
     "name": "stdout",
     "output_type": "stream",
     "text": [
      "Tis 07:30: traffic=High, time of day=Morning, day of week=Weekday\n",
      "Tis 12:15: traffic=Medium, time of day=Day, day of week=Weekday\n",
      "Tis 22:10: traffic=Low, time of day=Night, day of week=Weekday\n",
      "Sön 09:00: traffic=Low, time of day=Morning, day of week=Weekend\n",
      "Sön 14:00: traffic=Medium, time of day=Day, day of week=Weekend\n"
     ]
    }
   ],
   "source": [
    "from datetime import datetime\n",
    "from taxipred.utils.time_features import traffic_condition, time_of_day, day_of_week_label\n",
    "\n",
    "cases = [\n",
    "    (\"Tis 07:30\", datetime(2025, 10, 7, 7, 30)),\n",
    "    (\"Tis 12:15\", datetime(2025, 10, 7, 12, 15)),\n",
    "    (\"Tis 22:10\", datetime(2025, 10, 7, 22, 10)),\n",
    "    (\"Sön 09:00\", datetime(2025, 10, 5, 9, 0)),\n",
    "    (\"Sön 14:00\", datetime(2025, 10, 5, 14, 0)),\n",
    "]\n",
    "\n",
    "for label, dt in cases:\n",
    "    print(f\"{label}: traffic={traffic_condition(dt)}, time of day={time_of_day(dt)}, day of week={day_of_week_label(dt)}\")\n"
   ]
  },
  {
   "cell_type": "code",
   "execution_count": null,
   "id": "2a8f006d",
   "metadata": {},
   "outputs": [],
   "source": [
    "\n",
    "\n"
   ]
  },
  {
   "cell_type": "code",
   "execution_count": null,
   "id": "a339382e",
   "metadata": {},
   "outputs": [],
   "source": []
  }
 ],
 "metadata": {
  "kernelspec": {
   "display_name": "venv",
   "language": "python",
   "name": "python3"
  },
  "language_info": {
   "codemirror_mode": {
    "name": "ipython",
    "version": 3
   },
   "file_extension": ".py",
   "mimetype": "text/x-python",
   "name": "python",
   "nbconvert_exporter": "python",
   "pygments_lexer": "ipython3",
   "version": "3.13.3"
  }
 },
 "nbformat": 4,
 "nbformat_minor": 5
}
