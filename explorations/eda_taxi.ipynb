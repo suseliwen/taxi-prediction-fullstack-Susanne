{
 "cells": [
  {
   "cell_type": "markdown",
   "id": "45fe6715",
   "metadata": {},
   "source": [
    "### Hämta taxi-datan och skapa en ny dataframe"
   ]
  },
  {
   "cell_type": "code",
   "execution_count": 44,
   "id": "cf0ab26b",
   "metadata": {},
   "outputs": [
    {
     "data": {
      "text/html": [
       "<div>\n",
       "<style scoped>\n",
       "    .dataframe tbody tr th:only-of-type {\n",
       "        vertical-align: middle;\n",
       "    }\n",
       "\n",
       "    .dataframe tbody tr th {\n",
       "        vertical-align: top;\n",
       "    }\n",
       "\n",
       "    .dataframe thead th {\n",
       "        text-align: right;\n",
       "    }\n",
       "</style>\n",
       "<table border=\"1\" class=\"dataframe\">\n",
       "  <thead>\n",
       "    <tr style=\"text-align: right;\">\n",
       "      <th></th>\n",
       "      <th>Trip_Distance_km</th>\n",
       "      <th>Time_of_Day</th>\n",
       "      <th>Day_of_Week</th>\n",
       "      <th>Passenger_Count</th>\n",
       "      <th>Traffic_Conditions</th>\n",
       "      <th>Weather</th>\n",
       "      <th>Base_Fare</th>\n",
       "      <th>Per_Km_Rate</th>\n",
       "      <th>Per_Minute_Rate</th>\n",
       "      <th>Trip_Duration_Minutes</th>\n",
       "      <th>Trip_Price</th>\n",
       "    </tr>\n",
       "  </thead>\n",
       "  <tbody>\n",
       "    <tr>\n",
       "      <th>0</th>\n",
       "      <td>19.35</td>\n",
       "      <td>Morning</td>\n",
       "      <td>Weekday</td>\n",
       "      <td>3.0</td>\n",
       "      <td>Low</td>\n",
       "      <td>Clear</td>\n",
       "      <td>3.56</td>\n",
       "      <td>0.80</td>\n",
       "      <td>0.32</td>\n",
       "      <td>53.82</td>\n",
       "      <td>36.2624</td>\n",
       "    </tr>\n",
       "    <tr>\n",
       "      <th>1</th>\n",
       "      <td>47.59</td>\n",
       "      <td>Afternoon</td>\n",
       "      <td>Weekday</td>\n",
       "      <td>1.0</td>\n",
       "      <td>High</td>\n",
       "      <td>Clear</td>\n",
       "      <td>NaN</td>\n",
       "      <td>0.62</td>\n",
       "      <td>0.43</td>\n",
       "      <td>40.57</td>\n",
       "      <td>NaN</td>\n",
       "    </tr>\n",
       "    <tr>\n",
       "      <th>2</th>\n",
       "      <td>36.87</td>\n",
       "      <td>Evening</td>\n",
       "      <td>Weekend</td>\n",
       "      <td>1.0</td>\n",
       "      <td>High</td>\n",
       "      <td>Clear</td>\n",
       "      <td>2.70</td>\n",
       "      <td>1.21</td>\n",
       "      <td>0.15</td>\n",
       "      <td>37.27</td>\n",
       "      <td>52.9032</td>\n",
       "    </tr>\n",
       "    <tr>\n",
       "      <th>3</th>\n",
       "      <td>30.33</td>\n",
       "      <td>Evening</td>\n",
       "      <td>Weekday</td>\n",
       "      <td>4.0</td>\n",
       "      <td>Low</td>\n",
       "      <td>NaN</td>\n",
       "      <td>3.48</td>\n",
       "      <td>0.51</td>\n",
       "      <td>0.15</td>\n",
       "      <td>116.81</td>\n",
       "      <td>36.4698</td>\n",
       "    </tr>\n",
       "    <tr>\n",
       "      <th>4</th>\n",
       "      <td>NaN</td>\n",
       "      <td>Evening</td>\n",
       "      <td>Weekday</td>\n",
       "      <td>3.0</td>\n",
       "      <td>High</td>\n",
       "      <td>Clear</td>\n",
       "      <td>2.93</td>\n",
       "      <td>0.63</td>\n",
       "      <td>0.32</td>\n",
       "      <td>22.64</td>\n",
       "      <td>15.6180</td>\n",
       "    </tr>\n",
       "  </tbody>\n",
       "</table>\n",
       "</div>"
      ],
      "text/plain": [
       "   Trip_Distance_km Time_of_Day Day_of_Week  Passenger_Count  \\\n",
       "0             19.35     Morning     Weekday              3.0   \n",
       "1             47.59   Afternoon     Weekday              1.0   \n",
       "2             36.87     Evening     Weekend              1.0   \n",
       "3             30.33     Evening     Weekday              4.0   \n",
       "4               NaN     Evening     Weekday              3.0   \n",
       "\n",
       "  Traffic_Conditions Weather  Base_Fare  Per_Km_Rate  Per_Minute_Rate  \\\n",
       "0                Low   Clear       3.56         0.80             0.32   \n",
       "1               High   Clear        NaN         0.62             0.43   \n",
       "2               High   Clear       2.70         1.21             0.15   \n",
       "3                Low     NaN       3.48         0.51             0.15   \n",
       "4               High   Clear       2.93         0.63             0.32   \n",
       "\n",
       "   Trip_Duration_Minutes  Trip_Price  \n",
       "0                  53.82     36.2624  \n",
       "1                  40.57         NaN  \n",
       "2                  37.27     52.9032  \n",
       "3                 116.81     36.4698  \n",
       "4                  22.64     15.6180  "
      ]
     },
     "execution_count": 44,
     "metadata": {},
     "output_type": "execute_result"
    }
   ],
   "source": [
    "import pandas as pd\n",
    "import matplotlib.pyplot as plt\n",
    "import seaborn as sns\n",
    "from taxipred.utils.constants import TAXI_CSV_PATH\n",
    "\n",
    "\n",
    "df = pd.read_csv(TAXI_CSV_PATH)\n",
    "\n",
    "#Skriver ut de 5 första raderna i datasetet\n",
    "df.head()"
   ]
  },
  {
   "cell_type": "code",
   "execution_count": 45,
   "id": "15ecdc11",
   "metadata": {},
   "outputs": [
    {
     "data": {
      "text/plain": [
       "(1000, 11)"
      ]
     },
     "execution_count": 45,
     "metadata": {},
     "output_type": "execute_result"
    }
   ],
   "source": [
    "df. shape"
   ]
  },
  {
   "cell_type": "code",
   "execution_count": 46,
   "id": "dc4b709f",
   "metadata": {},
   "outputs": [
    {
     "data": {
      "text/html": [
       "<div>\n",
       "<style scoped>\n",
       "    .dataframe tbody tr th:only-of-type {\n",
       "        vertical-align: middle;\n",
       "    }\n",
       "\n",
       "    .dataframe tbody tr th {\n",
       "        vertical-align: top;\n",
       "    }\n",
       "\n",
       "    .dataframe thead th {\n",
       "        text-align: right;\n",
       "    }\n",
       "</style>\n",
       "<table border=\"1\" class=\"dataframe\">\n",
       "  <thead>\n",
       "    <tr style=\"text-align: right;\">\n",
       "      <th></th>\n",
       "      <th>Trip_Distance_km</th>\n",
       "      <th>Passenger_Count</th>\n",
       "      <th>Base_Fare</th>\n",
       "      <th>Per_Km_Rate</th>\n",
       "      <th>Per_Minute_Rate</th>\n",
       "      <th>Trip_Duration_Minutes</th>\n",
       "      <th>Trip_Price</th>\n",
       "    </tr>\n",
       "  </thead>\n",
       "  <tbody>\n",
       "    <tr>\n",
       "      <th>count</th>\n",
       "      <td>950.000000</td>\n",
       "      <td>950.000000</td>\n",
       "      <td>950.000000</td>\n",
       "      <td>950.000000</td>\n",
       "      <td>950.000000</td>\n",
       "      <td>950.000000</td>\n",
       "      <td>951.000000</td>\n",
       "    </tr>\n",
       "    <tr>\n",
       "      <th>mean</th>\n",
       "      <td>27.070547</td>\n",
       "      <td>2.476842</td>\n",
       "      <td>3.502989</td>\n",
       "      <td>1.233316</td>\n",
       "      <td>0.292916</td>\n",
       "      <td>62.118116</td>\n",
       "      <td>56.874773</td>\n",
       "    </tr>\n",
       "    <tr>\n",
       "      <th>std</th>\n",
       "      <td>19.905300</td>\n",
       "      <td>1.102249</td>\n",
       "      <td>0.870162</td>\n",
       "      <td>0.429816</td>\n",
       "      <td>0.115592</td>\n",
       "      <td>32.154406</td>\n",
       "      <td>40.469791</td>\n",
       "    </tr>\n",
       "    <tr>\n",
       "      <th>min</th>\n",
       "      <td>1.230000</td>\n",
       "      <td>1.000000</td>\n",
       "      <td>2.010000</td>\n",
       "      <td>0.500000</td>\n",
       "      <td>0.100000</td>\n",
       "      <td>5.010000</td>\n",
       "      <td>6.126900</td>\n",
       "    </tr>\n",
       "    <tr>\n",
       "      <th>25%</th>\n",
       "      <td>12.632500</td>\n",
       "      <td>1.250000</td>\n",
       "      <td>2.730000</td>\n",
       "      <td>0.860000</td>\n",
       "      <td>0.190000</td>\n",
       "      <td>35.882500</td>\n",
       "      <td>33.742650</td>\n",
       "    </tr>\n",
       "    <tr>\n",
       "      <th>50%</th>\n",
       "      <td>25.830000</td>\n",
       "      <td>2.000000</td>\n",
       "      <td>3.520000</td>\n",
       "      <td>1.220000</td>\n",
       "      <td>0.290000</td>\n",
       "      <td>61.860000</td>\n",
       "      <td>50.074500</td>\n",
       "    </tr>\n",
       "    <tr>\n",
       "      <th>75%</th>\n",
       "      <td>38.405000</td>\n",
       "      <td>3.000000</td>\n",
       "      <td>4.260000</td>\n",
       "      <td>1.610000</td>\n",
       "      <td>0.390000</td>\n",
       "      <td>89.055000</td>\n",
       "      <td>69.099350</td>\n",
       "    </tr>\n",
       "    <tr>\n",
       "      <th>max</th>\n",
       "      <td>146.067047</td>\n",
       "      <td>4.000000</td>\n",
       "      <td>5.000000</td>\n",
       "      <td>2.000000</td>\n",
       "      <td>0.500000</td>\n",
       "      <td>119.840000</td>\n",
       "      <td>332.043689</td>\n",
       "    </tr>\n",
       "  </tbody>\n",
       "</table>\n",
       "</div>"
      ],
      "text/plain": [
       "       Trip_Distance_km  Passenger_Count   Base_Fare  Per_Km_Rate  \\\n",
       "count        950.000000       950.000000  950.000000   950.000000   \n",
       "mean          27.070547         2.476842    3.502989     1.233316   \n",
       "std           19.905300         1.102249    0.870162     0.429816   \n",
       "min            1.230000         1.000000    2.010000     0.500000   \n",
       "25%           12.632500         1.250000    2.730000     0.860000   \n",
       "50%           25.830000         2.000000    3.520000     1.220000   \n",
       "75%           38.405000         3.000000    4.260000     1.610000   \n",
       "max          146.067047         4.000000    5.000000     2.000000   \n",
       "\n",
       "       Per_Minute_Rate  Trip_Duration_Minutes  Trip_Price  \n",
       "count       950.000000             950.000000  951.000000  \n",
       "mean          0.292916              62.118116   56.874773  \n",
       "std           0.115592              32.154406   40.469791  \n",
       "min           0.100000               5.010000    6.126900  \n",
       "25%           0.190000              35.882500   33.742650  \n",
       "50%           0.290000              61.860000   50.074500  \n",
       "75%           0.390000              89.055000   69.099350  \n",
       "max           0.500000             119.840000  332.043689  "
      ]
     },
     "execution_count": 46,
     "metadata": {},
     "output_type": "execute_result"
    }
   ],
   "source": [
    "df.describe()"
   ]
  },
  {
   "cell_type": "code",
   "execution_count": 47,
   "id": "5b1c6755",
   "metadata": {},
   "outputs": [
    {
     "name": "stdout",
     "output_type": "stream",
     "text": [
      "<class 'pandas.core.frame.DataFrame'>\n",
      "RangeIndex: 1000 entries, 0 to 999\n",
      "Data columns (total 11 columns):\n",
      " #   Column                 Non-Null Count  Dtype  \n",
      "---  ------                 --------------  -----  \n",
      " 0   Trip_Distance_km       950 non-null    float64\n",
      " 1   Time_of_Day            950 non-null    object \n",
      " 2   Day_of_Week            950 non-null    object \n",
      " 3   Passenger_Count        950 non-null    float64\n",
      " 4   Traffic_Conditions     950 non-null    object \n",
      " 5   Weather                950 non-null    object \n",
      " 6   Base_Fare              950 non-null    float64\n",
      " 7   Per_Km_Rate            950 non-null    float64\n",
      " 8   Per_Minute_Rate        950 non-null    float64\n",
      " 9   Trip_Duration_Minutes  950 non-null    float64\n",
      " 10  Trip_Price             951 non-null    float64\n",
      "dtypes: float64(7), object(4)\n",
      "memory usage: 86.1+ KB\n"
     ]
    }
   ],
   "source": [
    "df.info()"
   ]
  },
  {
   "cell_type": "code",
   "execution_count": 48,
   "id": "484ed64d",
   "metadata": {},
   "outputs": [
    {
     "data": {
      "text/plain": [
       "Trip_Distance_km         50\n",
       "Time_of_Day              50\n",
       "Day_of_Week              50\n",
       "Passenger_Count          50\n",
       "Traffic_Conditions       50\n",
       "Weather                  50\n",
       "Base_Fare                50\n",
       "Per_Km_Rate              50\n",
       "Per_Minute_Rate          50\n",
       "Trip_Duration_Minutes    50\n",
       "Trip_Price               49\n",
       "dtype: int64"
      ]
     },
     "execution_count": 48,
     "metadata": {},
     "output_type": "execute_result"
    }
   ],
   "source": [
    "df.isna().sum()\n",
    "\n"
   ]
  },
  {
   "cell_type": "code",
   "execution_count": 49,
   "id": "243cc8a2",
   "metadata": {},
   "outputs": [
    {
     "data": {
      "text/plain": [
       "Trip_Distance_km  Time_of_Day  Day_of_Week  Passenger_Count  Traffic_Conditions  Weather  Base_Fare  Per_Km_Rate  Per_Minute_Rate  Trip_Duration_Minutes  Trip_Price\n",
       "1.270000          Morning      Weekday      2.0              High                Clear    4.47       0.62         0.16             37.99                  11.335800     1\n",
       "1.540000          Afternoon    Weekday      3.0              High                Clear    3.62       1.56         0.38             10.13                  9.871800      1\n",
       "1.560000          Afternoon    Weekday      4.0              High                Clear    2.93       1.31         0.37             79.16                  34.262800     1\n",
       "1.640000          Afternoon    Weekday      3.0              Low                 Clear    3.32       1.53         0.44             61.16                  32.739600     1\n",
       "1.710000          Morning      Weekday      4.0              High                Clear    4.45       1.27         0.18             87.85                  22.434700     1\n",
       "                                                                                                                                                                       ..\n",
       "138.763887        Night        Weekday      2.0              High                Clear    3.98       1.71         0.39             74.32                  332.043689    1\n",
       "139.062230        Afternoon    Weekday      2.0              Low                 Rain     2.80       1.82         0.14             50.83                  276.840597    1\n",
       "139.476515        Evening      Weekday      1.0              Low                 Clear    4.37       1.38         0.20             46.85                  296.088697    1\n",
       "145.747060        Morning      Weekday      3.0              High                Rain     2.82       0.83         0.49             60.29                  325.098950    1\n",
       "146.067047        Afternoon    Weekday      2.0              Medium              Clear    4.79       0.73         0.30             60.81                  320.958664    1\n",
       "Name: count, Length: 562, dtype: int64"
      ]
     },
     "execution_count": 49,
     "metadata": {},
     "output_type": "execute_result"
    }
   ],
   "source": [
    "df.value_counts()"
   ]
  },
  {
   "cell_type": "markdown",
   "id": "83881b0d",
   "metadata": {},
   "source": [
    "##### Testar att droppa na. För mycket försvinner. Behöver istället hantera rader med viktiga nullvärden. "
   ]
  },
  {
   "cell_type": "code",
   "execution_count": 50,
   "id": "008c3de5",
   "metadata": {},
   "outputs": [
    {
     "data": {
      "text/plain": [
       "(562, 11)"
      ]
     },
     "execution_count": 50,
     "metadata": {},
     "output_type": "execute_result"
    }
   ],
   "source": [
    "df_test_drop = df.dropna(axis = 0)\n",
    "df_test_drop.shape\n"
   ]
  },
  {
   "cell_type": "markdown",
   "id": "220e1d8f",
   "metadata": {},
   "source": [
    "Fundering --> Kan jag ta ett medelvärde alt median-värde på kilometer för att få in ett värde?"
   ]
  },
  {
   "cell_type": "code",
   "execution_count": 55,
   "id": "908851e5",
   "metadata": {},
   "outputs": [
    {
     "data": {
      "text/plain": [
       "(np.float64(27.070546861761322), np.float64(25.83))"
      ]
     },
     "execution_count": 55,
     "metadata": {},
     "output_type": "execute_result"
    }
   ],
   "source": [
    "df[\"Trip_Distance_km\"].mean(), df[\"Trip_Distance_km\"].median()"
   ]
  },
  {
   "cell_type": "code",
   "execution_count": 56,
   "id": "d83b2e7f",
   "metadata": {},
   "outputs": [
    {
     "data": {
      "text/html": [
       "<div>\n",
       "<style scoped>\n",
       "    .dataframe tbody tr th:only-of-type {\n",
       "        vertical-align: middle;\n",
       "    }\n",
       "\n",
       "    .dataframe tbody tr th {\n",
       "        vertical-align: top;\n",
       "    }\n",
       "\n",
       "    .dataframe thead th {\n",
       "        text-align: right;\n",
       "    }\n",
       "</style>\n",
       "<table border=\"1\" class=\"dataframe\">\n",
       "  <thead>\n",
       "    <tr style=\"text-align: right;\">\n",
       "      <th></th>\n",
       "      <th>count</th>\n",
       "      <th>mean</th>\n",
       "      <th>std</th>\n",
       "      <th>min</th>\n",
       "      <th>25%</th>\n",
       "      <th>50%</th>\n",
       "      <th>75%</th>\n",
       "      <th>max</th>\n",
       "    </tr>\n",
       "  </thead>\n",
       "  <tbody>\n",
       "    <tr>\n",
       "      <th>Trip_Distance_km</th>\n",
       "      <td>950.0</td>\n",
       "      <td>27.070547</td>\n",
       "      <td>19.905300</td>\n",
       "      <td>1.2300</td>\n",
       "      <td>12.63250</td>\n",
       "      <td>25.8300</td>\n",
       "      <td>38.40500</td>\n",
       "      <td>146.067047</td>\n",
       "    </tr>\n",
       "    <tr>\n",
       "      <th>Passenger_Count</th>\n",
       "      <td>950.0</td>\n",
       "      <td>2.476842</td>\n",
       "      <td>1.102249</td>\n",
       "      <td>1.0000</td>\n",
       "      <td>1.25000</td>\n",
       "      <td>2.0000</td>\n",
       "      <td>3.00000</td>\n",
       "      <td>4.000000</td>\n",
       "    </tr>\n",
       "    <tr>\n",
       "      <th>Base_Fare</th>\n",
       "      <td>950.0</td>\n",
       "      <td>3.502989</td>\n",
       "      <td>0.870162</td>\n",
       "      <td>2.0100</td>\n",
       "      <td>2.73000</td>\n",
       "      <td>3.5200</td>\n",
       "      <td>4.26000</td>\n",
       "      <td>5.000000</td>\n",
       "    </tr>\n",
       "    <tr>\n",
       "      <th>Per_Km_Rate</th>\n",
       "      <td>950.0</td>\n",
       "      <td>1.233316</td>\n",
       "      <td>0.429816</td>\n",
       "      <td>0.5000</td>\n",
       "      <td>0.86000</td>\n",
       "      <td>1.2200</td>\n",
       "      <td>1.61000</td>\n",
       "      <td>2.000000</td>\n",
       "    </tr>\n",
       "    <tr>\n",
       "      <th>Per_Minute_Rate</th>\n",
       "      <td>950.0</td>\n",
       "      <td>0.292916</td>\n",
       "      <td>0.115592</td>\n",
       "      <td>0.1000</td>\n",
       "      <td>0.19000</td>\n",
       "      <td>0.2900</td>\n",
       "      <td>0.39000</td>\n",
       "      <td>0.500000</td>\n",
       "    </tr>\n",
       "    <tr>\n",
       "      <th>Trip_Duration_Minutes</th>\n",
       "      <td>950.0</td>\n",
       "      <td>62.118116</td>\n",
       "      <td>32.154406</td>\n",
       "      <td>5.0100</td>\n",
       "      <td>35.88250</td>\n",
       "      <td>61.8600</td>\n",
       "      <td>89.05500</td>\n",
       "      <td>119.840000</td>\n",
       "    </tr>\n",
       "    <tr>\n",
       "      <th>Trip_Price</th>\n",
       "      <td>951.0</td>\n",
       "      <td>56.874773</td>\n",
       "      <td>40.469791</td>\n",
       "      <td>6.1269</td>\n",
       "      <td>33.74265</td>\n",
       "      <td>50.0745</td>\n",
       "      <td>69.09935</td>\n",
       "      <td>332.043689</td>\n",
       "    </tr>\n",
       "  </tbody>\n",
       "</table>\n",
       "</div>"
      ],
      "text/plain": [
       "                       count       mean        std     min       25%      50%  \\\n",
       "Trip_Distance_km       950.0  27.070547  19.905300  1.2300  12.63250  25.8300   \n",
       "Passenger_Count        950.0   2.476842   1.102249  1.0000   1.25000   2.0000   \n",
       "Base_Fare              950.0   3.502989   0.870162  2.0100   2.73000   3.5200   \n",
       "Per_Km_Rate            950.0   1.233316   0.429816  0.5000   0.86000   1.2200   \n",
       "Per_Minute_Rate        950.0   0.292916   0.115592  0.1000   0.19000   0.2900   \n",
       "Trip_Duration_Minutes  950.0  62.118116  32.154406  5.0100  35.88250  61.8600   \n",
       "Trip_Price             951.0  56.874773  40.469791  6.1269  33.74265  50.0745   \n",
       "\n",
       "                            75%         max  \n",
       "Trip_Distance_km       38.40500  146.067047  \n",
       "Passenger_Count         3.00000    4.000000  \n",
       "Base_Fare               4.26000    5.000000  \n",
       "Per_Km_Rate             1.61000    2.000000  \n",
       "Per_Minute_Rate         0.39000    0.500000  \n",
       "Trip_Duration_Minutes  89.05500  119.840000  \n",
       "Trip_Price             69.09935  332.043689  "
      ]
     },
     "execution_count": 56,
     "metadata": {},
     "output_type": "execute_result"
    }
   ],
   "source": [
    "df.describe().T"
   ]
  },
  {
   "cell_type": "code",
   "execution_count": 57,
   "id": "742e5d4b",
   "metadata": {},
   "outputs": [
    {
     "name": "stdout",
     "output_type": "stream",
     "text": [
      "     Trip_Distance_km Time_of_Day Day_of_Week  Passenger_Count  \\\n",
      "1               47.59   Afternoon     Weekday              1.0   \n",
      "3               30.33     Evening     Weekday              4.0   \n",
      "4                 NaN     Evening     Weekday              3.0   \n",
      "6                3.85   Afternoon     Weekday              4.0   \n",
      "7               43.44     Evening     Weekend              3.0   \n",
      "..                ...         ...         ...              ...   \n",
      "991             35.04     Morning     Weekend              4.0   \n",
      "993               NaN     Morning     Weekday              3.0   \n",
      "996             45.95       Night     Weekday              4.0   \n",
      "997              7.70     Morning     Weekday              3.0   \n",
      "999             22.85     Morning     Weekend              3.0   \n",
      "\n",
      "    Traffic_Conditions Weather  Base_Fare  Per_Km_Rate  Per_Minute_Rate  \\\n",
      "1                 High   Clear        NaN         0.62             0.43   \n",
      "3                  Low     NaN       3.48         0.51             0.15   \n",
      "4                 High   Clear       2.93         0.63             0.32   \n",
      "6                 High    Rain       3.51         1.66              NaN   \n",
      "7                  NaN   Clear       2.97         1.87             0.23   \n",
      "..                 ...     ...        ...          ...              ...   \n",
      "991             Medium    Rain       2.90         1.10             0.15   \n",
      "993             Medium   Clear       2.65         1.35              NaN   \n",
      "996             Medium   Clear       3.12         0.61              NaN   \n",
      "997                Low    Rain       2.08         1.78              NaN   \n",
      "999             Medium   Clear       4.34          NaN             0.23   \n",
      "\n",
      "     Trip_Duration_Minutes  Trip_Price  \n",
      "1                    40.57         NaN  \n",
      "3                   116.81     36.4698  \n",
      "4                    22.64     15.6180  \n",
      "6                     5.05     11.2645  \n",
      "7                      NaN    101.1216  \n",
      "..                     ...         ...  \n",
      "991                   9.99         NaN  \n",
      "993                  25.61     55.3348  \n",
      "996                  61.96     62.1295  \n",
      "997                  54.18     33.1236  \n",
      "999                  29.69     45.4437  \n",
      "\n",
      "[438 rows x 11 columns]\n"
     ]
    }
   ],
   "source": [
    "df_with_nulls = df[df.isnull().any(axis=1)]\n",
    "print(df_with_nulls)\n"
   ]
  },
  {
   "cell_type": "code",
   "execution_count": 58,
   "id": "3483faf9",
   "metadata": {},
   "outputs": [
    {
     "data": {
      "text/plain": [
       "Index(['Trip_Distance_km', 'Time_of_Day', 'Day_of_Week', 'Passenger_Count',\n",
       "       'Traffic_Conditions', 'Weather', 'Base_Fare', 'Per_Km_Rate',\n",
       "       'Per_Minute_Rate', 'Trip_Duration_Minutes', 'Trip_Price'],\n",
       "      dtype='object')"
      ]
     },
     "execution_count": 58,
     "metadata": {},
     "output_type": "execute_result"
    }
   ],
   "source": [
    "df.columns"
   ]
  },
  {
   "cell_type": "code",
   "execution_count": null,
   "id": "040069b2",
   "metadata": {},
   "outputs": [
    {
     "data": {
      "image/png": "[encoded data removed]",
      "text/plain": [
       "<Figure size 640x480 with 1 Axes>"
      ]
     },
     "metadata": {},
     "output_type": "display_data"
    }
   ],
   "source": [
    "# Boxplot för antal kilometer \n",
    "sns.boxplot(x=df[\"Trip_Distance_km\"])\n",
    "plt.show()\n",
    "\n"
   ]
  },
  {
   "cell_type": "code",
   "execution_count": 62,
   "id": "b571d455",
   "metadata": {},
   "outputs": [
    {
     "name": "stdout",
     "output_type": "stream",
     "text": [
      "22     105.943550\n",
      "27     138.098328\n",
      "64     146.067047\n",
      "108    112.830958\n",
      "110    102.747556\n",
      "141    109.616082\n",
      "225    130.809001\n",
      "267    116.196064\n",
      "268    139.062230\n",
      "287    100.380420\n",
      "302    145.747060\n",
      "338    116.667681\n",
      "410    104.371791\n",
      "481    107.786832\n",
      "532    139.476515\n",
      "588    122.820191\n",
      "616    138.763887\n",
      "747    101.039704\n",
      "797    108.146994\n",
      "835    126.547628\n",
      "Name: Trip_Distance_km, dtype: float64\n"
     ]
    }
   ],
   "source": [
    "Q1 = df[\"Trip_Distance_km\"].quantile(0.25)\n",
    "Q3 = df[\"Trip_Distance_km\"].quantile(0.75)\n",
    "IQR = Q3 - Q1\n",
    "\n",
    "outliers = df[(df[\"Trip_Distance_km\"] < Q1 - 1.5*IQR) | \n",
    "              (df[\"Trip_Distance_km\"] > Q3 + 1.5*IQR)]\n",
    "\n",
    "print(outliers[\"Trip_Distance_km\"].head(20))"
   ]
  },
  {
   "cell_type": "markdown",
   "id": "87604794",
   "metadata": {},
   "source": [
    "Hur påverkas medelevärde och median av outliers?"
   ]
  },
  {
   "cell_type": "code",
   "execution_count": 63,
   "id": "735a3f4f",
   "metadata": {},
   "outputs": [
    {
     "name": "stdout",
     "output_type": "stream",
     "text": [
      "Med outliers:\n",
      "count    950.000000\n",
      "mean      27.070547\n",
      "std       19.905300\n",
      "min        1.230000\n",
      "25%       12.632500\n",
      "50%       25.830000\n",
      "75%       38.405000\n",
      "max      146.067047\n",
      "Name: Trip_Distance_km, dtype: float64\n",
      "\n",
      "Utan outliers:\n",
      "count    930.000000\n",
      "mean      25.057957\n",
      "std       14.383638\n",
      "min        1.230000\n",
      "25%       12.207500\n",
      "50%       25.420000\n",
      "75%       37.652500\n",
      "max       49.990000\n",
      "Name: Trip_Distance_km, dtype: float64\n"
     ]
    }
   ],
   "source": [
    "print(\"Med outliers:\")\n",
    "print(df[\"Trip_Distance_km\"].describe())\n",
    "\n",
    "print(\"\\nUtan outliers:\")\n",
    "print(df.loc[~df.index.isin(outliers.index), \"Trip_Distance_km\"].describe())"
   ]
  },
  {
   "cell_type": "markdown",
   "id": "28789199",
   "metadata": {},
   "source": [
    "Utifrån ovanstående, där jag ser att medianen påverkas ytterst lite av outliers, behåller jag outliers och ersätter nullvärden i Trip_Distance_km med median värde. Sparar den städade datan i en ny df (df_cleaned, som jag senare kommer att spara till en ny csv-fil när den är klar)"
   ]
  },
  {
   "cell_type": "code",
   "execution_count": 68,
   "id": "f521ebd3",
   "metadata": {},
   "outputs": [
    {
     "data": {
      "text/plain": [
       "(count    1000.000000\n",
       " mean       27.008520\n",
       " std        19.402661\n",
       " min         1.230000\n",
       " 25%        13.107500\n",
       " 50%        25.830000\n",
       " 75%        37.782500\n",
       " max       146.067047\n",
       " Name: Trip_Distance_km, dtype: float64,\n",
       " count    950.000000\n",
       " mean      27.070547\n",
       " std       19.905300\n",
       " min        1.230000\n",
       " 25%       12.632500\n",
       " 50%       25.830000\n",
       " 75%       38.405000\n",
       " max      146.067047\n",
       " Name: Trip_Distance_km, dtype: float64)"
      ]
     },
     "execution_count": 68,
     "metadata": {},
     "output_type": "execute_result"
    }
   ],
   "source": [
    "distance_median = df[\"Trip_Distance_km\"].median()\n",
    "\n",
    "df_cleaned = df.copy()\n",
    "df_cleaned[\"Trip_Distance_km\"] = df_cleaned[\"Trip_Distance_km\"].fillna(distance_median)\n",
    "\n",
    "df_cleaned[\"Trip_Distance_km\"].describe(), df[\"Trip_Distance_km\"].describe()"
   ]
  },
  {
   "cell_type": "code",
   "execution_count": 70,
   "id": "a90b4492",
   "metadata": {},
   "outputs": [
    {
     "name": "stdout",
     "output_type": "stream",
     "text": [
      "<class 'pandas.core.frame.DataFrame'>\n",
      "RangeIndex: 1000 entries, 0 to 999\n",
      "Data columns (total 11 columns):\n",
      " #   Column                 Non-Null Count  Dtype  \n",
      "---  ------                 --------------  -----  \n",
      " 0   Trip_Distance_km       1000 non-null   float64\n",
      " 1   Time_of_Day            950 non-null    object \n",
      " 2   Day_of_Week            950 non-null    object \n",
      " 3   Passenger_Count        950 non-null    float64\n",
      " 4   Traffic_Conditions     950 non-null    object \n",
      " 5   Weather                950 non-null    object \n",
      " 6   Base_Fare              950 non-null    float64\n",
      " 7   Per_Km_Rate            950 non-null    float64\n",
      " 8   Per_Minute_Rate        950 non-null    float64\n",
      " 9   Trip_Duration_Minutes  950 non-null    float64\n",
      " 10  Trip_Price             951 non-null    float64\n",
      "dtypes: float64(7), object(4)\n",
      "memory usage: 86.1+ KB\n"
     ]
    }
   ],
   "source": [
    "df_cleaned.info()"
   ]
  },
  {
   "cell_type": "markdown",
   "id": "6cc1e259",
   "metadata": {},
   "source": [
    "##### Kontrollera Time_Of_Day"
   ]
  },
  {
   "cell_type": "code",
   "execution_count": 75,
   "id": "afc30d4d",
   "metadata": {},
   "outputs": [
    {
     "name": "stdout",
     "output_type": "stream",
     "text": [
      "Time_of_Day\n",
      "Afternoon    371\n",
      "Morning      283\n",
      "Evening      203\n",
      "Night         93\n",
      "NaN           50\n",
      "Name: count, dtype: int64\n"
     ]
    }
   ],
   "source": [
    "print(df[\"Time_of_Day\"].value_counts(dropna=False))"
   ]
  },
  {
   "cell_type": "markdown",
   "id": "90aeafcf",
   "metadata": {},
   "source": [
    "Grupperar datan på 'Time of day' och jämför med 'Trip Price' för att se om priset påverkas av vilke tid på dygnet som kunden åker. "
   ]
  },
  {
   "cell_type": "code",
   "execution_count": 76,
   "id": "3549be81",
   "metadata": {},
   "outputs": [
    {
     "data": {
      "text/html": [
       "<div>\n",
       "<style scoped>\n",
       "    .dataframe tbody tr th:only-of-type {\n",
       "        vertical-align: middle;\n",
       "    }\n",
       "\n",
       "    .dataframe tbody tr th {\n",
       "        vertical-align: top;\n",
       "    }\n",
       "\n",
       "    .dataframe thead th {\n",
       "        text-align: right;\n",
       "    }\n",
       "</style>\n",
       "<table border=\"1\" class=\"dataframe\">\n",
       "  <thead>\n",
       "    <tr style=\"text-align: right;\">\n",
       "      <th></th>\n",
       "      <th>count</th>\n",
       "      <th>mean</th>\n",
       "      <th>std</th>\n",
       "      <th>min</th>\n",
       "      <th>25%</th>\n",
       "      <th>50%</th>\n",
       "      <th>75%</th>\n",
       "      <th>max</th>\n",
       "    </tr>\n",
       "    <tr>\n",
       "      <th>Time_of_Day</th>\n",
       "      <th></th>\n",
       "      <th></th>\n",
       "      <th></th>\n",
       "      <th></th>\n",
       "      <th></th>\n",
       "      <th></th>\n",
       "      <th></th>\n",
       "      <th></th>\n",
       "    </tr>\n",
       "  </thead>\n",
       "  <tbody>\n",
       "    <tr>\n",
       "      <th>Afternoon</th>\n",
       "      <td>351.0</td>\n",
       "      <td>57.958716</td>\n",
       "      <td>43.432813</td>\n",
       "      <td>6.4729</td>\n",
       "      <td>33.3478</td>\n",
       "      <td>51.0300</td>\n",
       "      <td>69.73675</td>\n",
       "      <td>329.913004</td>\n",
       "    </tr>\n",
       "    <tr>\n",
       "      <th>Evening</th>\n",
       "      <td>197.0</td>\n",
       "      <td>56.404504</td>\n",
       "      <td>37.507576</td>\n",
       "      <td>8.6709</td>\n",
       "      <td>35.0028</td>\n",
       "      <td>48.4496</td>\n",
       "      <td>69.19380</td>\n",
       "      <td>296.088697</td>\n",
       "    </tr>\n",
       "    <tr>\n",
       "      <th>Morning</th>\n",
       "      <td>265.0</td>\n",
       "      <td>55.949429</td>\n",
       "      <td>37.786101</td>\n",
       "      <td>6.1269</td>\n",
       "      <td>33.3599</td>\n",
       "      <td>50.7312</td>\n",
       "      <td>68.37480</td>\n",
       "      <td>325.098950</td>\n",
       "    </tr>\n",
       "    <tr>\n",
       "      <th>Night</th>\n",
       "      <td>89.0</td>\n",
       "      <td>56.304401</td>\n",
       "      <td>39.712048</td>\n",
       "      <td>12.5567</td>\n",
       "      <td>35.8539</td>\n",
       "      <td>51.2721</td>\n",
       "      <td>67.73600</td>\n",
       "      <td>332.043689</td>\n",
       "    </tr>\n",
       "  </tbody>\n",
       "</table>\n",
       "</div>"
      ],
      "text/plain": [
       "             count       mean        std      min      25%      50%       75%  \\\n",
       "Time_of_Day                                                                     \n",
       "Afternoon    351.0  57.958716  43.432813   6.4729  33.3478  51.0300  69.73675   \n",
       "Evening      197.0  56.404504  37.507576   8.6709  35.0028  48.4496  69.19380   \n",
       "Morning      265.0  55.949429  37.786101   6.1269  33.3599  50.7312  68.37480   \n",
       "Night         89.0  56.304401  39.712048  12.5567  35.8539  51.2721  67.73600   \n",
       "\n",
       "                    max  \n",
       "Time_of_Day              \n",
       "Afternoon    329.913004  \n",
       "Evening      296.088697  \n",
       "Morning      325.098950  \n",
       "Night        332.043689  "
      ]
     },
     "execution_count": 76,
     "metadata": {},
     "output_type": "execute_result"
    }
   ],
   "source": [
    "df.groupby(\"Time_of_Day\")[\"Trip_Price\"].describe()"
   ]
  },
  {
   "cell_type": "markdown",
   "id": "4c5b8cb6",
   "metadata": {},
   "source": [
    "Priset påverkas väldigt lite av tid på dygnet. Efter att ha testat med 'mode' i notebooken most_common beslutar jag att ersätta nullvärden med det mest vanligt förekommande tiden på dygnet, som i det här fallet är 'Afternoon'"
   ]
  },
  {
   "cell_type": "code",
   "execution_count": 77,
   "id": "f3881e64",
   "metadata": {},
   "outputs": [
    {
     "data": {
      "text/plain": [
       "Time_of_Day\n",
       "Afternoon    57.958716\n",
       "Evening      56.404504\n",
       "Morning      55.949429\n",
       "Night        56.304401\n",
       "Name: Trip_Price, dtype: float64"
      ]
     },
     "execution_count": 77,
     "metadata": {},
     "output_type": "execute_result"
    }
   ],
   "source": [
    "df.groupby(\"Time_of_Day\")[\"Trip_Price\"].mean()"
   ]
  },
  {
   "cell_type": "code",
   "execution_count": 78,
   "id": "ec4f0b77",
   "metadata": {},
   "outputs": [
    {
     "name": "stdout",
     "output_type": "stream",
     "text": [
      "Afternoon\n"
     ]
    }
   ],
   "source": [
    "most_common = df[\"Time_of_Day\"].mode()[0]\n",
    "print(most_common)\n",
    "\n"
   ]
  },
  {
   "cell_type": "code",
   "execution_count": 79,
   "id": "d612be87",
   "metadata": {},
   "outputs": [],
   "source": [
    "df_cleaned[\"Time_of_Day\"] = df_cleaned[\"Time_of_Day\"].fillna(most_common)"
   ]
  },
  {
   "cell_type": "code",
   "execution_count": 80,
   "id": "37cac570",
   "metadata": {},
   "outputs": [
    {
     "name": "stdout",
     "output_type": "stream",
     "text": [
      "<class 'pandas.core.frame.DataFrame'>\n",
      "RangeIndex: 1000 entries, 0 to 999\n",
      "Data columns (total 11 columns):\n",
      " #   Column                 Non-Null Count  Dtype  \n",
      "---  ------                 --------------  -----  \n",
      " 0   Trip_Distance_km       1000 non-null   float64\n",
      " 1   Time_of_Day            1000 non-null   object \n",
      " 2   Day_of_Week            950 non-null    object \n",
      " 3   Passenger_Count        950 non-null    float64\n",
      " 4   Traffic_Conditions     950 non-null    object \n",
      " 5   Weather                950 non-null    object \n",
      " 6   Base_Fare              950 non-null    float64\n",
      " 7   Per_Km_Rate            950 non-null    float64\n",
      " 8   Per_Minute_Rate        950 non-null    float64\n",
      " 9   Trip_Duration_Minutes  950 non-null    float64\n",
      " 10  Trip_Price             951 non-null    float64\n",
      "dtypes: float64(7), object(4)\n",
      "memory usage: 86.1+ KB\n"
     ]
    }
   ],
   "source": [
    "df_cleaned.info()"
   ]
  },
  {
   "cell_type": "markdown",
   "id": "6d9c2a3c",
   "metadata": {},
   "source": [
    "##### Hantera nullvärden i \"Day_of_week\"\n",
    "Efter att ha utforskat kolumnen i notebooken eda_objects ser jag att det är fler resors som sker på vardagar än på helger. Ersätter jag null-värden med weekday blir det ännu fler resor som utförs på veckordagar, vilken kan vara missvisande. Beslutar mig därför för att ersätta nullvärden med texten 'Unknown' i min rensade dataframe. \n"
   ]
  },
  {
   "cell_type": "code",
   "execution_count": 82,
   "id": "40e36d93",
   "metadata": {},
   "outputs": [
    {
     "name": "stdout",
     "output_type": "stream",
     "text": [
      "<class 'pandas.core.frame.DataFrame'>\n",
      "RangeIndex: 1000 entries, 0 to 999\n",
      "Data columns (total 11 columns):\n",
      " #   Column                 Non-Null Count  Dtype  \n",
      "---  ------                 --------------  -----  \n",
      " 0   Trip_Distance_km       1000 non-null   float64\n",
      " 1   Time_of_Day            1000 non-null   object \n",
      " 2   Day_of_Week            1000 non-null   object \n",
      " 3   Passenger_Count        950 non-null    float64\n",
      " 4   Traffic_Conditions     950 non-null    object \n",
      " 5   Weather                950 non-null    object \n",
      " 6   Base_Fare              950 non-null    float64\n",
      " 7   Per_Km_Rate            950 non-null    float64\n",
      " 8   Per_Minute_Rate        950 non-null    float64\n",
      " 9   Trip_Duration_Minutes  950 non-null    float64\n",
      " 10  Trip_Price             951 non-null    float64\n",
      "dtypes: float64(7), object(4)\n",
      "memory usage: 86.1+ KB\n"
     ]
    }
   ],
   "source": [
    "df_cleaned[\"Day_of_Week\"] = df_cleaned[\"Day_of_Week\"].fillna(\"Unknown\")\n",
    "\n",
    "df_cleaned.info()"
   ]
  },
  {
   "cell_type": "markdown",
   "id": "49af9d32",
   "metadata": {},
   "source": [
    "##### Hantera nullvärden i \"Traffic conditions\"\n",
    "Efter att ha utforskat kolumnen i notebooken eda_objects ser jag att det finns en viss korrelation mellan mängden trafik och pris. Ersätter jag nullvärden med 'most common' finns risk att priset inte återspeglas i trafiksituationen. \n",
    "Jag bestämmer mig därför för att ändra värdet till Unknown även här. "
   ]
  },
  {
   "cell_type": "code",
   "execution_count": 83,
   "id": "b1d5cd2c",
   "metadata": {},
   "outputs": [
    {
     "name": "stdout",
     "output_type": "stream",
     "text": [
      "<class 'pandas.core.frame.DataFrame'>\n",
      "RangeIndex: 1000 entries, 0 to 999\n",
      "Data columns (total 11 columns):\n",
      " #   Column                 Non-Null Count  Dtype  \n",
      "---  ------                 --------------  -----  \n",
      " 0   Trip_Distance_km       1000 non-null   float64\n",
      " 1   Time_of_Day            1000 non-null   object \n",
      " 2   Day_of_Week            1000 non-null   object \n",
      " 3   Passenger_Count        950 non-null    float64\n",
      " 4   Traffic_Conditions     1000 non-null   object \n",
      " 5   Weather                950 non-null    object \n",
      " 6   Base_Fare              950 non-null    float64\n",
      " 7   Per_Km_Rate            950 non-null    float64\n",
      " 8   Per_Minute_Rate        950 non-null    float64\n",
      " 9   Trip_Duration_Minutes  950 non-null    float64\n",
      " 10  Trip_Price             951 non-null    float64\n",
      "dtypes: float64(7), object(4)\n",
      "memory usage: 86.1+ KB\n"
     ]
    }
   ],
   "source": [
    "df_cleaned[\"Traffic_Conditions\"] = df_cleaned[\"Traffic_Conditions\"].fillna(\"Unknown\")\n",
    "\n",
    "df_cleaned.info()"
   ]
  },
  {
   "cell_type": "markdown",
   "id": "4d6e647c",
   "metadata": {},
   "source": [
    "##### Hantera nullvärden i \"Weather\"\n",
    "Efter att ha utforskat kolumnen i notebooken eda_objects ser jag att det finns en viss korrelation mellan mängden väder och pris. Ersätter jag nullvärden med 'most common' finns det risk att det det blir en snedfördelning av 'Clear' i datasetet. Ersätter därför nullvärden med 'Unknown' även här. "
   ]
  },
  {
   "cell_type": "code",
   "execution_count": 84,
   "id": "3c61e30f",
   "metadata": {},
   "outputs": [
    {
     "name": "stdout",
     "output_type": "stream",
     "text": [
      "<class 'pandas.core.frame.DataFrame'>\n",
      "RangeIndex: 1000 entries, 0 to 999\n",
      "Data columns (total 11 columns):\n",
      " #   Column                 Non-Null Count  Dtype  \n",
      "---  ------                 --------------  -----  \n",
      " 0   Trip_Distance_km       1000 non-null   float64\n",
      " 1   Time_of_Day            1000 non-null   object \n",
      " 2   Day_of_Week            1000 non-null   object \n",
      " 3   Passenger_Count        950 non-null    float64\n",
      " 4   Traffic_Conditions     1000 non-null   object \n",
      " 5   Weather                1000 non-null   object \n",
      " 6   Base_Fare              950 non-null    float64\n",
      " 7   Per_Km_Rate            950 non-null    float64\n",
      " 8   Per_Minute_Rate        950 non-null    float64\n",
      " 9   Trip_Duration_Minutes  950 non-null    float64\n",
      " 10  Trip_Price             951 non-null    float64\n",
      "dtypes: float64(7), object(4)\n",
      "memory usage: 86.1+ KB\n"
     ]
    }
   ],
   "source": [
    "df_cleaned[\"Weather\"] = df_cleaned[\"Weather\"].fillna(\"Unknown\")\n",
    "\n",
    "df_cleaned.info()"
   ]
  }
 ],
 "metadata": {
  "kernelspec": {
   "display_name": "venv",
   "language": "python",
   "name": "python3"
  },
  "language_info": {
   "codemirror_mode": {
    "name": "ipython",
    "version": 3
   },
   "file_extension": ".py",
   "mimetype": "text/x-python",
   "name": "python",
   "nbconvert_exporter": "python",
   "pygments_lexer": "ipython3",
   "version": "3.13.3"
  }
 },
 "nbformat": 4,
 "nbformat_minor": 5
}
