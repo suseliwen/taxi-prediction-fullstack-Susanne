{
 "cells": [
  {
   "cell_type": "markdown",
   "id": "20dfb5e1",
   "metadata": {},
   "source": [
    "Testar att använda mig av 'mode' för att hitta most common value i de kategoriska tabellerna, för att se om det är bästa sättet att gå. \n",
    "\n",
    "- Mode = det mest frekventa värdet i ett dataset (det som förekommer flest gånger)\n",
    "- Kan vara bra för kategoriska kolumner, där man inte kan räkna ut medelvärde eller median. "
   ]
  },
  {
   "cell_type": "code",
   "execution_count": 1,
   "id": "5beebd77",
   "metadata": {},
   "outputs": [
    {
     "name": "stdout",
     "output_type": "stream",
     "text": [
      "C:\\Users\\susan\\KodPython\\LAB_taxi_pred\\src\\taxipred\\data\\taxi_trip_pricing.csv\n"
     ]
    },
    {
     "data": {
      "text/html": [
       "<div>\n",
       "<style scoped>\n",
       "    .dataframe tbody tr th:only-of-type {\n",
       "        vertical-align: middle;\n",
       "    }\n",
       "\n",
       "    .dataframe tbody tr th {\n",
       "        vertical-align: top;\n",
       "    }\n",
       "\n",
       "    .dataframe thead th {\n",
       "        text-align: right;\n",
       "    }\n",
       "</style>\n",
       "<table border=\"1\" class=\"dataframe\">\n",
       "  <thead>\n",
       "    <tr style=\"text-align: right;\">\n",
       "      <th></th>\n",
       "      <th>Trip_Distance_km</th>\n",
       "      <th>Time_of_Day</th>\n",
       "      <th>Day_of_Week</th>\n",
       "      <th>Passenger_Count</th>\n",
       "      <th>Traffic_Conditions</th>\n",
       "      <th>Weather</th>\n",
       "      <th>Base_Fare</th>\n",
       "      <th>Per_Km_Rate</th>\n",
       "      <th>Per_Minute_Rate</th>\n",
       "      <th>Trip_Duration_Minutes</th>\n",
       "      <th>Trip_Price</th>\n",
       "    </tr>\n",
       "  </thead>\n",
       "  <tbody>\n",
       "    <tr>\n",
       "      <th>0</th>\n",
       "      <td>19.35</td>\n",
       "      <td>Morning</td>\n",
       "      <td>Weekday</td>\n",
       "      <td>3.0</td>\n",
       "      <td>Low</td>\n",
       "      <td>Clear</td>\n",
       "      <td>3.56</td>\n",
       "      <td>0.80</td>\n",
       "      <td>0.32</td>\n",
       "      <td>53.82</td>\n",
       "      <td>36.2624</td>\n",
       "    </tr>\n",
       "    <tr>\n",
       "      <th>1</th>\n",
       "      <td>47.59</td>\n",
       "      <td>Afternoon</td>\n",
       "      <td>Weekday</td>\n",
       "      <td>1.0</td>\n",
       "      <td>High</td>\n",
       "      <td>Clear</td>\n",
       "      <td>NaN</td>\n",
       "      <td>0.62</td>\n",
       "      <td>0.43</td>\n",
       "      <td>40.57</td>\n",
       "      <td>NaN</td>\n",
       "    </tr>\n",
       "    <tr>\n",
       "      <th>2</th>\n",
       "      <td>36.87</td>\n",
       "      <td>Evening</td>\n",
       "      <td>Weekend</td>\n",
       "      <td>1.0</td>\n",
       "      <td>High</td>\n",
       "      <td>Clear</td>\n",
       "      <td>2.70</td>\n",
       "      <td>1.21</td>\n",
       "      <td>0.15</td>\n",
       "      <td>37.27</td>\n",
       "      <td>52.9032</td>\n",
       "    </tr>\n",
       "    <tr>\n",
       "      <th>3</th>\n",
       "      <td>30.33</td>\n",
       "      <td>Evening</td>\n",
       "      <td>Weekday</td>\n",
       "      <td>4.0</td>\n",
       "      <td>Low</td>\n",
       "      <td>NaN</td>\n",
       "      <td>3.48</td>\n",
       "      <td>0.51</td>\n",
       "      <td>0.15</td>\n",
       "      <td>116.81</td>\n",
       "      <td>36.4698</td>\n",
       "    </tr>\n",
       "    <tr>\n",
       "      <th>4</th>\n",
       "      <td>NaN</td>\n",
       "      <td>Evening</td>\n",
       "      <td>Weekday</td>\n",
       "      <td>3.0</td>\n",
       "      <td>High</td>\n",
       "      <td>Clear</td>\n",
       "      <td>2.93</td>\n",
       "      <td>0.63</td>\n",
       "      <td>0.32</td>\n",
       "      <td>22.64</td>\n",
       "      <td>15.6180</td>\n",
       "    </tr>\n",
       "  </tbody>\n",
       "</table>\n",
       "</div>"
      ],
      "text/plain": [
       "   Trip_Distance_km Time_of_Day Day_of_Week  Passenger_Count  \\\n",
       "0             19.35     Morning     Weekday              3.0   \n",
       "1             47.59   Afternoon     Weekday              1.0   \n",
       "2             36.87     Evening     Weekend              1.0   \n",
       "3             30.33     Evening     Weekday              4.0   \n",
       "4               NaN     Evening     Weekday              3.0   \n",
       "\n",
       "  Traffic_Conditions Weather  Base_Fare  Per_Km_Rate  Per_Minute_Rate  \\\n",
       "0                Low   Clear       3.56         0.80             0.32   \n",
       "1               High   Clear        NaN         0.62             0.43   \n",
       "2               High   Clear       2.70         1.21             0.15   \n",
       "3                Low     NaN       3.48         0.51             0.15   \n",
       "4               High   Clear       2.93         0.63             0.32   \n",
       "\n",
       "   Trip_Duration_Minutes  Trip_Price  \n",
       "0                  53.82     36.2624  \n",
       "1                  40.57         NaN  \n",
       "2                  37.27     52.9032  \n",
       "3                 116.81     36.4698  \n",
       "4                  22.64     15.6180  "
      ]
     },
     "execution_count": 1,
     "metadata": {},
     "output_type": "execute_result"
    }
   ],
   "source": [
    "import pandas as pd\n",
    "import matplotlib.pyplot as plt\n",
    "import seaborn as sns\n",
    "from taxipred.utils.constants import TAXI_CSV_PATH\n",
    "\n",
    "\n",
    "df = pd.read_csv(TAXI_CSV_PATH)\n",
    "\n",
    "#Skriver ut de 5 första raderna i datasetet\n",
    "df.head()"
   ]
  },
  {
   "cell_type": "code",
   "execution_count": 4,
   "id": "220cd445",
   "metadata": {},
   "outputs": [
    {
     "name": "stdout",
     "output_type": "stream",
     "text": [
      "<class 'pandas.core.frame.DataFrame'>\n",
      "RangeIndex: 1000 entries, 0 to 999\n",
      "Data columns (total 11 columns):\n",
      " #   Column                 Non-Null Count  Dtype  \n",
      "---  ------                 --------------  -----  \n",
      " 0   Trip_Distance_km       950 non-null    float64\n",
      " 1   Time_of_Day            950 non-null    object \n",
      " 2   Day_of_Week            950 non-null    object \n",
      " 3   Passenger_Count        950 non-null    float64\n",
      " 4   Traffic_Conditions     950 non-null    object \n",
      " 5   Weather                950 non-null    object \n",
      " 6   Base_Fare              950 non-null    float64\n",
      " 7   Per_Km_Rate            950 non-null    float64\n",
      " 8   Per_Minute_Rate        950 non-null    float64\n",
      " 9   Trip_Duration_Minutes  950 non-null    float64\n",
      " 10  Trip_Price             951 non-null    float64\n",
      "dtypes: float64(7), object(4)\n",
      "memory usage: 86.1+ KB\n"
     ]
    }
   ],
   "source": [
    "df.info()"
   ]
  },
  {
   "cell_type": "code",
   "execution_count": 5,
   "id": "67006ed0",
   "metadata": {},
   "outputs": [
    {
     "name": "stdout",
     "output_type": "stream",
     "text": [
      "Afternoon\n"
     ]
    }
   ],
   "source": [
    "df_cleaned = df.copy()\n",
    "\n",
    "most_common_time = df_cleaned[\"Time_of_Day\"].mode()[0]\n",
    "print(most_common_time)"
   ]
  },
  {
   "cell_type": "code",
   "execution_count": 10,
   "id": "89bd01ec",
   "metadata": {},
   "outputs": [
    {
     "data": {
      "text/html": [
       "<div>\n",
       "<style scoped>\n",
       "    .dataframe tbody tr th:only-of-type {\n",
       "        vertical-align: middle;\n",
       "    }\n",
       "\n",
       "    .dataframe tbody tr th {\n",
       "        vertical-align: top;\n",
       "    }\n",
       "\n",
       "    .dataframe thead th {\n",
       "        text-align: right;\n",
       "    }\n",
       "</style>\n",
       "<table border=\"1\" class=\"dataframe\">\n",
       "  <thead>\n",
       "    <tr style=\"text-align: right;\">\n",
       "      <th></th>\n",
       "      <th>count</th>\n",
       "      <th>mean</th>\n",
       "      <th>std</th>\n",
       "      <th>min</th>\n",
       "      <th>25%</th>\n",
       "      <th>50%</th>\n",
       "      <th>75%</th>\n",
       "      <th>max</th>\n",
       "    </tr>\n",
       "    <tr>\n",
       "      <th>Time_of_Day</th>\n",
       "      <th></th>\n",
       "      <th></th>\n",
       "      <th></th>\n",
       "      <th></th>\n",
       "      <th></th>\n",
       "      <th></th>\n",
       "      <th></th>\n",
       "      <th></th>\n",
       "    </tr>\n",
       "  </thead>\n",
       "  <tbody>\n",
       "    <tr>\n",
       "      <th>Afternoon</th>\n",
       "      <td>351.0</td>\n",
       "      <td>57.958716</td>\n",
       "      <td>43.432813</td>\n",
       "      <td>6.4729</td>\n",
       "      <td>33.3478</td>\n",
       "      <td>51.0300</td>\n",
       "      <td>69.73675</td>\n",
       "      <td>329.913004</td>\n",
       "    </tr>\n",
       "    <tr>\n",
       "      <th>Evening</th>\n",
       "      <td>197.0</td>\n",
       "      <td>56.404504</td>\n",
       "      <td>37.507576</td>\n",
       "      <td>8.6709</td>\n",
       "      <td>35.0028</td>\n",
       "      <td>48.4496</td>\n",
       "      <td>69.19380</td>\n",
       "      <td>296.088697</td>\n",
       "    </tr>\n",
       "    <tr>\n",
       "      <th>Morning</th>\n",
       "      <td>265.0</td>\n",
       "      <td>55.949429</td>\n",
       "      <td>37.786101</td>\n",
       "      <td>6.1269</td>\n",
       "      <td>33.3599</td>\n",
       "      <td>50.7312</td>\n",
       "      <td>68.37480</td>\n",
       "      <td>325.098950</td>\n",
       "    </tr>\n",
       "    <tr>\n",
       "      <th>Night</th>\n",
       "      <td>89.0</td>\n",
       "      <td>56.304401</td>\n",
       "      <td>39.712048</td>\n",
       "      <td>12.5567</td>\n",
       "      <td>35.8539</td>\n",
       "      <td>51.2721</td>\n",
       "      <td>67.73600</td>\n",
       "      <td>332.043689</td>\n",
       "    </tr>\n",
       "  </tbody>\n",
       "</table>\n",
       "</div>"
      ],
      "text/plain": [
       "             count       mean        std      min      25%      50%       75%  \\\n",
       "Time_of_Day                                                                     \n",
       "Afternoon    351.0  57.958716  43.432813   6.4729  33.3478  51.0300  69.73675   \n",
       "Evening      197.0  56.404504  37.507576   8.6709  35.0028  48.4496  69.19380   \n",
       "Morning      265.0  55.949429  37.786101   6.1269  33.3599  50.7312  68.37480   \n",
       "Night         89.0  56.304401  39.712048  12.5567  35.8539  51.2721  67.73600   \n",
       "\n",
       "                    max  \n",
       "Time_of_Day              \n",
       "Afternoon    329.913004  \n",
       "Evening      296.088697  \n",
       "Morning      325.098950  \n",
       "Night        332.043689  "
      ]
     },
     "execution_count": 10,
     "metadata": {},
     "output_type": "execute_result"
    }
   ],
   "source": [
    "df.groupby(\"Time_of_Day\")[\"Trip_Price\"].describe()"
   ]
  },
  {
   "cell_type": "code",
   "execution_count": 6,
   "id": "491e2688",
   "metadata": {},
   "outputs": [
    {
     "name": "stdout",
     "output_type": "stream",
     "text": [
      "Weekday\n"
     ]
    }
   ],
   "source": [
    "most_common_day = df_cleaned[\"Day_of_Week\"].mode()[0]\n",
    "print(most_common_day)"
   ]
  },
  {
   "cell_type": "code",
   "execution_count": 24,
   "id": "1c945a37",
   "metadata": {},
   "outputs": [
    {
     "data": {
      "text/plain": [
       "Day_of_Week\n",
       "Weekday    655\n",
       "Weekend    295\n",
       "Name: count, dtype: int64"
      ]
     },
     "execution_count": 24,
     "metadata": {},
     "output_type": "execute_result"
    }
   ],
   "source": [
    "df[\"Day_of_Week\"].value_counts()\n"
   ]
  },
  {
   "cell_type": "code",
   "execution_count": 11,
   "id": "1311a2b0",
   "metadata": {},
   "outputs": [
    {
     "data": {
      "text/html": [
       "<div>\n",
       "<style scoped>\n",
       "    .dataframe tbody tr th:only-of-type {\n",
       "        vertical-align: middle;\n",
       "    }\n",
       "\n",
       "    .dataframe tbody tr th {\n",
       "        vertical-align: top;\n",
       "    }\n",
       "\n",
       "    .dataframe thead th {\n",
       "        text-align: right;\n",
       "    }\n",
       "</style>\n",
       "<table border=\"1\" class=\"dataframe\">\n",
       "  <thead>\n",
       "    <tr style=\"text-align: right;\">\n",
       "      <th></th>\n",
       "      <th>count</th>\n",
       "      <th>mean</th>\n",
       "      <th>std</th>\n",
       "      <th>min</th>\n",
       "      <th>25%</th>\n",
       "      <th>50%</th>\n",
       "      <th>75%</th>\n",
       "      <th>max</th>\n",
       "    </tr>\n",
       "    <tr>\n",
       "      <th>Day_of_Week</th>\n",
       "      <th></th>\n",
       "      <th></th>\n",
       "      <th></th>\n",
       "      <th></th>\n",
       "      <th></th>\n",
       "      <th></th>\n",
       "      <th></th>\n",
       "      <th></th>\n",
       "    </tr>\n",
       "  </thead>\n",
       "  <tbody>\n",
       "    <tr>\n",
       "      <th>Weekday</th>\n",
       "      <td>622.0</td>\n",
       "      <td>58.012418</td>\n",
       "      <td>43.436509</td>\n",
       "      <td>6.4729</td>\n",
       "      <td>34.260475</td>\n",
       "      <td>51.0126</td>\n",
       "      <td>69.30130</td>\n",
       "      <td>332.043689</td>\n",
       "    </tr>\n",
       "    <tr>\n",
       "      <th>Weekend</th>\n",
       "      <td>283.0</td>\n",
       "      <td>55.001961</td>\n",
       "      <td>35.550441</td>\n",
       "      <td>6.1269</td>\n",
       "      <td>33.833300</td>\n",
       "      <td>47.4882</td>\n",
       "      <td>68.98315</td>\n",
       "      <td>322.725996</td>\n",
       "    </tr>\n",
       "  </tbody>\n",
       "</table>\n",
       "</div>"
      ],
      "text/plain": [
       "             count       mean        std     min        25%      50%  \\\n",
       "Day_of_Week                                                            \n",
       "Weekday      622.0  58.012418  43.436509  6.4729  34.260475  51.0126   \n",
       "Weekend      283.0  55.001961  35.550441  6.1269  33.833300  47.4882   \n",
       "\n",
       "                  75%         max  \n",
       "Day_of_Week                        \n",
       "Weekday      69.30130  332.043689  \n",
       "Weekend      68.98315  322.725996  "
      ]
     },
     "execution_count": 11,
     "metadata": {},
     "output_type": "execute_result"
    }
   ],
   "source": [
    "df.groupby(\"Day_of_Week\")[\"Trip_Price\"].describe()"
   ]
  },
  {
   "cell_type": "code",
   "execution_count": 8,
   "id": "020cfa2e",
   "metadata": {},
   "outputs": [
    {
     "name": "stdout",
     "output_type": "stream",
     "text": [
      "Low\n"
     ]
    }
   ],
   "source": [
    "most_common_traffic_condition = df_cleaned[\"Traffic_Conditions\"].mode()[0]\n",
    "print(most_common_traffic_condition)                 "
   ]
  },
  {
   "cell_type": "code",
   "execution_count": 12,
   "id": "8e827e1e",
   "metadata": {},
   "outputs": [
    {
     "data": {
      "text/html": [
       "<div>\n",
       "<style scoped>\n",
       "    .dataframe tbody tr th:only-of-type {\n",
       "        vertical-align: middle;\n",
       "    }\n",
       "\n",
       "    .dataframe tbody tr th {\n",
       "        vertical-align: top;\n",
       "    }\n",
       "\n",
       "    .dataframe thead th {\n",
       "        text-align: right;\n",
       "    }\n",
       "</style>\n",
       "<table border=\"1\" class=\"dataframe\">\n",
       "  <thead>\n",
       "    <tr style=\"text-align: right;\">\n",
       "      <th></th>\n",
       "      <th>count</th>\n",
       "      <th>mean</th>\n",
       "      <th>std</th>\n",
       "      <th>min</th>\n",
       "      <th>25%</th>\n",
       "      <th>50%</th>\n",
       "      <th>75%</th>\n",
       "      <th>max</th>\n",
       "    </tr>\n",
       "    <tr>\n",
       "      <th>Traffic_Conditions</th>\n",
       "      <th></th>\n",
       "      <th></th>\n",
       "      <th></th>\n",
       "      <th></th>\n",
       "      <th></th>\n",
       "      <th></th>\n",
       "      <th></th>\n",
       "      <th></th>\n",
       "    </tr>\n",
       "  </thead>\n",
       "  <tbody>\n",
       "    <tr>\n",
       "      <th>High</th>\n",
       "      <td>172.0</td>\n",
       "      <td>65.059510</td>\n",
       "      <td>57.714761</td>\n",
       "      <td>9.8718</td>\n",
       "      <td>32.37305</td>\n",
       "      <td>55.13875</td>\n",
       "      <td>74.708975</td>\n",
       "      <td>332.043689</td>\n",
       "    </tr>\n",
       "    <tr>\n",
       "      <th>Low</th>\n",
       "      <td>374.0</td>\n",
       "      <td>55.597238</td>\n",
       "      <td>36.185159</td>\n",
       "      <td>6.1269</td>\n",
       "      <td>33.90040</td>\n",
       "      <td>48.39620</td>\n",
       "      <td>67.974850</td>\n",
       "      <td>296.088697</td>\n",
       "    </tr>\n",
       "    <tr>\n",
       "      <th>Medium</th>\n",
       "      <td>355.0</td>\n",
       "      <td>54.547422</td>\n",
       "      <td>35.389681</td>\n",
       "      <td>6.4729</td>\n",
       "      <td>34.39065</td>\n",
       "      <td>48.81080</td>\n",
       "      <td>65.938900</td>\n",
       "      <td>329.913004</td>\n",
       "    </tr>\n",
       "  </tbody>\n",
       "</table>\n",
       "</div>"
      ],
      "text/plain": [
       "                    count       mean        std     min       25%       50%  \\\n",
       "Traffic_Conditions                                                            \n",
       "High                172.0  65.059510  57.714761  9.8718  32.37305  55.13875   \n",
       "Low                 374.0  55.597238  36.185159  6.1269  33.90040  48.39620   \n",
       "Medium              355.0  54.547422  35.389681  6.4729  34.39065  48.81080   \n",
       "\n",
       "                          75%         max  \n",
       "Traffic_Conditions                         \n",
       "High                74.708975  332.043689  \n",
       "Low                 67.974850  296.088697  \n",
       "Medium              65.938900  329.913004  "
      ]
     },
     "execution_count": 12,
     "metadata": {},
     "output_type": "execute_result"
    }
   ],
   "source": [
    "df.groupby(\"Traffic_Conditions\")[\"Trip_Price\"].describe()"
   ]
  },
  {
   "cell_type": "code",
   "execution_count": 9,
   "id": "5fd283d9",
   "metadata": {},
   "outputs": [
    {
     "name": "stdout",
     "output_type": "stream",
     "text": [
      "Clear\n"
     ]
    }
   ],
   "source": [
    "most_common_weather = df_cleaned[\"Weather\"].mode()[0]\n",
    "print(most_common_weather) \n",
    "\n",
    "most_common_weather"
   ]
  },
  {
   "cell_type": "code",
   "execution_count": 13,
   "id": "5feda43d",
   "metadata": {},
   "outputs": [
    {
     "data": {
      "text/html": [
       "<div>\n",
       "<style scoped>\n",
       "    .dataframe tbody tr th:only-of-type {\n",
       "        vertical-align: middle;\n",
       "    }\n",
       "\n",
       "    .dataframe tbody tr th {\n",
       "        vertical-align: top;\n",
       "    }\n",
       "\n",
       "    .dataframe thead th {\n",
       "        text-align: right;\n",
       "    }\n",
       "</style>\n",
       "<table border=\"1\" class=\"dataframe\">\n",
       "  <thead>\n",
       "    <tr style=\"text-align: right;\">\n",
       "      <th></th>\n",
       "      <th>count</th>\n",
       "      <th>mean</th>\n",
       "      <th>std</th>\n",
       "      <th>min</th>\n",
       "      <th>25%</th>\n",
       "      <th>50%</th>\n",
       "      <th>75%</th>\n",
       "      <th>max</th>\n",
       "    </tr>\n",
       "    <tr>\n",
       "      <th>Weather</th>\n",
       "      <th></th>\n",
       "      <th></th>\n",
       "      <th></th>\n",
       "      <th></th>\n",
       "      <th></th>\n",
       "      <th></th>\n",
       "      <th></th>\n",
       "      <th></th>\n",
       "    </tr>\n",
       "  </thead>\n",
       "  <tbody>\n",
       "    <tr>\n",
       "      <th>Clear</th>\n",
       "      <td>634.0</td>\n",
       "      <td>55.809128</td>\n",
       "      <td>39.275815</td>\n",
       "      <td>6.1269</td>\n",
       "      <td>33.377700</td>\n",
       "      <td>48.61490</td>\n",
       "      <td>68.843825</td>\n",
       "      <td>332.043689</td>\n",
       "    </tr>\n",
       "    <tr>\n",
       "      <th>Rain</th>\n",
       "      <td>216.0</td>\n",
       "      <td>59.769260</td>\n",
       "      <td>46.268546</td>\n",
       "      <td>9.8005</td>\n",
       "      <td>34.138025</td>\n",
       "      <td>52.68775</td>\n",
       "      <td>69.780725</td>\n",
       "      <td>329.913004</td>\n",
       "    </tr>\n",
       "    <tr>\n",
       "      <th>Snow</th>\n",
       "      <td>55.0</td>\n",
       "      <td>57.815842</td>\n",
       "      <td>34.458712</td>\n",
       "      <td>8.9203</td>\n",
       "      <td>41.707000</td>\n",
       "      <td>50.07450</td>\n",
       "      <td>66.011800</td>\n",
       "      <td>233.008285</td>\n",
       "    </tr>\n",
       "  </tbody>\n",
       "</table>\n",
       "</div>"
      ],
      "text/plain": [
       "         count       mean        std     min        25%       50%        75%  \\\n",
       "Weather                                                                        \n",
       "Clear    634.0  55.809128  39.275815  6.1269  33.377700  48.61490  68.843825   \n",
       "Rain     216.0  59.769260  46.268546  9.8005  34.138025  52.68775  69.780725   \n",
       "Snow      55.0  57.815842  34.458712  8.9203  41.707000  50.07450  66.011800   \n",
       "\n",
       "                max  \n",
       "Weather              \n",
       "Clear    332.043689  \n",
       "Rain     329.913004  \n",
       "Snow     233.008285  "
      ]
     },
     "execution_count": 13,
     "metadata": {},
     "output_type": "execute_result"
    }
   ],
   "source": [
    "df.groupby(\"Weather\")[\"Trip_Price\"].describe()"
   ]
  },
  {
   "cell_type": "code",
   "execution_count": 25,
   "id": "262a8bec",
   "metadata": {},
   "outputs": [
    {
     "data": {
      "text/plain": [
       "Weather\n",
       "Clear    667\n",
       "Rain     227\n",
       "Snow      56\n",
       "Name: count, dtype: int64"
      ]
     },
     "execution_count": 25,
     "metadata": {},
     "output_type": "execute_result"
    }
   ],
   "source": [
    "df[\"Weather\"].value_counts()"
   ]
  }
 ],
 "metadata": {
  "kernelspec": {
   "display_name": "venv",
   "language": "python",
   "name": "python3"
  },
  "language_info": {
   "codemirror_mode": {
    "name": "ipython",
    "version": 3
   },
   "file_extension": ".py",
   "mimetype": "text/x-python",
   "name": "python",
   "nbconvert_exporter": "python",
   "pygments_lexer": "ipython3",
   "version": "3.13.3"
  }
 },
 "nbformat": 4,
 "nbformat_minor": 5
}
