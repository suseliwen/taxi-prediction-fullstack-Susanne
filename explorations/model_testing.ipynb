{
 "cells": [
  {
   "cell_type": "markdown",
   "id": "646d8d85",
   "metadata": {},
   "source": [
    "### Notebook för att utforska vilken modell som är bäst att använda för att prediktera taxipriser\n",
    "\n",
    "För att i det riktiga programmet använda en väl lämpad modell behöver jag först utvärdera olika alternativ och se hur bra de presterar på min data.   \n",
    "\n",
    "Jag gör dessa tester i en notebook för att på ett enkelt sätt kunna testa flera modeller och jämföra deras resultat.   \n",
    "\n",
    "Eftersom uppgiften gäller att prediktera ett kontinuerligt värde (pris) är linjär regression en naturlig kandidat. Samtidigt kan jag testa andra modeller, som t.ex. Random Forest Regression, för att se om de eventuellt ger bättre resultat på datan. Logistisk regression är däremot inte lika relevant här eftersom den främst används för klassificeringsproblem (t.ex. ja/nej-frågor).   "
   ]
  },
  {
   "cell_type": "code",
   "execution_count": 24,
   "id": "e145f6e5",
   "metadata": {},
   "outputs": [
    {
     "name": "stdout",
     "output_type": "stream",
     "text": [
      "<class 'pandas.core.frame.DataFrame'>\n",
      "RangeIndex: 778 entries, 0 to 777\n",
      "Data columns (total 11 columns):\n",
      " #   Column                 Non-Null Count  Dtype  \n",
      "---  ------                 --------------  -----  \n",
      " 0   Trip_Distance_km       778 non-null    float64\n",
      " 1   Time_of_Day            778 non-null    object \n",
      " 2   Day_of_Week            778 non-null    object \n",
      " 3   Passenger_Count        778 non-null    float64\n",
      " 4   Traffic_Conditions     778 non-null    object \n",
      " 5   Weather                778 non-null    object \n",
      " 6   Base_Fare              778 non-null    float64\n",
      " 7   Per_Km_Rate            778 non-null    float64\n",
      " 8   Per_Minute_Rate        778 non-null    float64\n",
      " 9   Trip_Duration_Minutes  778 non-null    float64\n",
      " 10  Trip_Price             778 non-null    float64\n",
      "dtypes: float64(7), object(4)\n",
      "memory usage: 67.0+ KB\n"
     ]
    }
   ],
   "source": [
    "from taxipred.utils.constants import DATA_PATH\n",
    "import pandas as pd\n",
    "from sklearn.model_selection import train_test_split\n",
    "from sklearn.preprocessing import StandardScaler, OneHotEncoder\n",
    "from sklearn.linear_model import LinearRegression\n",
    "from sklearn.metrics import r2_score, mean_absolute_error, mean_squared_error, root_mean_squared_error\n",
    "import numpy as np\n",
    "import matplotlib.pyplot as plt\n",
    "\n",
    "df = pd.read_csv(\"../src/taxipred/data/cleaned_taxi_trip_pricing.csv\")\n",
    "\n",
    "df.info()"
   ]
  },
  {
   "cell_type": "code",
   "execution_count": 25,
   "id": "8c02387e",
   "metadata": {},
   "outputs": [
    {
     "data": {
      "text/plain": [
       "count    778.000000\n",
       "mean       3.501183\n",
       "std        0.862779\n",
       "min        2.010000\n",
       "25%        2.730000\n",
       "50%        3.535000\n",
       "75%        4.230000\n",
       "max        5.000000\n",
       "Name: Base_Fare, dtype: float64"
      ]
     },
     "execution_count": 25,
     "metadata": {},
     "output_type": "execute_result"
    }
   ],
   "source": [
    "df[\"Base_Fare\"].describe()"
   ]
  },
  {
   "cell_type": "markdown",
   "id": "05b0cd69",
   "metadata": {},
   "source": [
    "##### Delar upp datan i train | test"
   ]
  },
  {
   "cell_type": "code",
   "execution_count": 26,
   "id": "74120cd9",
   "metadata": {},
   "outputs": [],
   "source": [
    "X = df.drop(columns=[\"Trip_Price\"]) #tar bort alla kolumner förutom den som ska vara y.\n",
    "y = df[\"Trip_Price\"]"
   ]
  },
  {
   "cell_type": "code",
   "execution_count": 27,
   "id": "d26f0ae7",
   "metadata": {},
   "outputs": [
    {
     "data": {
      "text/plain": [
       "((544, 10), (234, 10), (544,), (234,))"
      ]
     },
     "execution_count": 27,
     "metadata": {},
     "output_type": "execute_result"
    }
   ],
   "source": [
    "X_train, X_test, y_train, y_test = train_test_split(\n",
    "    X, y, test_size=0.3, random_state=42\n",
    ")\n",
    "\n",
    "X_train.shape, X_test.shape, y_train.shape, y_test.shape"
   ]
  },
  {
   "cell_type": "markdown",
   "id": "f0ed12c1",
   "metadata": {},
   "source": [
    "##### Eftersom mitt dataset innehåller både numeriska och kategoriska kolumner behöver jag särskilja dessa och hantera dem på olika sätt.   \n",
    "StandardScaler gör att features får medelvärde 0 och standardavvikelse 1.   \n",
    "OneHotEncoder gör så att modellerna kan hantera textvaiabler. \n"
   ]
  },
  {
   "cell_type": "code",
   "execution_count": 28,
   "id": "0a2984ea",
   "metadata": {},
   "outputs": [],
   "source": [
    "# 1) Dela upp kolumner\n",
    "num_cols = X_train.select_dtypes(include=\"number\").columns\n",
    "cat_cols = X_train.select_dtypes(exclude=\"number\").columns\n",
    "#\n",
    "\n",
    "# Skala numeriska\n",
    "scaler = StandardScaler()\n",
    "scaled_X_train_num = scaler.fit_transform(X_train[num_cols])\n",
    "scaled_X_test_num  = scaler.transform(X_test[num_cols])\n",
    "\n",
    "\n",
    "# 3) One-hot-koda kategoriska\n",
    "encoder = OneHotEncoder(handle_unknown=\"ignore\", sparse_output=False)\n",
    "X_train_cat = encoder.fit_transform(X_train[cat_cols])\n",
    "X_test_cat  = encoder.transform(X_test[cat_cols])\n",
    "\n",
    "\n",
    "# 4) Slå ihop till en enda feature-matris\n",
    "import numpy as np\n",
    "X_train_prepared = np.hstack([scaled_X_train_num, X_train_cat])\n",
    "X_test_prepared  = np.hstack([scaled_X_test_num, X_test_cat])\n"
   ]
  },
  {
   "cell_type": "code",
   "execution_count": 29,
   "id": "1565ecf6",
   "metadata": {},
   "outputs": [],
   "source": [
    "model = LinearRegression()\n",
    "model.fit(X_train_prepared, y_train)\n",
    "y_pred_lr = model.predict(X_test_prepared)"
   ]
  },
  {
   "cell_type": "code",
   "execution_count": null,
   "id": "03e519a9",
   "metadata": {},
   "outputs": [
    {
     "data": {
      "text/plain": [
       "array([36.66371503,  0.36679852,  1.51516123, 10.59317153,  6.59979555,\n",
       "       10.21894227,  0.43257082, -1.03345688, -0.12066615,  0.7215522 ,\n",
       "        0.43849313, -0.369581  , -0.06891213,  1.15454986, -2.19191935,\n",
       "       -0.83454461,  1.8719141 , -0.15008829, -0.83710837,  1.80041804,\n",
       "       -0.81322138])"
      ]
     },
     "execution_count": 7,
     "metadata": {},
     "output_type": "execute_result"
    }
   ],
   "source": [
    "model.coef_"
   ]
  },
  {
   "cell_type": "markdown",
   "id": "148eb878",
   "metadata": {},
   "source": [
    "### Prediktion"
   ]
  },
  {
   "cell_type": "code",
   "execution_count": 30,
   "id": "1219f770",
   "metadata": {},
   "outputs": [
    {
     "name": "stdout",
     "output_type": "stream",
     "text": [
      "Test sample features:  [[ 0.84611398 -1.40147905  1.15924198  0.83001055  0.48902436  1.04244211\n",
      "   0.          0.          1.          0.          0.          0.\n",
      "   1.          0.          1.          0.          0.          1.\n",
      "   0.          0.          0.        ]]\n",
      "Test sample target:  108.2325\n"
     ]
    }
   ],
   "source": [
    "test_sample_features = X_test_prepared[0].reshape(1, -1)\n",
    "test_sample_target = y_test.values[0]\n",
    "\n",
    "print(\"Test sample features: \", test_sample_features)\n",
    "print(\"Test sample target: \", test_sample_target)"
   ]
  },
  {
   "cell_type": "code",
   "execution_count": 31,
   "id": "baae0e43",
   "metadata": {},
   "outputs": [
    {
     "data": {
      "text/plain": [
       "array([110.17021529])"
      ]
     },
     "execution_count": 31,
     "metadata": {},
     "output_type": "execute_result"
    }
   ],
   "source": [
    "model.predict(test_sample_features)"
   ]
  },
  {
   "cell_type": "code",
   "execution_count": 32,
   "id": "5889091c",
   "metadata": {},
   "outputs": [
    {
     "data": {
      "text/plain": [
       "np.float64(108.2325)"
      ]
     },
     "execution_count": 32,
     "metadata": {},
     "output_type": "execute_result"
    }
   ],
   "source": [
    "test_sample_target"
   ]
  },
  {
   "cell_type": "markdown",
   "id": "7f501526",
   "metadata": {},
   "source": [
    "##### Prediktion av testdatan"
   ]
  },
  {
   "cell_type": "code",
   "execution_count": 33,
   "id": "be550ee1",
   "metadata": {},
   "outputs": [
    {
     "data": {
      "text/plain": [
       "(234,)"
      ]
     },
     "execution_count": 33,
     "metadata": {},
     "output_type": "execute_result"
    }
   ],
   "source": [
    "y_pred_lr = model.predict(X_test_prepared)\n",
    "y_pred_lr.shape"
   ]
  },
  {
   "cell_type": "code",
   "execution_count": 34,
   "id": "134dbba8",
   "metadata": {},
   "outputs": [
    {
     "data": {
      "text/plain": [
       "array([110.17021529,  77.39803316,  26.47614327,  51.99699327,\n",
       "       100.66154628])"
      ]
     },
     "execution_count": 34,
     "metadata": {},
     "output_type": "execute_result"
    }
   ],
   "source": [
    "y_pred_lr[:5]\n"
   ]
  },
  {
   "cell_type": "code",
   "execution_count": 35,
   "id": "52fd2ff6",
   "metadata": {},
   "outputs": [
    {
     "data": {
      "text/plain": [
       "array([108.2325,  73.5544,  32.2622,  38.4514, 102.4302])"
      ]
     },
     "execution_count": 35,
     "metadata": {},
     "output_type": "execute_result"
    }
   ],
   "source": [
    "y_test[:5].values"
   ]
  },
  {
   "cell_type": "markdown",
   "id": "43a9d28f",
   "metadata": {},
   "source": [
    "### Evaluering"
   ]
  },
  {
   "cell_type": "code",
   "execution_count": 36,
   "id": "32c7142b",
   "metadata": {},
   "outputs": [
    {
     "name": "stdout",
     "output_type": "stream",
     "text": [
      "MSE: 226.81751579226025\n",
      "MAE:  9.505027649510083\n",
      "RMSE:  15.060462004608631\n",
      "R2 : 0.8463709689648986\n"
     ]
    }
   ],
   "source": [
    "\n",
    "print(\"MSE:\", mean_squared_error(y_test, y_pred_lr))\n",
    "print(\"MAE: \", mean_absolute_error(y_test, y_pred_lr))\n",
    "print(\"RMSE: \", root_mean_squared_error(y_test, y_pred_lr))\n",
    "print(\"R2 :\", r2_score(y_test, y_pred_lr))"
   ]
  },
  {
   "cell_type": "code",
   "execution_count": 37,
   "id": "089e6b84",
   "metadata": {},
   "outputs": [
    {
     "data": {
      "image/png": "[encoded data removed]",
      "text/plain": [
       "<Figure size 640x480 with 1 Axes>"
      ]
     },
     "metadata": {},
     "output_type": "display_data"
    }
   ],
   "source": [
    "\n",
    "plt.scatter(y_test, y_pred_lr, alpha=0.6)\n",
    "plt.plot([y_test.min(), y_test.max()], [y_test.min(), y_test.max()], 'r--')\n",
    "plt.xlabel(\"Sant pris\")\n",
    "plt.ylabel(\"Predikterat pris\")\n",
    "plt.title(\"Logistisk regression - Prediktion vs Sant\")\n",
    "plt.show()"
   ]
  },
  {
   "cell_type": "markdown",
   "id": "c869a247",
   "metadata": {},
   "source": [
    "### Testa datan med Random Forest Regression\n",
    "Eftersom vi i skolan inte gått igenom Random Forest Regeression i kod, utan enbart Random Forest Classifier, och det inte är en fungerande metod för detta dataset, har jag använt mig av följande youtube-film för att förstå och kunna använda Random Forest Regression: https://www.youtube.com/watch?v=VQT1PU3-wqE"
   ]
  },
  {
   "cell_type": "code",
   "execution_count": 38,
   "id": "2b5d4c5d",
   "metadata": {},
   "outputs": [],
   "source": [
    "from sklearn.ensemble import RandomForestRegressor"
   ]
  },
  {
   "cell_type": "code",
   "execution_count": 39,
   "id": "3d7a6adf",
   "metadata": {},
   "outputs": [],
   "source": [
    "model = RandomForestRegressor(\n",
    "    n_estimators=100,\n",
    "    random_state=42,\n",
    "    oob_score=True,      \n",
    "    max_samples=60      \n",
    ")\n",
    "\n",
    "rf = model.fit(X_train_prepared, y_train)\n",
    "y_pred_rf = rf.predict(X_test_prepared)"
   ]
  },
  {
   "cell_type": "code",
   "execution_count": 40,
   "id": "bbca2ebf",
   "metadata": {},
   "outputs": [
    {
     "data": {
      "text/plain": [
       "0.881942969400153"
      ]
     },
     "execution_count": 40,
     "metadata": {},
     "output_type": "execute_result"
    }
   ],
   "source": [
    "rf.oob_score_"
   ]
  },
  {
   "cell_type": "code",
   "execution_count": null,
   "id": "3e0b1d7a",
   "metadata": {},
   "outputs": [
    {
     "ename": "AttributeError",
     "evalue": "'RandomForestRegressor' object has no attribute 'feature_names_in_'",
     "output_type": "error",
     "traceback": [
      "\u001b[31m---------------------------------------------------------------------------\u001b[39m",
      "\u001b[31mAttributeError\u001b[39m                            Traceback (most recent call last)",
      "\u001b[36mCell\u001b[39m\u001b[36m \u001b[39m\u001b[32mIn[54]\u001b[39m\u001b[32m, line 2\u001b[39m\n\u001b[32m      1\u001b[39m rf.feature_importances_\n\u001b[32m----> \u001b[39m\u001b[32m2\u001b[39m \u001b[43mrf\u001b[49m\u001b[43m.\u001b[49m\u001b[43mfeature_names_in_\u001b[49m \u001b[38;5;66;03m# Genererar felmedelande pga min version av scikit-learn. \u001b[39;00m\n",
      "\u001b[31mAttributeError\u001b[39m: 'RandomForestRegressor' object has no attribute 'feature_names_in_'"
     ]
    }
   ],
   "source": [
    "rf.feature_importances_\n",
    "rf.feature_names_in_ # Genererar felmedelande pga min version av scikit-learn. "
   ]
  },
  {
   "cell_type": "code",
   "execution_count": 41,
   "id": "1c1590bd",
   "metadata": {},
   "outputs": [],
   "source": [
    "#För att se feature names i feature_importances behöver jag spara en lista med alla feature_names i en variabel, och använda listan för importances. \n",
    "\n",
    "num_feature_names = num_cols  \n",
    "cat_feature_names = encoder.get_feature_names_out(cat_cols) \n",
    "all_feature_names = list(num_feature_names) + list(cat_feature_names)"
   ]
  },
  {
   "cell_type": "code",
   "execution_count": 42,
   "id": "1d6d0071",
   "metadata": {},
   "outputs": [],
   "source": [
    "importances = pd.Series(rf.feature_importances_, index=all_feature_names)"
   ]
  },
  {
   "cell_type": "code",
   "execution_count": 43,
   "id": "4de8d3b5",
   "metadata": {},
   "outputs": [
    {
     "name": "stdout",
     "output_type": "stream",
     "text": [
      "Trip_Distance_km          0.766463\n",
      "Per_Km_Rate               0.089224\n",
      "Trip_Duration_Minutes     0.064717\n",
      "Per_Minute_Rate           0.043975\n",
      "Base_Fare                 0.012401\n",
      "Passenger_Count           0.004839\n",
      "Day_of_Week_Weekday       0.002389\n",
      "Traffic_Conditions_Low    0.001830\n",
      "Weather_Clear             0.001589\n",
      "Weather_Rain              0.001528\n",
      "dtype: float64\n"
     ]
    }
   ],
   "source": [
    "importances_sorted = importances.sort_values(ascending=False)\n",
    "\n",
    "print(importances_sorted.head(10))"
   ]
  },
  {
   "cell_type": "code",
   "execution_count": 44,
   "id": "9aec696e",
   "metadata": {},
   "outputs": [
    {
     "data": {
      "image/png": "[encoded data removed]",
      "text/plain": [
       "<Figure size 640x480 with 1 Axes>"
      ]
     },
     "metadata": {},
     "output_type": "display_data"
    }
   ],
   "source": [
    "importances_sorted.head(10).plot(kind=\"barh\")\n",
    "plt.gca().invert_yaxis()\n",
    "plt.title(\"Topp 10 viktigaste features enligt Random Forest\")\n",
    "plt.show()"
   ]
  },
  {
   "cell_type": "markdown",
   "id": "f886ad86",
   "metadata": {},
   "source": [
    "Utvärdering av modellen"
   ]
  },
  {
   "cell_type": "code",
   "execution_count": 45,
   "id": "270218e6",
   "metadata": {},
   "outputs": [
    {
     "name": "stdout",
     "output_type": "stream",
     "text": [
      "[90.717556 69.698806 37.32531  50.55564  87.322374]\n",
      "[108.2325  73.5544  32.2622  38.4514 102.4302]\n"
     ]
    }
   ],
   "source": [
    "print(y_pred_rf[:5]) \n",
    "print(y_test[:5].values)"
   ]
  },
  {
   "cell_type": "code",
   "execution_count": 46,
   "id": "eb57e168",
   "metadata": {},
   "outputs": [
    {
     "name": "stdout",
     "output_type": "stream",
     "text": [
      "MAE: 8.155454022479091\n",
      "MSE: 137.00605872959227\n",
      "R²: 0.9072024575569234\n"
     ]
    }
   ],
   "source": [
    "mae = mean_absolute_error(y_test, y_pred_rf)\n",
    "mse = mean_squared_error(y_test, y_pred_rf)\n",
    "r2  = r2_score(y_test, y_pred_rf)\n",
    "\n",
    "print(\"MAE:\", mae)\n",
    "print(\"MSE:\", mse)\n",
    "print(\"R²:\", r2)"
   ]
  },
  {
   "cell_type": "code",
   "execution_count": 47,
   "id": "af61ac8e",
   "metadata": {},
   "outputs": [
    {
     "data": {
      "image/png": "[encoded data removed]",
      "text/plain": [
       "<Figure size 800x600 with 1 Axes>"
      ]
     },
     "metadata": {},
     "output_type": "display_data"
    }
   ],
   "source": [
    "plt.figure(figsize=(8,6))\n",
    "plt.scatter(y_test, y_pred_rf, alpha=0.6)\n",
    "plt.plot([y_test.min(), y_test.max()], [y_test.min(), y_test.max()],\n",
    "         'r--', linewidth=2) \n",
    "\n",
    "plt.xlabel(\"Sant pris\")\n",
    "plt.ylabel(\"Predikterat pris\")\n",
    "plt.title(\"Random Forest - Prediktion vs Sant\")\n",
    "plt.show()"
   ]
  },
  {
   "cell_type": "markdown",
   "id": "347a2413",
   "metadata": {},
   "source": [
    "### Testa datan med KNN (Know Nearest Neighbour)\n",
    "Jag tror egentligen inte att KNN är den bästa modellen för den här typen av prediktion, men jag väljer ändå att testa även KNN för att öva mer på olika modeller, och jämföra resultatet med Linjär Regression och Random Forest Regression. "
   ]
  },
  {
   "cell_type": "code",
   "execution_count": 48,
   "id": "48fb4392",
   "metadata": {},
   "outputs": [],
   "source": [
    "from sklearn.neighbors import KNeighborsRegressor\n",
    "\n",
    "model_KNN = KNeighborsRegressor(n_neighbors=5) "
   ]
  },
  {
   "cell_type": "code",
   "execution_count": 49,
   "id": "85462f79",
   "metadata": {},
   "outputs": [
    {
     "data": {
      "text/plain": [
       "array([75.27102, 63.01172, 39.30472, 49.90852, 94.63904])"
      ]
     },
     "execution_count": 49,
     "metadata": {},
     "output_type": "execute_result"
    }
   ],
   "source": [
    "model_KNN.fit(X_train_prepared, y_train)\n",
    "\n",
    "y_pred_KNN = model_KNN.predict(X_test_prepared)\n",
    "y_pred_KNN[:5]"
   ]
  },
  {
   "cell_type": "code",
   "execution_count": null,
   "id": "f96378c6",
   "metadata": {},
   "outputs": [
    {
     "data": {
      "text/plain": [
       "array([108.2325,  73.5544,  32.2622,  38.4514, 102.4302])"
      ]
     },
     "execution_count": 32,
     "metadata": {},
     "output_type": "execute_result"
    }
   ],
   "source": [
    "y_test[:5].values"
   ]
  },
  {
   "cell_type": "code",
   "execution_count": 50,
   "id": "184b9624",
   "metadata": {},
   "outputs": [
    {
     "name": "stdout",
     "output_type": "stream",
     "text": [
      "MAE: 11.616785647083601\n",
      "MSE: 256.5461980735895\n",
      "R²: 0.8262350079617191\n"
     ]
    }
   ],
   "source": [
    "mae = mean_absolute_error(y_test, y_pred_KNN)\n",
    "mse = mean_squared_error(y_test, y_pred_KNN)\n",
    "r2  = r2_score(y_test, y_pred_KNN)\n",
    "\n",
    "print(\"MAE:\", mae)\n",
    "print(\"MSE:\", mse)\n",
    "print(\"R²:\", r2)"
   ]
  },
  {
   "cell_type": "code",
   "execution_count": null,
   "id": "cdd3b8f8",
   "metadata": {},
   "outputs": [],
   "source": []
  },
  {
   "cell_type": "markdown",
   "id": "9e133cde",
   "metadata": {},
   "source": [
    "### Sammanfattning och jämförelse av Linjär regression, Random Forest Regression och KNN Regression\n"
   ]
  },
  {
   "cell_type": "code",
   "execution_count": 51,
   "id": "3b6cf7f9",
   "metadata": {},
   "outputs": [
    {
     "data": {
      "text/html": [
       "<div>\n",
       "<style scoped>\n",
       "    .dataframe tbody tr th:only-of-type {\n",
       "        vertical-align: middle;\n",
       "    }\n",
       "\n",
       "    .dataframe tbody tr th {\n",
       "        vertical-align: top;\n",
       "    }\n",
       "\n",
       "    .dataframe thead th {\n",
       "        text-align: right;\n",
       "    }\n",
       "</style>\n",
       "<table border=\"1\" class=\"dataframe\">\n",
       "  <thead>\n",
       "    <tr style=\"text-align: right;\">\n",
       "      <th></th>\n",
       "      <th>model</th>\n",
       "      <th>MAE</th>\n",
       "      <th>RMSE</th>\n",
       "      <th>R2</th>\n",
       "    </tr>\n",
       "  </thead>\n",
       "  <tbody>\n",
       "    <tr>\n",
       "      <th>1</th>\n",
       "      <td>Random Forest Regression</td>\n",
       "      <td>8.155454</td>\n",
       "      <td>11.704959</td>\n",
       "      <td>0.907202</td>\n",
       "    </tr>\n",
       "    <tr>\n",
       "      <th>0</th>\n",
       "      <td>Linear Regression</td>\n",
       "      <td>9.505028</td>\n",
       "      <td>15.060462</td>\n",
       "      <td>0.846371</td>\n",
       "    </tr>\n",
       "    <tr>\n",
       "      <th>2</th>\n",
       "      <td>KNN (k=5)</td>\n",
       "      <td>11.616786</td>\n",
       "      <td>16.017060</td>\n",
       "      <td>0.826235</td>\n",
       "    </tr>\n",
       "  </tbody>\n",
       "</table>\n",
       "</div>"
      ],
      "text/plain": [
       "                      model        MAE       RMSE        R2\n",
       "1  Random Forest Regression   8.155454  11.704959  0.907202\n",
       "0         Linear Regression   9.505028  15.060462  0.846371\n",
       "2                 KNN (k=5)  11.616786  16.017060  0.826235"
      ]
     },
     "execution_count": 51,
     "metadata": {},
     "output_type": "execute_result"
    }
   ],
   "source": [
    "def summarize_models(y_true, preds):\n",
    "    rows = []\n",
    "    for name, y_pred in preds.items():\n",
    "        mae  = mean_absolute_error(y_true, y_pred)\n",
    "        mse  = mean_squared_error(y_true, y_pred)\n",
    "        rmse = np.sqrt(mse)\n",
    "        r2   = r2_score(y_true, y_pred)\n",
    "        rows.append({\"model\": name, \"MAE\": mae, \"RMSE\": rmse, \"R2\": r2})\n",
    "    return pd.DataFrame(rows).sort_values(by=\"MAE\")\n",
    "\n",
    "results = summarize_models(\n",
    "    y_test,\n",
    "    {\"Linear Regression\": y_pred_lr,\n",
    "     \"Random Forest Regression\": y_pred_rf,\n",
    "     \"KNN (k=5)\": y_pred_KNN}\n",
    ")\n",
    "\n",
    "results"
   ]
  }
 ],
 "metadata": {
  "kernelspec": {
   "display_name": "venv",
   "language": "python",
   "name": "python3"
  },
  "language_info": {
   "codemirror_mode": {
    "name": "ipython",
    "version": 3
   },
   "file_extension": ".py",
   "mimetype": "text/x-python",
   "name": "python",
   "nbconvert_exporter": "python",
   "pygments_lexer": "ipython3",
   "version": "3.13.3"
  }
 },
 "nbformat": 4,
 "nbformat_minor": 5
}
