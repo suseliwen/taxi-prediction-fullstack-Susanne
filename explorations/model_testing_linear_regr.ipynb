{
 "cells": [
  {
   "cell_type": "markdown",
   "id": "646d8d85",
   "metadata": {},
   "source": [
    "### Notebook för att utforska vilken modell som är bäst att använda för att prediktera taxipriser\n",
    "\n",
    "För att i det riktiga programmet använda en väl lämpad modell behöver jag först utvärdera olika alternativ och se hur bra de presterar på min data.   \n",
    "\n",
    "Jag gör dessa tester i en notebook för att på ett enkelt sätt kunna testa flera modeller och jämföra deras resultat.   \n",
    "\n",
    "Eftersom uppgiften gäller att prediktera ett kontinuerligt värde (pris) är linjär regression en naturlig kandidat. Samtidigt kan jag testa andra modeller, som t.ex. KNN, för att se om de eventuellt ger bättre resultat på just denna data. Logistisk regression är däremot inte lika relevant här eftersom den främst används för klassificeringsproblem (t.ex. ja/nej-frågor).   "
   ]
  },
  {
   "cell_type": "code",
   "execution_count": 25,
   "id": "e145f6e5",
   "metadata": {},
   "outputs": [
    {
     "name": "stdout",
     "output_type": "stream",
     "text": [
      "<class 'pandas.core.frame.DataFrame'>\n",
      "RangeIndex: 778 entries, 0 to 777\n",
      "Data columns (total 11 columns):\n",
      " #   Column                 Non-Null Count  Dtype  \n",
      "---  ------                 --------------  -----  \n",
      " 0   Trip_Distance_km       778 non-null    float64\n",
      " 1   Time_of_Day            778 non-null    object \n",
      " 2   Day_of_Week            778 non-null    object \n",
      " 3   Passenger_Count        778 non-null    float64\n",
      " 4   Traffic_Conditions     778 non-null    object \n",
      " 5   Weather                778 non-null    object \n",
      " 6   Base_Fare              778 non-null    float64\n",
      " 7   Per_Km_Rate            778 non-null    float64\n",
      " 8   Per_Minute_Rate        778 non-null    float64\n",
      " 9   Trip_Duration_Minutes  778 non-null    float64\n",
      " 10  Trip_Price             778 non-null    float64\n",
      "dtypes: float64(7), object(4)\n",
      "memory usage: 67.0+ KB\n"
     ]
    }
   ],
   "source": [
    "from taxipred.utils.constants import TAXI_CSV_PATH\n",
    "import pandas as pd\n",
    "from sklearn.model_selection import train_test_split\n",
    "from sklearn.preprocessing import StandardScaler, OneHotEncoder\n",
    "from sklearn.linear_model import LinearRegression\n",
    "from sklearn.metrics import r2_score, mean_absolute_error, mean_squared_error, root_mean_squared_error\n",
    "import numpy as np\n",
    "import matplotlib.pyplot as plt\n",
    "\n",
    "df = pd.read_csv(TAXI_CSV_PATH)\n",
    "\n",
    "df.info()"
   ]
  },
  {
   "cell_type": "markdown",
   "id": "05b0cd69",
   "metadata": {},
   "source": [
    "##### Delar upp datan i train | test"
   ]
  },
  {
   "cell_type": "code",
   "execution_count": 4,
   "id": "74120cd9",
   "metadata": {},
   "outputs": [],
   "source": [
    "X = df.drop(columns=[\"Trip_Price\"]) #tar bort alla kolumner förutom den som ska vara y.\n",
    "y = df[\"Trip_Price\"]"
   ]
  },
  {
   "cell_type": "code",
   "execution_count": 5,
   "id": "d26f0ae7",
   "metadata": {},
   "outputs": [
    {
     "data": {
      "text/plain": [
       "((544, 10), (234, 10), (544,), (234,))"
      ]
     },
     "execution_count": 5,
     "metadata": {},
     "output_type": "execute_result"
    }
   ],
   "source": [
    "X_train, X_test, y_train, y_test = train_test_split(\n",
    "    X, y, test_size=0.3, random_state=42\n",
    ")\n",
    "\n",
    "X_train.shape, X_test.shape, y_train.shape, y_test.shape"
   ]
  },
  {
   "cell_type": "markdown",
   "id": "f0ed12c1",
   "metadata": {},
   "source": [
    "##### Eftersom mitt dataset innehåller både numeriska och kategoriska kolumner behöver jag särskilja dessa och hantera dem på olika sätt.   \n",
    "StandardScaler gör att features får medelvärde 0 och standardavvikelse 1.   \n",
    "OneHotEncoder gör så att modellerna kan hantera textvaiabler. \n"
   ]
  },
  {
   "cell_type": "code",
   "execution_count": 6,
   "id": "0a2984ea",
   "metadata": {},
   "outputs": [],
   "source": [
    "# 1) Dela upp kolumner\n",
    "num_cols = X_train.select_dtypes(include=\"number\").columns\n",
    "cat_cols = X_train.select_dtypes(exclude=\"number\").columns\n",
    "#\n",
    "\n",
    "# Skala numeriska\n",
    "scaler = StandardScaler()\n",
    "X_train_num = scaler.fit_transform(X_train[num_cols])\n",
    "X_test_num  = scaler.transform(X_test[num_cols])\n",
    "\n",
    "\n",
    "# 3) One-hot-koda kategoriska\n",
    "encoder = OneHotEncoder(handle_unknown=\"ignore\", sparse_output=False)\n",
    "X_train_cat = encoder.fit_transform(X_train[cat_cols])\n",
    "X_test_cat  = encoder.transform(X_test[cat_cols])\n",
    "\n",
    "\n",
    "# 4) Slå ihop till en enda feature-matris\n",
    "import numpy as np\n",
    "X_train_prepared = np.hstack([X_train_num, X_train_cat])\n",
    "X_test_prepared  = np.hstack([X_test_num, X_test_cat])\n"
   ]
  },
  {
   "cell_type": "code",
   "execution_count": 10,
   "id": "1565ecf6",
   "metadata": {},
   "outputs": [],
   "source": [
    "model = LinearRegression()\n",
    "model.fit(X_train_prepared, y_train)\n",
    "y_pred = model.predict(X_test_prepared)"
   ]
  },
  {
   "cell_type": "code",
   "execution_count": 11,
   "id": "03e519a9",
   "metadata": {},
   "outputs": [
    {
     "data": {
      "text/plain": [
       "array([36.66371503,  0.36679852,  1.51516123, 10.59317153,  6.59979555,\n",
       "       10.21894227,  0.43257082, -1.03345688, -0.12066615,  0.7215522 ,\n",
       "        0.43849313, -0.369581  , -0.06891213,  1.15454986, -2.19191935,\n",
       "       -0.83454461,  1.8719141 , -0.15008829, -0.83710837,  1.80041804,\n",
       "       -0.81322138])"
      ]
     },
     "execution_count": 11,
     "metadata": {},
     "output_type": "execute_result"
    }
   ],
   "source": [
    "model.coef_"
   ]
  },
  {
   "cell_type": "markdown",
   "id": "148eb878",
   "metadata": {},
   "source": [
    "### Prediktion"
   ]
  },
  {
   "cell_type": "code",
   "execution_count": 15,
   "id": "1219f770",
   "metadata": {},
   "outputs": [
    {
     "name": "stdout",
     "output_type": "stream",
     "text": [
      "Test sample features:  [[ 0.84611398 -1.40147905  1.15924198  0.83001055  0.48902436  1.04244211\n",
      "   0.          0.          1.          0.          0.          0.\n",
      "   1.          0.          1.          0.          0.          1.\n",
      "   0.          0.          0.        ]]\n",
      "Test sample target:  108.2325\n"
     ]
    }
   ],
   "source": [
    "test_sample_features = X_test_prepared[0].reshape(1, -1)\n",
    "test_sample_target = y_test.values[0]\n",
    "\n",
    "print(\"Test sample features: \", test_sample_features)\n",
    "print(\"Test sample target: \", test_sample_target)"
   ]
  },
  {
   "cell_type": "code",
   "execution_count": 16,
   "id": "baae0e43",
   "metadata": {},
   "outputs": [
    {
     "data": {
      "text/plain": [
       "array([110.17021529])"
      ]
     },
     "execution_count": 16,
     "metadata": {},
     "output_type": "execute_result"
    }
   ],
   "source": [
    "model.predict(test_sample_features)"
   ]
  },
  {
   "cell_type": "code",
   "execution_count": 17,
   "id": "5889091c",
   "metadata": {},
   "outputs": [
    {
     "data": {
      "text/plain": [
       "np.float64(108.2325)"
      ]
     },
     "execution_count": 17,
     "metadata": {},
     "output_type": "execute_result"
    }
   ],
   "source": [
    "test_sample_target"
   ]
  },
  {
   "cell_type": "markdown",
   "id": "7f501526",
   "metadata": {},
   "source": [
    "##### Prediktion av testdatan"
   ]
  },
  {
   "cell_type": "code",
   "execution_count": 18,
   "id": "be550ee1",
   "metadata": {},
   "outputs": [
    {
     "data": {
      "text/plain": [
       "(234,)"
      ]
     },
     "execution_count": 18,
     "metadata": {},
     "output_type": "execute_result"
    }
   ],
   "source": [
    "y_pred = model.predict(X_test_prepared)\n",
    "y_pred.shape"
   ]
  },
  {
   "cell_type": "code",
   "execution_count": 20,
   "id": "134dbba8",
   "metadata": {},
   "outputs": [
    {
     "data": {
      "text/plain": [
       "array([110.17021529,  77.39803316,  26.47614327,  51.99699327,\n",
       "       100.66154628])"
      ]
     },
     "execution_count": 20,
     "metadata": {},
     "output_type": "execute_result"
    }
   ],
   "source": [
    "y_pred[:5]\n"
   ]
  },
  {
   "cell_type": "code",
   "execution_count": 22,
   "id": "52fd2ff6",
   "metadata": {},
   "outputs": [
    {
     "data": {
      "text/plain": [
       "array([108.2325,  73.5544,  32.2622,  38.4514, 102.4302])"
      ]
     },
     "execution_count": 22,
     "metadata": {},
     "output_type": "execute_result"
    }
   ],
   "source": [
    "y_test[:5].values"
   ]
  },
  {
   "cell_type": "markdown",
   "id": "43a9d28f",
   "metadata": {},
   "source": [
    "### Evaluering"
   ]
  },
  {
   "cell_type": "code",
   "execution_count": 26,
   "id": "32c7142b",
   "metadata": {},
   "outputs": [
    {
     "name": "stdout",
     "output_type": "stream",
     "text": [
      "MSE: 226.81751579226025\n",
      "MAE:  9.505027649510083\n",
      "RMSE:  15.060462004608631\n",
      "R2 : 0.8463709689648986\n"
     ]
    }
   ],
   "source": [
    "\n",
    "print(\"MSE:\", mean_squared_error(y_test, y_pred))\n",
    "print(\"MAE: \", mean_absolute_error(y_test, y_pred))\n",
    "print(\"RMSE: \", root_mean_squared_error(y_test, y_pred))\n",
    "print(\"R2 :\", r2_score(y_test, y_pred))"
   ]
  },
  {
   "cell_type": "code",
   "execution_count": 29,
   "id": "d1ad895d",
   "metadata": {},
   "outputs": [
    {
     "data": {
      "text/html": [
       "<div>\n",
       "<style scoped>\n",
       "    .dataframe tbody tr th:only-of-type {\n",
       "        vertical-align: middle;\n",
       "    }\n",
       "\n",
       "    .dataframe tbody tr th {\n",
       "        vertical-align: top;\n",
       "    }\n",
       "\n",
       "    .dataframe thead th {\n",
       "        text-align: right;\n",
       "    }\n",
       "</style>\n",
       "<table border=\"1\" class=\"dataframe\">\n",
       "  <thead>\n",
       "    <tr style=\"text-align: right;\">\n",
       "      <th></th>\n",
       "      <th>Trip_Distance_km</th>\n",
       "      <th>Time_of_Day</th>\n",
       "      <th>Day_of_Week</th>\n",
       "      <th>Passenger_Count</th>\n",
       "      <th>Traffic_Conditions</th>\n",
       "      <th>Weather</th>\n",
       "      <th>Base_Fare</th>\n",
       "      <th>Per_Km_Rate</th>\n",
       "      <th>Per_Minute_Rate</th>\n",
       "      <th>Trip_Duration_Minutes</th>\n",
       "      <th>Trip_Price</th>\n",
       "    </tr>\n",
       "  </thead>\n",
       "  <tbody>\n",
       "    <tr>\n",
       "      <th>50</th>\n",
       "      <td>49.36</td>\n",
       "      <td>Morning</td>\n",
       "      <td>Unknown</td>\n",
       "      <td>4.0</td>\n",
       "      <td>High</td>\n",
       "      <td>Rain</td>\n",
       "      <td>4.92</td>\n",
       "      <td>1.13</td>\n",
       "      <td>0.12</td>\n",
       "      <td>36.56</td>\n",
       "      <td>65.0840</td>\n",
       "    </tr>\n",
       "    <tr>\n",
       "      <th>123</th>\n",
       "      <td>12.86</td>\n",
       "      <td>Evening</td>\n",
       "      <td>Weekday</td>\n",
       "      <td>1.0</td>\n",
       "      <td>Low</td>\n",
       "      <td>Clear</td>\n",
       "      <td>2.39</td>\n",
       "      <td>1.13</td>\n",
       "      <td>0.40</td>\n",
       "      <td>56.62</td>\n",
       "      <td>39.5698</td>\n",
       "    </tr>\n",
       "    <tr>\n",
       "      <th>24</th>\n",
       "      <td>48.32</td>\n",
       "      <td>Morning</td>\n",
       "      <td>Weekday</td>\n",
       "      <td>2.0</td>\n",
       "      <td>Low</td>\n",
       "      <td>Clear</td>\n",
       "      <td>2.49</td>\n",
       "      <td>0.61</td>\n",
       "      <td>0.44</td>\n",
       "      <td>67.25</td>\n",
       "      <td>61.5552</td>\n",
       "    </tr>\n",
       "    <tr>\n",
       "      <th>36</th>\n",
       "      <td>47.04</td>\n",
       "      <td>Night</td>\n",
       "      <td>Weekday</td>\n",
       "      <td>4.0</td>\n",
       "      <td>Medium</td>\n",
       "      <td>Unknown</td>\n",
       "      <td>4.83</td>\n",
       "      <td>1.38</td>\n",
       "      <td>0.36</td>\n",
       "      <td>79.54</td>\n",
       "      <td>98.3796</td>\n",
       "    </tr>\n",
       "    <tr>\n",
       "      <th>128</th>\n",
       "      <td>32.04</td>\n",
       "      <td>Afternoon</td>\n",
       "      <td>Weekday</td>\n",
       "      <td>4.0</td>\n",
       "      <td>Low</td>\n",
       "      <td>Clear</td>\n",
       "      <td>4.44</td>\n",
       "      <td>1.02</td>\n",
       "      <td>0.41</td>\n",
       "      <td>9.10</td>\n",
       "      <td>40.8518</td>\n",
       "    </tr>\n",
       "    <tr>\n",
       "      <th>176</th>\n",
       "      <td>39.95</td>\n",
       "      <td>Evening</td>\n",
       "      <td>Weekend</td>\n",
       "      <td>3.0</td>\n",
       "      <td>Low</td>\n",
       "      <td>Clear</td>\n",
       "      <td>4.46</td>\n",
       "      <td>1.19</td>\n",
       "      <td>0.31</td>\n",
       "      <td>25.25</td>\n",
       "      <td>59.8280</td>\n",
       "    </tr>\n",
       "    <tr>\n",
       "      <th>193</th>\n",
       "      <td>15.43</td>\n",
       "      <td>Evening</td>\n",
       "      <td>Weekday</td>\n",
       "      <td>2.0</td>\n",
       "      <td>High</td>\n",
       "      <td>Clear</td>\n",
       "      <td>2.73</td>\n",
       "      <td>0.93</td>\n",
       "      <td>0.16</td>\n",
       "      <td>75.12</td>\n",
       "      <td>29.0991</td>\n",
       "    </tr>\n",
       "    <tr>\n",
       "      <th>30</th>\n",
       "      <td>2.69</td>\n",
       "      <td>Afternoon</td>\n",
       "      <td>Weekday</td>\n",
       "      <td>4.0</td>\n",
       "      <td>Low</td>\n",
       "      <td>Clear</td>\n",
       "      <td>4.60</td>\n",
       "      <td>1.95</td>\n",
       "      <td>0.34</td>\n",
       "      <td>97.49</td>\n",
       "      <td>42.9921</td>\n",
       "    </tr>\n",
       "    <tr>\n",
       "      <th>92</th>\n",
       "      <td>27.43</td>\n",
       "      <td>Morning</td>\n",
       "      <td>Weekend</td>\n",
       "      <td>4.0</td>\n",
       "      <td>Low</td>\n",
       "      <td>Rain</td>\n",
       "      <td>2.58</td>\n",
       "      <td>1.59</td>\n",
       "      <td>0.28</td>\n",
       "      <td>23.53</td>\n",
       "      <td>52.7821</td>\n",
       "    </tr>\n",
       "    <tr>\n",
       "      <th>136</th>\n",
       "      <td>26.09</td>\n",
       "      <td>Afternoon</td>\n",
       "      <td>Weekday</td>\n",
       "      <td>4.0</td>\n",
       "      <td>Medium</td>\n",
       "      <td>Rain</td>\n",
       "      <td>3.92</td>\n",
       "      <td>0.87</td>\n",
       "      <td>0.45</td>\n",
       "      <td>62.23</td>\n",
       "      <td>54.6218</td>\n",
       "    </tr>\n",
       "  </tbody>\n",
       "</table>\n",
       "</div>"
      ],
      "text/plain": [
       "     Trip_Distance_km Time_of_Day Day_of_Week  Passenger_Count  \\\n",
       "50              49.36     Morning     Unknown              4.0   \n",
       "123             12.86     Evening     Weekday              1.0   \n",
       "24              48.32     Morning     Weekday              2.0   \n",
       "36              47.04       Night     Weekday              4.0   \n",
       "128             32.04   Afternoon     Weekday              4.0   \n",
       "176             39.95     Evening     Weekend              3.0   \n",
       "193             15.43     Evening     Weekday              2.0   \n",
       "30               2.69   Afternoon     Weekday              4.0   \n",
       "92              27.43     Morning     Weekend              4.0   \n",
       "136             26.09   Afternoon     Weekday              4.0   \n",
       "\n",
       "    Traffic_Conditions  Weather  Base_Fare  Per_Km_Rate  Per_Minute_Rate  \\\n",
       "50                High     Rain       4.92         1.13             0.12   \n",
       "123                Low    Clear       2.39         1.13             0.40   \n",
       "24                 Low    Clear       2.49         0.61             0.44   \n",
       "36              Medium  Unknown       4.83         1.38             0.36   \n",
       "128                Low    Clear       4.44         1.02             0.41   \n",
       "176                Low    Clear       4.46         1.19             0.31   \n",
       "193               High    Clear       2.73         0.93             0.16   \n",
       "30                 Low    Clear       4.60         1.95             0.34   \n",
       "92                 Low     Rain       2.58         1.59             0.28   \n",
       "136             Medium     Rain       3.92         0.87             0.45   \n",
       "\n",
       "     Trip_Duration_Minutes  Trip_Price  \n",
       "50                   36.56     65.0840  \n",
       "123                  56.62     39.5698  \n",
       "24                   67.25     61.5552  \n",
       "36                   79.54     98.3796  \n",
       "128                   9.10     40.8518  \n",
       "176                  25.25     59.8280  \n",
       "193                  75.12     29.0991  \n",
       "30                   97.49     42.9921  \n",
       "92                   23.53     52.7821  \n",
       "136                  62.23     54.6218  "
      ]
     },
     "execution_count": 29,
     "metadata": {},
     "output_type": "execute_result"
    }
   ],
   "source": [
    "errors = y_pred - y_test.values\n",
    "biggest_errors_idx = np.argsort(abs(errors))[-10:]\n",
    "df.iloc[biggest_errors_idx]"
   ]
  },
  {
   "cell_type": "code",
   "execution_count": 27,
   "id": "089e6b84",
   "metadata": {},
   "outputs": [
    {
     "data": {
      "image/png": "[encoded data removed]",
      "text/plain": [
       "<Figure size 640x480 with 1 Axes>"
      ]
     },
     "metadata": {},
     "output_type": "display_data"
    }
   ],
   "source": [
    "\n",
    "plt.scatter(y_test, y_pred, alpha=0.6)\n",
    "plt.plot([y_test.min(), y_test.max()], [y_test.min(), y_test.max()], 'r--')\n",
    "plt.xlabel(\"Sant pris\")\n",
    "plt.ylabel(\"Predikterat pris\")\n",
    "plt.title(\"Pred vs Sant\")\n",
    "plt.show()"
   ]
  }
 ],
 "metadata": {
  "kernelspec": {
   "display_name": "venv",
   "language": "python",
   "name": "python3"
  },
  "language_info": {
   "codemirror_mode": {
    "name": "ipython",
    "version": 3
   },
   "file_extension": ".py",
   "mimetype": "text/x-python",
   "name": "python",
   "nbconvert_exporter": "python",
   "pygments_lexer": "ipython3",
   "version": "3.13.3"
  }
 },
 "nbformat": 4,
 "nbformat_minor": 5
}
