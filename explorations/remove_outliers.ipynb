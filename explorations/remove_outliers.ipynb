{
 "cells": [
  {
   "cell_type": "markdown",
   "id": "45fe6715",
   "metadata": {},
   "source": [
    "### Nytt test för att se om jag - trots tidigare beslut - ändå ska ta bort outliers, eftersom jag ser att prediktionen stämmer rätt dåligt.   \n",
    "Kopierat eda_taxi.ipynb för att slippa skriva om all kod. "
   ]
  },
  {
   "cell_type": "code",
   "execution_count": 1,
   "id": "cf0ab26b",
   "metadata": {},
   "outputs": [
    {
     "data": {
      "text/html": [
       "<div>\n",
       "<style scoped>\n",
       "    .dataframe tbody tr th:only-of-type {\n",
       "        vertical-align: middle;\n",
       "    }\n",
       "\n",
       "    .dataframe tbody tr th {\n",
       "        vertical-align: top;\n",
       "    }\n",
       "\n",
       "    .dataframe thead th {\n",
       "        text-align: right;\n",
       "    }\n",
       "</style>\n",
       "<table border=\"1\" class=\"dataframe\">\n",
       "  <thead>\n",
       "    <tr style=\"text-align: right;\">\n",
       "      <th></th>\n",
       "      <th>Trip_Distance_km</th>\n",
       "      <th>Time_of_Day</th>\n",
       "      <th>Day_of_Week</th>\n",
       "      <th>Passenger_Count</th>\n",
       "      <th>Traffic_Conditions</th>\n",
       "      <th>Weather</th>\n",
       "      <th>Base_Fare</th>\n",
       "      <th>Per_Km_Rate</th>\n",
       "      <th>Per_Minute_Rate</th>\n",
       "      <th>Trip_Duration_Minutes</th>\n",
       "      <th>Trip_Price</th>\n",
       "    </tr>\n",
       "  </thead>\n",
       "  <tbody>\n",
       "    <tr>\n",
       "      <th>0</th>\n",
       "      <td>19.35</td>\n",
       "      <td>Morning</td>\n",
       "      <td>Weekday</td>\n",
       "      <td>3.0</td>\n",
       "      <td>Low</td>\n",
       "      <td>Clear</td>\n",
       "      <td>3.56</td>\n",
       "      <td>0.80</td>\n",
       "      <td>0.32</td>\n",
       "      <td>53.82</td>\n",
       "      <td>36.2624</td>\n",
       "    </tr>\n",
       "    <tr>\n",
       "      <th>1</th>\n",
       "      <td>47.59</td>\n",
       "      <td>Afternoon</td>\n",
       "      <td>Weekday</td>\n",
       "      <td>1.0</td>\n",
       "      <td>High</td>\n",
       "      <td>Clear</td>\n",
       "      <td>NaN</td>\n",
       "      <td>0.62</td>\n",
       "      <td>0.43</td>\n",
       "      <td>40.57</td>\n",
       "      <td>NaN</td>\n",
       "    </tr>\n",
       "    <tr>\n",
       "      <th>2</th>\n",
       "      <td>36.87</td>\n",
       "      <td>Evening</td>\n",
       "      <td>Weekend</td>\n",
       "      <td>1.0</td>\n",
       "      <td>High</td>\n",
       "      <td>Clear</td>\n",
       "      <td>2.70</td>\n",
       "      <td>1.21</td>\n",
       "      <td>0.15</td>\n",
       "      <td>37.27</td>\n",
       "      <td>52.9032</td>\n",
       "    </tr>\n",
       "    <tr>\n",
       "      <th>3</th>\n",
       "      <td>30.33</td>\n",
       "      <td>Evening</td>\n",
       "      <td>Weekday</td>\n",
       "      <td>4.0</td>\n",
       "      <td>Low</td>\n",
       "      <td>NaN</td>\n",
       "      <td>3.48</td>\n",
       "      <td>0.51</td>\n",
       "      <td>0.15</td>\n",
       "      <td>116.81</td>\n",
       "      <td>36.4698</td>\n",
       "    </tr>\n",
       "    <tr>\n",
       "      <th>4</th>\n",
       "      <td>NaN</td>\n",
       "      <td>Evening</td>\n",
       "      <td>Weekday</td>\n",
       "      <td>3.0</td>\n",
       "      <td>High</td>\n",
       "      <td>Clear</td>\n",
       "      <td>2.93</td>\n",
       "      <td>0.63</td>\n",
       "      <td>0.32</td>\n",
       "      <td>22.64</td>\n",
       "      <td>15.6180</td>\n",
       "    </tr>\n",
       "  </tbody>\n",
       "</table>\n",
       "</div>"
      ],
      "text/plain": [
       "   Trip_Distance_km Time_of_Day Day_of_Week  Passenger_Count  \\\n",
       "0             19.35     Morning     Weekday              3.0   \n",
       "1             47.59   Afternoon     Weekday              1.0   \n",
       "2             36.87     Evening     Weekend              1.0   \n",
       "3             30.33     Evening     Weekday              4.0   \n",
       "4               NaN     Evening     Weekday              3.0   \n",
       "\n",
       "  Traffic_Conditions Weather  Base_Fare  Per_Km_Rate  Per_Minute_Rate  \\\n",
       "0                Low   Clear       3.56         0.80             0.32   \n",
       "1               High   Clear        NaN         0.62             0.43   \n",
       "2               High   Clear       2.70         1.21             0.15   \n",
       "3                Low     NaN       3.48         0.51             0.15   \n",
       "4               High   Clear       2.93         0.63             0.32   \n",
       "\n",
       "   Trip_Duration_Minutes  Trip_Price  \n",
       "0                  53.82     36.2624  \n",
       "1                  40.57         NaN  \n",
       "2                  37.27     52.9032  \n",
       "3                 116.81     36.4698  \n",
       "4                  22.64     15.6180  "
      ]
     },
     "execution_count": 1,
     "metadata": {},
     "output_type": "execute_result"
    }
   ],
   "source": [
    "import pandas as pd\n",
    "import matplotlib.pyplot as plt\n",
    "import seaborn as sns\n",
    "from taxipred.utils.constants import DATA_PATH\n",
    "\n",
    "\n",
    "df = pd.read_csv(DATA_PATH /\"taxi_trip_pricing.csv\")\n",
    "\n",
    "#Skriver ut de 5 första raderna i datasetet\n",
    "df.head()"
   ]
  },
  {
   "cell_type": "code",
   "execution_count": 2,
   "id": "15ecdc11",
   "metadata": {},
   "outputs": [
    {
     "data": {
      "text/plain": [
       "(1000, 11)"
      ]
     },
     "execution_count": 2,
     "metadata": {},
     "output_type": "execute_result"
    }
   ],
   "source": [
    "df.shape"
   ]
  },
  {
   "cell_type": "code",
   "execution_count": 3,
   "id": "dc4b709f",
   "metadata": {},
   "outputs": [
    {
     "data": {
      "text/html": [
       "<div>\n",
       "<style scoped>\n",
       "    .dataframe tbody tr th:only-of-type {\n",
       "        vertical-align: middle;\n",
       "    }\n",
       "\n",
       "    .dataframe tbody tr th {\n",
       "        vertical-align: top;\n",
       "    }\n",
       "\n",
       "    .dataframe thead th {\n",
       "        text-align: right;\n",
       "    }\n",
       "</style>\n",
       "<table border=\"1\" class=\"dataframe\">\n",
       "  <thead>\n",
       "    <tr style=\"text-align: right;\">\n",
       "      <th></th>\n",
       "      <th>count</th>\n",
       "      <th>mean</th>\n",
       "      <th>std</th>\n",
       "      <th>min</th>\n",
       "      <th>25%</th>\n",
       "      <th>50%</th>\n",
       "      <th>75%</th>\n",
       "      <th>max</th>\n",
       "    </tr>\n",
       "  </thead>\n",
       "  <tbody>\n",
       "    <tr>\n",
       "      <th>Trip_Distance_km</th>\n",
       "      <td>950.0</td>\n",
       "      <td>27.070547</td>\n",
       "      <td>19.905300</td>\n",
       "      <td>1.2300</td>\n",
       "      <td>12.63250</td>\n",
       "      <td>25.8300</td>\n",
       "      <td>38.40500</td>\n",
       "      <td>146.067047</td>\n",
       "    </tr>\n",
       "    <tr>\n",
       "      <th>Passenger_Count</th>\n",
       "      <td>950.0</td>\n",
       "      <td>2.476842</td>\n",
       "      <td>1.102249</td>\n",
       "      <td>1.0000</td>\n",
       "      <td>1.25000</td>\n",
       "      <td>2.0000</td>\n",
       "      <td>3.00000</td>\n",
       "      <td>4.000000</td>\n",
       "    </tr>\n",
       "    <tr>\n",
       "      <th>Base_Fare</th>\n",
       "      <td>950.0</td>\n",
       "      <td>3.502989</td>\n",
       "      <td>0.870162</td>\n",
       "      <td>2.0100</td>\n",
       "      <td>2.73000</td>\n",
       "      <td>3.5200</td>\n",
       "      <td>4.26000</td>\n",
       "      <td>5.000000</td>\n",
       "    </tr>\n",
       "    <tr>\n",
       "      <th>Per_Km_Rate</th>\n",
       "      <td>950.0</td>\n",
       "      <td>1.233316</td>\n",
       "      <td>0.429816</td>\n",
       "      <td>0.5000</td>\n",
       "      <td>0.86000</td>\n",
       "      <td>1.2200</td>\n",
       "      <td>1.61000</td>\n",
       "      <td>2.000000</td>\n",
       "    </tr>\n",
       "    <tr>\n",
       "      <th>Per_Minute_Rate</th>\n",
       "      <td>950.0</td>\n",
       "      <td>0.292916</td>\n",
       "      <td>0.115592</td>\n",
       "      <td>0.1000</td>\n",
       "      <td>0.19000</td>\n",
       "      <td>0.2900</td>\n",
       "      <td>0.39000</td>\n",
       "      <td>0.500000</td>\n",
       "    </tr>\n",
       "    <tr>\n",
       "      <th>Trip_Duration_Minutes</th>\n",
       "      <td>950.0</td>\n",
       "      <td>62.118116</td>\n",
       "      <td>32.154406</td>\n",
       "      <td>5.0100</td>\n",
       "      <td>35.88250</td>\n",
       "      <td>61.8600</td>\n",
       "      <td>89.05500</td>\n",
       "      <td>119.840000</td>\n",
       "    </tr>\n",
       "    <tr>\n",
       "      <th>Trip_Price</th>\n",
       "      <td>951.0</td>\n",
       "      <td>56.874773</td>\n",
       "      <td>40.469791</td>\n",
       "      <td>6.1269</td>\n",
       "      <td>33.74265</td>\n",
       "      <td>50.0745</td>\n",
       "      <td>69.09935</td>\n",
       "      <td>332.043689</td>\n",
       "    </tr>\n",
       "  </tbody>\n",
       "</table>\n",
       "</div>"
      ],
      "text/plain": [
       "                       count       mean        std     min       25%      50%  \\\n",
       "Trip_Distance_km       950.0  27.070547  19.905300  1.2300  12.63250  25.8300   \n",
       "Passenger_Count        950.0   2.476842   1.102249  1.0000   1.25000   2.0000   \n",
       "Base_Fare              950.0   3.502989   0.870162  2.0100   2.73000   3.5200   \n",
       "Per_Km_Rate            950.0   1.233316   0.429816  0.5000   0.86000   1.2200   \n",
       "Per_Minute_Rate        950.0   0.292916   0.115592  0.1000   0.19000   0.2900   \n",
       "Trip_Duration_Minutes  950.0  62.118116  32.154406  5.0100  35.88250  61.8600   \n",
       "Trip_Price             951.0  56.874773  40.469791  6.1269  33.74265  50.0745   \n",
       "\n",
       "                            75%         max  \n",
       "Trip_Distance_km       38.40500  146.067047  \n",
       "Passenger_Count         3.00000    4.000000  \n",
       "Base_Fare               4.26000    5.000000  \n",
       "Per_Km_Rate             1.61000    2.000000  \n",
       "Per_Minute_Rate         0.39000    0.500000  \n",
       "Trip_Duration_Minutes  89.05500  119.840000  \n",
       "Trip_Price             69.09935  332.043689  "
      ]
     },
     "execution_count": 3,
     "metadata": {},
     "output_type": "execute_result"
    }
   ],
   "source": [
    "df.describe().T"
   ]
  },
  {
   "cell_type": "code",
   "execution_count": 4,
   "id": "5b1c6755",
   "metadata": {},
   "outputs": [
    {
     "name": "stdout",
     "output_type": "stream",
     "text": [
      "<class 'pandas.core.frame.DataFrame'>\n",
      "RangeIndex: 1000 entries, 0 to 999\n",
      "Data columns (total 11 columns):\n",
      " #   Column                 Non-Null Count  Dtype  \n",
      "---  ------                 --------------  -----  \n",
      " 0   Trip_Distance_km       950 non-null    float64\n",
      " 1   Time_of_Day            950 non-null    object \n",
      " 2   Day_of_Week            950 non-null    object \n",
      " 3   Passenger_Count        950 non-null    float64\n",
      " 4   Traffic_Conditions     950 non-null    object \n",
      " 5   Weather                950 non-null    object \n",
      " 6   Base_Fare              950 non-null    float64\n",
      " 7   Per_Km_Rate            950 non-null    float64\n",
      " 8   Per_Minute_Rate        950 non-null    float64\n",
      " 9   Trip_Duration_Minutes  950 non-null    float64\n",
      " 10  Trip_Price             951 non-null    float64\n",
      "dtypes: float64(7), object(4)\n",
      "memory usage: 86.1+ KB\n"
     ]
    }
   ],
   "source": [
    "df.info()"
   ]
  },
  {
   "cell_type": "code",
   "execution_count": 5,
   "id": "484ed64d",
   "metadata": {},
   "outputs": [
    {
     "data": {
      "text/plain": [
       "Trip_Distance_km         50\n",
       "Time_of_Day              50\n",
       "Day_of_Week              50\n",
       "Passenger_Count          50\n",
       "Traffic_Conditions       50\n",
       "Weather                  50\n",
       "Base_Fare                50\n",
       "Per_Km_Rate              50\n",
       "Per_Minute_Rate          50\n",
       "Trip_Duration_Minutes    50\n",
       "Trip_Price               49\n",
       "dtype: int64"
      ]
     },
     "execution_count": 5,
     "metadata": {},
     "output_type": "execute_result"
    }
   ],
   "source": [
    "df.isna().sum()\n",
    "\n"
   ]
  },
  {
   "cell_type": "code",
   "execution_count": 6,
   "id": "243cc8a2",
   "metadata": {},
   "outputs": [
    {
     "data": {
      "text/plain": [
       "Trip_Distance_km  Time_of_Day  Day_of_Week  Passenger_Count  Traffic_Conditions  Weather  Base_Fare  Per_Km_Rate  Per_Minute_Rate  Trip_Duration_Minutes  Trip_Price\n",
       "1.270000          Morning      Weekday      2.0              High                Clear    4.47       0.62         0.16             37.99                  11.335800     1\n",
       "1.540000          Afternoon    Weekday      3.0              High                Clear    3.62       1.56         0.38             10.13                  9.871800      1\n",
       "1.560000          Afternoon    Weekday      4.0              High                Clear    2.93       1.31         0.37             79.16                  34.262800     1\n",
       "1.640000          Afternoon    Weekday      3.0              Low                 Clear    3.32       1.53         0.44             61.16                  32.739600     1\n",
       "1.710000          Morning      Weekday      4.0              High                Clear    4.45       1.27         0.18             87.85                  22.434700     1\n",
       "                                                                                                                                                                       ..\n",
       "138.763887        Night        Weekday      2.0              High                Clear    3.98       1.71         0.39             74.32                  332.043689    1\n",
       "139.062230        Afternoon    Weekday      2.0              Low                 Rain     2.80       1.82         0.14             50.83                  276.840597    1\n",
       "139.476515        Evening      Weekday      1.0              Low                 Clear    4.37       1.38         0.20             46.85                  296.088697    1\n",
       "145.747060        Morning      Weekday      3.0              High                Rain     2.82       0.83         0.49             60.29                  325.098950    1\n",
       "146.067047        Afternoon    Weekday      2.0              Medium              Clear    4.79       0.73         0.30             60.81                  320.958664    1\n",
       "Name: count, Length: 562, dtype: int64"
      ]
     },
     "execution_count": 6,
     "metadata": {},
     "output_type": "execute_result"
    }
   ],
   "source": [
    "df.value_counts()"
   ]
  },
  {
   "cell_type": "code",
   "execution_count": 7,
   "id": "742e5d4b",
   "metadata": {},
   "outputs": [
    {
     "name": "stdout",
     "output_type": "stream",
     "text": [
      "     Trip_Distance_km Time_of_Day Day_of_Week  Passenger_Count  \\\n",
      "1               47.59   Afternoon     Weekday              1.0   \n",
      "3               30.33     Evening     Weekday              4.0   \n",
      "4                 NaN     Evening     Weekday              3.0   \n",
      "6                3.85   Afternoon     Weekday              4.0   \n",
      "7               43.44     Evening     Weekend              3.0   \n",
      "..                ...         ...         ...              ...   \n",
      "991             35.04     Morning     Weekend              4.0   \n",
      "993               NaN     Morning     Weekday              3.0   \n",
      "996             45.95       Night     Weekday              4.0   \n",
      "997              7.70     Morning     Weekday              3.0   \n",
      "999             22.85     Morning     Weekend              3.0   \n",
      "\n",
      "    Traffic_Conditions Weather  Base_Fare  Per_Km_Rate  Per_Minute_Rate  \\\n",
      "1                 High   Clear        NaN         0.62             0.43   \n",
      "3                  Low     NaN       3.48         0.51             0.15   \n",
      "4                 High   Clear       2.93         0.63             0.32   \n",
      "6                 High    Rain       3.51         1.66              NaN   \n",
      "7                  NaN   Clear       2.97         1.87             0.23   \n",
      "..                 ...     ...        ...          ...              ...   \n",
      "991             Medium    Rain       2.90         1.10             0.15   \n",
      "993             Medium   Clear       2.65         1.35              NaN   \n",
      "996             Medium   Clear       3.12         0.61              NaN   \n",
      "997                Low    Rain       2.08         1.78              NaN   \n",
      "999             Medium   Clear       4.34          NaN             0.23   \n",
      "\n",
      "     Trip_Duration_Minutes  Trip_Price  \n",
      "1                    40.57         NaN  \n",
      "3                   116.81     36.4698  \n",
      "4                    22.64     15.6180  \n",
      "6                     5.05     11.2645  \n",
      "7                      NaN    101.1216  \n",
      "..                     ...         ...  \n",
      "991                   9.99         NaN  \n",
      "993                  25.61     55.3348  \n",
      "996                  61.96     62.1295  \n",
      "997                  54.18     33.1236  \n",
      "999                  29.69     45.4437  \n",
      "\n",
      "[438 rows x 11 columns]\n"
     ]
    }
   ],
   "source": [
    "df_with_nulls = df[df.isnull().any(axis=1)]\n",
    "print(df_with_nulls)\n"
   ]
  },
  {
   "cell_type": "code",
   "execution_count": 20,
   "id": "3483faf9",
   "metadata": {},
   "outputs": [
    {
     "data": {
      "text/plain": [
       "Index(['Trip_Distance_km', 'Time_of_Day', 'Day_of_Week', 'Passenger_Count',\n",
       "       'Traffic_Conditions', 'Weather', 'Base_Fare', 'Per_Km_Rate',\n",
       "       'Per_Minute_Rate', 'Trip_Duration_Minutes', 'Trip_Price'],\n",
       "      dtype='object')"
      ]
     },
     "execution_count": 20,
     "metadata": {},
     "output_type": "execute_result"
    }
   ],
   "source": [
    "df.columns"
   ]
  },
  {
   "cell_type": "code",
   "execution_count": 10,
   "id": "b4e5b22b",
   "metadata": {},
   "outputs": [
    {
     "data": {
      "text/html": [
       "<div>\n",
       "<style scoped>\n",
       "    .dataframe tbody tr th:only-of-type {\n",
       "        vertical-align: middle;\n",
       "    }\n",
       "\n",
       "    .dataframe tbody tr th {\n",
       "        vertical-align: top;\n",
       "    }\n",
       "\n",
       "    .dataframe thead th {\n",
       "        text-align: right;\n",
       "    }\n",
       "</style>\n",
       "<table border=\"1\" class=\"dataframe\">\n",
       "  <thead>\n",
       "    <tr style=\"text-align: right;\">\n",
       "      <th></th>\n",
       "      <th>Trip_Distance_km</th>\n",
       "      <th>Passenger_Count</th>\n",
       "      <th>Base_Fare</th>\n",
       "      <th>Per_Km_Rate</th>\n",
       "      <th>Per_Minute_Rate</th>\n",
       "      <th>Trip_Duration_Minutes</th>\n",
       "      <th>Trip_Price</th>\n",
       "    </tr>\n",
       "  </thead>\n",
       "  <tbody>\n",
       "    <tr>\n",
       "      <th>0</th>\n",
       "      <td>19.35</td>\n",
       "      <td>3.0</td>\n",
       "      <td>3.56</td>\n",
       "      <td>0.80</td>\n",
       "      <td>0.32</td>\n",
       "      <td>53.82</td>\n",
       "      <td>36.2624</td>\n",
       "    </tr>\n",
       "    <tr>\n",
       "      <th>1</th>\n",
       "      <td>47.59</td>\n",
       "      <td>1.0</td>\n",
       "      <td>NaN</td>\n",
       "      <td>0.62</td>\n",
       "      <td>0.43</td>\n",
       "      <td>40.57</td>\n",
       "      <td>NaN</td>\n",
       "    </tr>\n",
       "    <tr>\n",
       "      <th>2</th>\n",
       "      <td>36.87</td>\n",
       "      <td>1.0</td>\n",
       "      <td>2.70</td>\n",
       "      <td>1.21</td>\n",
       "      <td>0.15</td>\n",
       "      <td>37.27</td>\n",
       "      <td>52.9032</td>\n",
       "    </tr>\n",
       "    <tr>\n",
       "      <th>3</th>\n",
       "      <td>30.33</td>\n",
       "      <td>4.0</td>\n",
       "      <td>3.48</td>\n",
       "      <td>0.51</td>\n",
       "      <td>0.15</td>\n",
       "      <td>116.81</td>\n",
       "      <td>36.4698</td>\n",
       "    </tr>\n",
       "    <tr>\n",
       "      <th>4</th>\n",
       "      <td>NaN</td>\n",
       "      <td>3.0</td>\n",
       "      <td>2.93</td>\n",
       "      <td>0.63</td>\n",
       "      <td>0.32</td>\n",
       "      <td>22.64</td>\n",
       "      <td>15.6180</td>\n",
       "    </tr>\n",
       "    <tr>\n",
       "      <th>...</th>\n",
       "      <td>...</td>\n",
       "      <td>...</td>\n",
       "      <td>...</td>\n",
       "      <td>...</td>\n",
       "      <td>...</td>\n",
       "      <td>...</td>\n",
       "      <td>...</td>\n",
       "    </tr>\n",
       "    <tr>\n",
       "      <th>995</th>\n",
       "      <td>5.49</td>\n",
       "      <td>4.0</td>\n",
       "      <td>2.39</td>\n",
       "      <td>0.62</td>\n",
       "      <td>0.49</td>\n",
       "      <td>58.39</td>\n",
       "      <td>34.4049</td>\n",
       "    </tr>\n",
       "    <tr>\n",
       "      <th>996</th>\n",
       "      <td>45.95</td>\n",
       "      <td>4.0</td>\n",
       "      <td>3.12</td>\n",
       "      <td>0.61</td>\n",
       "      <td>NaN</td>\n",
       "      <td>61.96</td>\n",
       "      <td>62.1295</td>\n",
       "    </tr>\n",
       "    <tr>\n",
       "      <th>997</th>\n",
       "      <td>7.70</td>\n",
       "      <td>3.0</td>\n",
       "      <td>2.08</td>\n",
       "      <td>1.78</td>\n",
       "      <td>NaN</td>\n",
       "      <td>54.18</td>\n",
       "      <td>33.1236</td>\n",
       "    </tr>\n",
       "    <tr>\n",
       "      <th>998</th>\n",
       "      <td>47.56</td>\n",
       "      <td>1.0</td>\n",
       "      <td>2.67</td>\n",
       "      <td>0.82</td>\n",
       "      <td>0.17</td>\n",
       "      <td>114.94</td>\n",
       "      <td>61.2090</td>\n",
       "    </tr>\n",
       "    <tr>\n",
       "      <th>999</th>\n",
       "      <td>22.85</td>\n",
       "      <td>3.0</td>\n",
       "      <td>4.34</td>\n",
       "      <td>NaN</td>\n",
       "      <td>0.23</td>\n",
       "      <td>29.69</td>\n",
       "      <td>45.4437</td>\n",
       "    </tr>\n",
       "  </tbody>\n",
       "</table>\n",
       "<p>1000 rows × 7 columns</p>\n",
       "</div>"
      ],
      "text/plain": [
       "     Trip_Distance_km  Passenger_Count  Base_Fare  Per_Km_Rate  \\\n",
       "0               19.35              3.0       3.56         0.80   \n",
       "1               47.59              1.0        NaN         0.62   \n",
       "2               36.87              1.0       2.70         1.21   \n",
       "3               30.33              4.0       3.48         0.51   \n",
       "4                 NaN              3.0       2.93         0.63   \n",
       "..                ...              ...        ...          ...   \n",
       "995              5.49              4.0       2.39         0.62   \n",
       "996             45.95              4.0       3.12         0.61   \n",
       "997              7.70              3.0       2.08         1.78   \n",
       "998             47.56              1.0       2.67         0.82   \n",
       "999             22.85              3.0       4.34          NaN   \n",
       "\n",
       "     Per_Minute_Rate  Trip_Duration_Minutes  Trip_Price  \n",
       "0               0.32                  53.82     36.2624  \n",
       "1               0.43                  40.57         NaN  \n",
       "2               0.15                  37.27     52.9032  \n",
       "3               0.15                 116.81     36.4698  \n",
       "4               0.32                  22.64     15.6180  \n",
       "..               ...                    ...         ...  \n",
       "995             0.49                  58.39     34.4049  \n",
       "996              NaN                  61.96     62.1295  \n",
       "997              NaN                  54.18     33.1236  \n",
       "998             0.17                 114.94     61.2090  \n",
       "999             0.23                  29.69     45.4437  \n",
       "\n",
       "[1000 rows x 7 columns]"
      ]
     },
     "execution_count": 10,
     "metadata": {},
     "output_type": "execute_result"
    }
   ],
   "source": [
    "#Gör en df som enbart innehåller numeriska kategorier\n",
    "df_numerics = df.select_dtypes(include=\"number\")\n",
    "df_numerics"
   ]
  },
  {
   "cell_type": "code",
   "execution_count": null,
   "id": "16547b76",
   "metadata": {},
   "outputs": [
    {
     "data": {
      "image/png": "[encoded data removed]",
      "text/plain": [
       "<Figure size 600x400 with 1 Axes>"
      ]
     },
     "metadata": {},
     "output_type": "display_data"
    },
    {
     "data": {
      "image/png": "[encoded data removed]",
      "text/plain": [
       "<Figure size 600x400 with 1 Axes>"
      ]
     },
     "metadata": {},
     "output_type": "display_data"
    },
    {
     "data": {
      "image/png": "[encoded data removed]",
      "text/plain": [
       "<Figure size 600x400 with 1 Axes>"
      ]
     },
     "metadata": {},
     "output_type": "display_data"
    },
    {
     "data": {
      "image/png": "[encoded data removed]",
      "text/plain": [
       "<Figure size 600x400 with 1 Axes>"
      ]
     },
     "metadata": {},
     "output_type": "display_data"
    },
    {
     "data": {
      "image/png": "[encoded data removed]",
      "text/plain": [
       "<Figure size 600x400 with 1 Axes>"
      ]
     },
     "metadata": {},
     "output_type": "display_data"
    },
    {
     "data": {
      "image/png": "[encoded data removed]",
      "text/plain": [
       "<Figure size 600x400 with 1 Axes>"
      ]
     },
     "metadata": {},
     "output_type": "display_data"
    },
    {
     "data": {
      "image/png": "[encoded data removed]",
      "text/plain": [
       "<Figure size 600x400 with 1 Axes>"
      ]
     },
     "metadata": {},
     "output_type": "display_data"
    }
   ],
   "source": [
    "#Boxplot för samtliga numeriska kolumner, för att se vilka som innehåller outliers\n",
    "\n",
    "for col in df_numerics.columns:\n",
    "    plt.figure(figsize=(6, 4))\n",
    "    sns.boxplot(x=df_numerics[col])\n",
    "    plt.title(f\"Boxplot för {col}\")\n",
    "    plt.show()"
   ]
  },
  {
   "cell_type": "markdown",
   "id": "b5c62b4f",
   "metadata": {},
   "source": [
    "Filtrera bort alla nullvärden från trip_distance och trip_price"
   ]
  },
  {
   "cell_type": "code",
   "execution_count": 13,
   "id": "dc80a076",
   "metadata": {},
   "outputs": [
    {
     "name": "stdout",
     "output_type": "stream",
     "text": [
      "901\n"
     ]
    }
   ],
   "source": [
    "distance = \"Trip_Distance_km\"\n",
    "price = \"Trip_Price\"\n",
    "\n",
    "df_outliers = df.copy()\n",
    "\n",
    "df_outliers = df_outliers.dropna(subset= [distance, price])\n",
    "\n",
    "df_ = df_outliers[(df_outliers[distance] > 0) & (df_outliers[price] > 0)]\n",
    "print(len(df_))"
   ]
  },
  {
   "cell_type": "markdown",
   "id": "7798aa5c",
   "metadata": {},
   "source": [
    "Hitta antal outliers i distance"
   ]
  },
  {
   "cell_type": "code",
   "execution_count": 32,
   "id": "2eb86457",
   "metadata": {},
   "outputs": [
    {
     "name": "stdout",
     "output_type": "stream",
     "text": [
      "Outliers: 20\n"
     ]
    }
   ],
   "source": [
    "q1 = df_[distance].quantile(0.25)\n",
    "q3 = df_[distance].quantile(0.75)\n",
    "iqr = q3 - q1\n",
    "\n",
    "lower_d = q1 - 1.5 * iqr\n",
    "upper_d = q3 + 1.5 * iqr\n",
    "\n",
    "mask_outliers_distance = (df_[distance] < lower_d) | (df_[distance] > upper_d)\n",
    "\n",
    "print(\"Outliers:\", mask_outliers_distance.sum())"
   ]
  },
  {
   "cell_type": "markdown",
   "id": "56c34dd6",
   "metadata": {},
   "source": [
    "Hitta antal outliers i price"
   ]
  },
  {
   "cell_type": "code",
   "execution_count": 33,
   "id": "b6fedf7c",
   "metadata": {},
   "outputs": [
    {
     "name": "stdout",
     "output_type": "stream",
     "text": [
      "Outliers: 25\n"
     ]
    }
   ],
   "source": [
    "q1 = df_[price].quantile(0.25)\n",
    "q3 = df_[price].quantile(0.75)\n",
    "iqr = q3 - q1\n",
    "\n",
    "lower_p = q1 - 1.5 * iqr\n",
    "upper_p = q3 + 1.5 * iqr\n",
    "\n",
    "mask_outliers_price = (df_[price] < lower_p) | (df_[price] > upper_p)\n",
    "print(\"Outliers:\", mask_outliers_price.sum())"
   ]
  },
  {
   "cell_type": "code",
   "execution_count": 40,
   "id": "eb63eff8",
   "metadata": {},
   "outputs": [
    {
     "data": {
      "image/png": "[encoded data removed]",
      "text/plain": [
       "<Figure size 640x480 with 1 Axes>"
      ]
     },
     "metadata": {},
     "output_type": "display_data"
    },
    {
     "data": {
      "image/png": "[encoded data removed]",
      "text/plain": [
       "<Figure size 640x480 with 1 Axes>"
      ]
     },
     "metadata": {},
     "output_type": "display_data"
    }
   ],
   "source": [
    "sns.boxplot(x=df_[\"Trip_Distance_km\"])\n",
    "plt.title(\"Boxplot - Trip_Distance_km\")\n",
    "plt.show()\n",
    "\n",
    "sns.boxplot(x=df_[\"Trip_Price\"])\n",
    "plt.title(\"Boxplot - Trip_Price\")\n",
    "plt.show()"
   ]
  },
  {
   "cell_type": "code",
   "execution_count": null,
   "id": "846e66fa",
   "metadata": {},
   "outputs": [
    {
     "data": {
      "image/png": "[encoded data removed]",
      "text/plain": [
       "<Figure size 640x480 with 1 Axes>"
      ]
     },
     "metadata": {},
     "output_type": "display_data"
    }
   ],
   "source": [
    "# Histogram för distance\n",
    "\n",
    "sns.histplot(df_[\"Trip_Distance_km\"], bins=30, kde=False, color=\"skyblue\")\n",
    "plt.axvline(lower_d, color=\"red\", linestyle=\"--\")\n",
    "plt.axvline(upper_d, color=\"red\", linestyle=\"--\")\n",
    "plt.title(\"Histogram - Trip_Distance_km med outliergränser\")\n",
    "plt.show()\n",
    "\n"
   ]
  },
  {
   "cell_type": "code",
   "execution_count": null,
   "id": "45e85ad9",
   "metadata": {},
   "outputs": [
    {
     "data": {
      "image/png": "[encoded data removed]",
      "text/plain": [
       "<Figure size 640x480 with 1 Axes>"
      ]
     },
     "metadata": {},
     "output_type": "display_data"
    }
   ],
   "source": [
    "# Histogram för price\n",
    "sns.histplot(df_[\"Trip_Price\"], bins=30, kde=False, color=\"lightgreen\")\n",
    "plt.axvline(lower_p, color=\"red\", linestyle=\"--\")\n",
    "plt.axvline(upper_p, color=\"red\", linestyle=\"--\")\n",
    "plt.title(\"Histogram - Trip_Price med outliergränser\")\n",
    "plt.show()"
   ]
  },
  {
   "cell_type": "code",
   "execution_count": 43,
   "id": "4633dea7",
   "metadata": {},
   "outputs": [
    {
     "data": {
      "image/png": "[encoded data removed]",
      "text/plain": [
       "<Figure size 640x480 with 1 Axes>"
      ]
     },
     "metadata": {},
     "output_type": "display_data"
    }
   ],
   "source": [
    "sns.scatterplot(data=df_, x=\"Trip_Distance_km\", y=\"Trip_Price\", alpha=0.6)\n",
    "\n",
    "# markera outliers (t.ex. distance)\n",
    "sns.scatterplot(data=df_[mask_outliers_distance], x=\"Trip_Distance_km\", y=\"Trip_Price\", \n",
    "                color=\"red\", label=\"Distance outliers\")\n",
    "\n",
    "# markera outliers (t.ex. price)\n",
    "sns.scatterplot(data=df_[mask_outliers_price], x=\"Trip_Distance_km\", y=\"Trip_Price\", \n",
    "                color=\"orange\", label=\"Price outliers\")\n",
    "\n",
    "plt.title(\"Trip Distance vs Trip Price - Outliers markerade\")\n",
    "plt.legend()\n",
    "plt.show()"
   ]
  },
  {
   "cell_type": "markdown",
   "id": "9416daab",
   "metadata": {},
   "source": [
    "Ta bort outliers - distance och price.   \n",
    "Spara till ny df (df_clean)"
   ]
  },
  {
   "cell_type": "code",
   "execution_count": 44,
   "id": "7b30b304",
   "metadata": {},
   "outputs": [],
   "source": [
    "\n",
    "distance= \"Trip_Distance_km\"\n",
    "\n",
    "q1_d = df_[distance].quantile(0.25)\n",
    "q3_d = df_[distance].quantile(0.75)\n",
    "iqr_d = q3_d - q1_d\n",
    "\n",
    "lower_d = q1_d - 1.5 * iqr_d\n",
    "upper_d = q3_d + 1.5 * iqr_d\n",
    "\n"
   ]
  },
  {
   "cell_type": "code",
   "execution_count": 45,
   "id": "831dda9e",
   "metadata": {},
   "outputs": [],
   "source": [
    "price =  \"Trip_Price\" \n",
    "\n",
    "q1_p = df[price].quantile(0.25)\n",
    "q3_p = df[price].quantile(0.75)\n",
    "iqr_p = q3_p - q1_p\n",
    "lower_p = q1_p - 1.5 * iqr_p\n",
    "upper_p = q3_p + 1.5 * iqr_p"
   ]
  },
  {
   "cell_type": "code",
   "execution_count": 46,
   "id": "407d1fa1",
   "metadata": {},
   "outputs": [
    {
     "name": "stdout",
     "output_type": "stream",
     "text": [
      "Original dataset: 1000 rader\n",
      "Utan outliers:    876 rader\n",
      "Borttagna:        124 rader\n"
     ]
    }
   ],
   "source": [
    "df_clean = df[\n",
    "    (df[distance] >= lower_d) & (df[distance] <= upper_d) &\n",
    "    (df[price] >= lower_p) & (df[price] <= upper_p)\n",
    "].copy()\n",
    "\n",
    "print(f\"Original dataset: {len(df)} rader\")\n",
    "print(f\"Utan outliers:    {len(df_clean)} rader\")\n",
    "print(f\"Borttagna:        {len(df) - len(df_clean)} rader\")"
   ]
  },
  {
   "cell_type": "code",
   "execution_count": 52,
   "id": "bd3a0f68",
   "metadata": {},
   "outputs": [
    {
     "name": "stdout",
     "output_type": "stream",
     "text": [
      "<class 'pandas.core.frame.DataFrame'>\n",
      "Index: 876 entries, 0 to 999\n",
      "Data columns (total 11 columns):\n",
      " #   Column                 Non-Null Count  Dtype  \n",
      "---  ------                 --------------  -----  \n",
      " 0   Trip_Distance_km       876 non-null    float64\n",
      " 1   Time_of_Day            831 non-null    object \n",
      " 2   Day_of_Week            835 non-null    object \n",
      " 3   Passenger_Count        833 non-null    float64\n",
      " 4   Traffic_Conditions     828 non-null    object \n",
      " 5   Weather                833 non-null    object \n",
      " 6   Base_Fare              834 non-null    float64\n",
      " 7   Per_Km_Rate            835 non-null    float64\n",
      " 8   Per_Minute_Rate        831 non-null    float64\n",
      " 9   Trip_Duration_Minutes  833 non-null    float64\n",
      " 10  Trip_Price             876 non-null    float64\n",
      "dtypes: float64(7), object(4)\n",
      "memory usage: 82.1+ KB\n"
     ]
    }
   ],
   "source": [
    "df_clean.info()"
   ]
  },
  {
   "cell_type": "markdown",
   "id": "185e1ba9",
   "metadata": {},
   "source": [
    "____________________________"
   ]
  },
  {
   "cell_type": "markdown",
   "id": "6cc1e259",
   "metadata": {},
   "source": [
    "##### Hantera nullvärden i Time_Of_Day"
   ]
  },
  {
   "cell_type": "code",
   "execution_count": 53,
   "id": "afc30d4d",
   "metadata": {},
   "outputs": [
    {
     "name": "stdout",
     "output_type": "stream",
     "text": [
      "Time_of_Day\n",
      "Afternoon    326\n",
      "Morning      242\n",
      "Evening      182\n",
      "Night         81\n",
      "NaN           45\n",
      "Name: count, dtype: int64\n"
     ]
    }
   ],
   "source": [
    "print(df_clean[\"Time_of_Day\"].value_counts(dropna=False))"
   ]
  },
  {
   "cell_type": "markdown",
   "id": "90aeafcf",
   "metadata": {},
   "source": [
    "Grupperar datan på 'Time of day' och jämför med 'Trip Price' för att se om priset påverkas av vilke tid på dygnet som kunden åker. "
   ]
  },
  {
   "cell_type": "code",
   "execution_count": 54,
   "id": "3549be81",
   "metadata": {},
   "outputs": [
    {
     "data": {
      "text/html": [
       "<div>\n",
       "<style scoped>\n",
       "    .dataframe tbody tr th:only-of-type {\n",
       "        vertical-align: middle;\n",
       "    }\n",
       "\n",
       "    .dataframe tbody tr th {\n",
       "        vertical-align: top;\n",
       "    }\n",
       "\n",
       "    .dataframe thead th {\n",
       "        text-align: right;\n",
       "    }\n",
       "</style>\n",
       "<table border=\"1\" class=\"dataframe\">\n",
       "  <thead>\n",
       "    <tr style=\"text-align: right;\">\n",
       "      <th></th>\n",
       "      <th>count</th>\n",
       "      <th>mean</th>\n",
       "      <th>std</th>\n",
       "      <th>min</th>\n",
       "      <th>25%</th>\n",
       "      <th>50%</th>\n",
       "      <th>75%</th>\n",
       "      <th>max</th>\n",
       "    </tr>\n",
       "    <tr>\n",
       "      <th>Time_of_Day</th>\n",
       "      <th></th>\n",
       "      <th></th>\n",
       "      <th></th>\n",
       "      <th></th>\n",
       "      <th></th>\n",
       "      <th></th>\n",
       "      <th></th>\n",
       "      <th></th>\n",
       "    </tr>\n",
       "  </thead>\n",
       "  <tbody>\n",
       "    <tr>\n",
       "      <th>Afternoon</th>\n",
       "      <td>326.0</td>\n",
       "      <td>52.526255</td>\n",
       "      <td>23.606470</td>\n",
       "      <td>6.4729</td>\n",
       "      <td>33.527175</td>\n",
       "      <td>51.01305</td>\n",
       "      <td>68.438000</td>\n",
       "      <td>118.0321</td>\n",
       "    </tr>\n",
       "    <tr>\n",
       "      <th>Evening</th>\n",
       "      <td>182.0</td>\n",
       "      <td>52.604703</td>\n",
       "      <td>24.343566</td>\n",
       "      <td>8.6709</td>\n",
       "      <td>34.649025</td>\n",
       "      <td>48.34925</td>\n",
       "      <td>66.821825</td>\n",
       "      <td>114.9417</td>\n",
       "    </tr>\n",
       "    <tr>\n",
       "      <th>Morning</th>\n",
       "      <td>242.0</td>\n",
       "      <td>51.251713</td>\n",
       "      <td>23.412132</td>\n",
       "      <td>6.1269</td>\n",
       "      <td>32.996275</td>\n",
       "      <td>48.59415</td>\n",
       "      <td>65.768925</td>\n",
       "      <td>117.7468</td>\n",
       "    </tr>\n",
       "    <tr>\n",
       "      <th>Night</th>\n",
       "      <td>81.0</td>\n",
       "      <td>51.039348</td>\n",
       "      <td>21.250143</td>\n",
       "      <td>12.5567</td>\n",
       "      <td>34.578100</td>\n",
       "      <td>47.84690</td>\n",
       "      <td>66.536300</td>\n",
       "      <td>105.1440</td>\n",
       "    </tr>\n",
       "  </tbody>\n",
       "</table>\n",
       "</div>"
      ],
      "text/plain": [
       "             count       mean        std      min        25%       50%  \\\n",
       "Time_of_Day                                                              \n",
       "Afternoon    326.0  52.526255  23.606470   6.4729  33.527175  51.01305   \n",
       "Evening      182.0  52.604703  24.343566   8.6709  34.649025  48.34925   \n",
       "Morning      242.0  51.251713  23.412132   6.1269  32.996275  48.59415   \n",
       "Night         81.0  51.039348  21.250143  12.5567  34.578100  47.84690   \n",
       "\n",
       "                   75%       max  \n",
       "Time_of_Day                       \n",
       "Afternoon    68.438000  118.0321  \n",
       "Evening      66.821825  114.9417  \n",
       "Morning      65.768925  117.7468  \n",
       "Night        66.536300  105.1440  "
      ]
     },
     "execution_count": 54,
     "metadata": {},
     "output_type": "execute_result"
    }
   ],
   "source": [
    "df_clean.groupby(\"Time_of_Day\")[\"Trip_Price\"].describe()"
   ]
  },
  {
   "cell_type": "markdown",
   "id": "4c5b8cb6",
   "metadata": {},
   "source": [
    "Priset påverkas väldigt lite av tid på dygnet. Efter att ha testat med 'mode' i notebooken eda_objects beslutar jag att ersätta nullvärden med det mest vanligt förekommande tiden på dygnet, som i det här fallet är 'Afternoon'"
   ]
  },
  {
   "cell_type": "code",
   "execution_count": 55,
   "id": "f3881e64",
   "metadata": {},
   "outputs": [
    {
     "data": {
      "text/plain": [
       "Time_of_Day\n",
       "Afternoon    52.526255\n",
       "Evening      52.604703\n",
       "Morning      51.251713\n",
       "Night        51.039348\n",
       "Name: Trip_Price, dtype: float64"
      ]
     },
     "execution_count": 55,
     "metadata": {},
     "output_type": "execute_result"
    }
   ],
   "source": [
    "df_clean.groupby(\"Time_of_Day\")[\"Trip_Price\"].mean()"
   ]
  },
  {
   "cell_type": "code",
   "execution_count": 58,
   "id": "ec4f0b77",
   "metadata": {},
   "outputs": [
    {
     "name": "stdout",
     "output_type": "stream",
     "text": [
      "Afternoon\n"
     ]
    }
   ],
   "source": [
    "most_common = df_clean[\"Time_of_Day\"].mode()[0]\n",
    "print(most_common)\n",
    "\n"
   ]
  },
  {
   "cell_type": "code",
   "execution_count": 59,
   "id": "d612be87",
   "metadata": {},
   "outputs": [],
   "source": [
    "df_clean[\"Time_of_Day\"] = df_clean[\"Time_of_Day\"].fillna(most_common)"
   ]
  },
  {
   "cell_type": "code",
   "execution_count": 60,
   "id": "37cac570",
   "metadata": {},
   "outputs": [
    {
     "name": "stdout",
     "output_type": "stream",
     "text": [
      "<class 'pandas.core.frame.DataFrame'>\n",
      "Index: 876 entries, 0 to 999\n",
      "Data columns (total 11 columns):\n",
      " #   Column                 Non-Null Count  Dtype  \n",
      "---  ------                 --------------  -----  \n",
      " 0   Trip_Distance_km       876 non-null    float64\n",
      " 1   Time_of_Day            876 non-null    object \n",
      " 2   Day_of_Week            835 non-null    object \n",
      " 3   Passenger_Count        833 non-null    float64\n",
      " 4   Traffic_Conditions     828 non-null    object \n",
      " 5   Weather                833 non-null    object \n",
      " 6   Base_Fare              834 non-null    float64\n",
      " 7   Per_Km_Rate            835 non-null    float64\n",
      " 8   Per_Minute_Rate        831 non-null    float64\n",
      " 9   Trip_Duration_Minutes  833 non-null    float64\n",
      " 10  Trip_Price             876 non-null    float64\n",
      "dtypes: float64(7), object(4)\n",
      "memory usage: 82.1+ KB\n"
     ]
    }
   ],
   "source": [
    "df_clean.info()"
   ]
  },
  {
   "cell_type": "markdown",
   "id": "6d9c2a3c",
   "metadata": {},
   "source": [
    "##### Hantera nullvärden i \"Day_of_week\"\n",
    "Efter att ha utforskat kolumnen i notebooken eda_objects ser jag att det är fler resor som sker på vardagar än på helger. Ersätter jag null-värden med weekday blir det ännu fler resor som utförs på veckordagar, vilken kan vara missvisande. Beslutar mig därför för att ersätta nullvärden med texten 'Unknown' i min rensade dataframe. \n"
   ]
  },
  {
   "cell_type": "code",
   "execution_count": 61,
   "id": "40e36d93",
   "metadata": {},
   "outputs": [
    {
     "name": "stdout",
     "output_type": "stream",
     "text": [
      "<class 'pandas.core.frame.DataFrame'>\n",
      "Index: 876 entries, 0 to 999\n",
      "Data columns (total 11 columns):\n",
      " #   Column                 Non-Null Count  Dtype  \n",
      "---  ------                 --------------  -----  \n",
      " 0   Trip_Distance_km       876 non-null    float64\n",
      " 1   Time_of_Day            876 non-null    object \n",
      " 2   Day_of_Week            876 non-null    object \n",
      " 3   Passenger_Count        833 non-null    float64\n",
      " 4   Traffic_Conditions     828 non-null    object \n",
      " 5   Weather                833 non-null    object \n",
      " 6   Base_Fare              834 non-null    float64\n",
      " 7   Per_Km_Rate            835 non-null    float64\n",
      " 8   Per_Minute_Rate        831 non-null    float64\n",
      " 9   Trip_Duration_Minutes  833 non-null    float64\n",
      " 10  Trip_Price             876 non-null    float64\n",
      "dtypes: float64(7), object(4)\n",
      "memory usage: 82.1+ KB\n"
     ]
    }
   ],
   "source": [
    "df_clean[\"Day_of_Week\"] = df_clean[\"Day_of_Week\"].fillna(\"Unknown\")\n",
    "\n",
    "df_clean.info()"
   ]
  },
  {
   "cell_type": "markdown",
   "id": "49af9d32",
   "metadata": {},
   "source": [
    "##### Hantera nullvärden i \"Traffic conditions\"\n",
    "Efter att ha utforskat kolumnen i notebooken eda_objects ser jag att det finns en viss korrelation mellan mängden trafik och pris. Ersätter jag nullvärden med 'most common' finns risk att priset inte återspeglas i trafiksituationen. \n",
    "Jag bestämmer mig därför för att ändra värdet till Unknown även här. "
   ]
  },
  {
   "cell_type": "code",
   "execution_count": 62,
   "id": "b1d5cd2c",
   "metadata": {},
   "outputs": [
    {
     "name": "stdout",
     "output_type": "stream",
     "text": [
      "<class 'pandas.core.frame.DataFrame'>\n",
      "Index: 876 entries, 0 to 999\n",
      "Data columns (total 11 columns):\n",
      " #   Column                 Non-Null Count  Dtype  \n",
      "---  ------                 --------------  -----  \n",
      " 0   Trip_Distance_km       876 non-null    float64\n",
      " 1   Time_of_Day            876 non-null    object \n",
      " 2   Day_of_Week            876 non-null    object \n",
      " 3   Passenger_Count        833 non-null    float64\n",
      " 4   Traffic_Conditions     876 non-null    object \n",
      " 5   Weather                833 non-null    object \n",
      " 6   Base_Fare              834 non-null    float64\n",
      " 7   Per_Km_Rate            835 non-null    float64\n",
      " 8   Per_Minute_Rate        831 non-null    float64\n",
      " 9   Trip_Duration_Minutes  833 non-null    float64\n",
      " 10  Trip_Price             876 non-null    float64\n",
      "dtypes: float64(7), object(4)\n",
      "memory usage: 82.1+ KB\n"
     ]
    }
   ],
   "source": [
    "df_clean[\"Traffic_Conditions\"] = df_clean[\"Traffic_Conditions\"].fillna(\"Unknown\")\n",
    "\n",
    "df_clean.info()"
   ]
  },
  {
   "cell_type": "markdown",
   "id": "4d6e647c",
   "metadata": {},
   "source": [
    "##### Hantera nullvärden i \"Weather\"\n",
    "Efter att ha utforskat kolumnen i notebooken eda_objects ser jag att det finns en viss korrelation mellan mängden väder och pris. Ersätter jag nullvärden med 'most common' finns det risk att det det blir en snedfördelning av 'Clear' i datasetet. Ersätter därför nullvärden med 'Unknown' även här. "
   ]
  },
  {
   "cell_type": "code",
   "execution_count": 70,
   "id": "3c61e30f",
   "metadata": {},
   "outputs": [
    {
     "name": "stdout",
     "output_type": "stream",
     "text": [
      "<class 'pandas.core.frame.DataFrame'>\n",
      "Index: 876 entries, 0 to 999\n",
      "Data columns (total 11 columns):\n",
      " #   Column                 Non-Null Count  Dtype  \n",
      "---  ------                 --------------  -----  \n",
      " 0   Trip_Distance_km       876 non-null    float64\n",
      " 1   Time_of_Day            876 non-null    object \n",
      " 2   Day_of_Week            876 non-null    object \n",
      " 3   Passenger_Count        876 non-null    float64\n",
      " 4   Traffic_Conditions     876 non-null    object \n",
      " 5   Weather                876 non-null    object \n",
      " 6   Base_Fare              834 non-null    float64\n",
      " 7   Per_Km_Rate            835 non-null    float64\n",
      " 8   Per_Minute_Rate        831 non-null    float64\n",
      " 9   Trip_Duration_Minutes  833 non-null    float64\n",
      " 10  Trip_Price             876 non-null    float64\n",
      "dtypes: float64(7), object(4)\n",
      "memory usage: 82.1+ KB\n"
     ]
    }
   ],
   "source": [
    "df_clean[\"Weather\"] = df_clean[\"Weather\"].fillna(\"Unknown\")\n",
    "\n",
    "df_clean.info()"
   ]
  },
  {
   "cell_type": "markdown",
   "id": "7b4aecfe",
   "metadata": {},
   "source": [
    "##### Hantera nullvärden i \"Passenger_Count \"\n",
    "Efter att ha utforskat kolumnen i notebooken eda_numerics ser jag att korrelationen mellan antalet passagerare och pris är ganska liten. Antalet passagerare är även jämt fördelade. Utifrån detta bestämmer jag mig för att ersätta null-värdena med medianvärde för antal passagerare. Median-värdet är två passagerare. "
   ]
  },
  {
   "cell_type": "code",
   "execution_count": 71,
   "id": "1d1350bb",
   "metadata": {},
   "outputs": [
    {
     "name": "stdout",
     "output_type": "stream",
     "text": [
      "<class 'pandas.core.frame.DataFrame'>\n",
      "Index: 876 entries, 0 to 999\n",
      "Data columns (total 11 columns):\n",
      " #   Column                 Non-Null Count  Dtype  \n",
      "---  ------                 --------------  -----  \n",
      " 0   Trip_Distance_km       876 non-null    float64\n",
      " 1   Time_of_Day            876 non-null    object \n",
      " 2   Day_of_Week            876 non-null    object \n",
      " 3   Passenger_Count        876 non-null    float64\n",
      " 4   Traffic_Conditions     876 non-null    object \n",
      " 5   Weather                876 non-null    object \n",
      " 6   Base_Fare              834 non-null    float64\n",
      " 7   Per_Km_Rate            835 non-null    float64\n",
      " 8   Per_Minute_Rate        831 non-null    float64\n",
      " 9   Trip_Duration_Minutes  833 non-null    float64\n",
      " 10  Trip_Price             876 non-null    float64\n",
      "dtypes: float64(7), object(4)\n",
      "memory usage: 82.1+ KB\n"
     ]
    }
   ],
   "source": [
    "passengers_median = df_clean[\"Passenger_Count\"].median()\n",
    "\n",
    "df_clean[\"Passenger_Count\"] = df_clean[\"Passenger_Count\"].fillna(passengers_median)\n",
    "\n",
    "df_clean.info()"
   ]
  },
  {
   "cell_type": "markdown",
   "id": "2477c29e",
   "metadata": {},
   "source": [
    "------------------------------"
   ]
  },
  {
   "cell_type": "code",
   "execution_count": 73,
   "id": "89420027",
   "metadata": {},
   "outputs": [
    {
     "data": {
      "text/html": [
       "<div>\n",
       "<style scoped>\n",
       "    .dataframe tbody tr th:only-of-type {\n",
       "        vertical-align: middle;\n",
       "    }\n",
       "\n",
       "    .dataframe tbody tr th {\n",
       "        vertical-align: top;\n",
       "    }\n",
       "\n",
       "    .dataframe thead th {\n",
       "        text-align: right;\n",
       "    }\n",
       "</style>\n",
       "<table border=\"1\" class=\"dataframe\">\n",
       "  <thead>\n",
       "    <tr style=\"text-align: right;\">\n",
       "      <th></th>\n",
       "      <th>count</th>\n",
       "      <th>mean</th>\n",
       "      <th>std</th>\n",
       "      <th>min</th>\n",
       "      <th>25%</th>\n",
       "      <th>50%</th>\n",
       "      <th>75%</th>\n",
       "      <th>max</th>\n",
       "    </tr>\n",
       "  </thead>\n",
       "  <tbody>\n",
       "    <tr>\n",
       "      <th>Trip_Distance_km</th>\n",
       "      <td>876.0</td>\n",
       "      <td>24.947683</td>\n",
       "      <td>14.332743</td>\n",
       "      <td>1.2300</td>\n",
       "      <td>12.152500</td>\n",
       "      <td>25.2700</td>\n",
       "      <td>37.59250</td>\n",
       "      <td>49.9900</td>\n",
       "    </tr>\n",
       "    <tr>\n",
       "      <th>Passenger_Count</th>\n",
       "      <td>876.0</td>\n",
       "      <td>2.463470</td>\n",
       "      <td>1.075350</td>\n",
       "      <td>1.0000</td>\n",
       "      <td>2.000000</td>\n",
       "      <td>2.0000</td>\n",
       "      <td>3.00000</td>\n",
       "      <td>4.0000</td>\n",
       "    </tr>\n",
       "    <tr>\n",
       "      <th>Base_Fare</th>\n",
       "      <td>834.0</td>\n",
       "      <td>3.506799</td>\n",
       "      <td>0.869040</td>\n",
       "      <td>2.0100</td>\n",
       "      <td>2.730000</td>\n",
       "      <td>3.5250</td>\n",
       "      <td>4.26000</td>\n",
       "      <td>5.0000</td>\n",
       "    </tr>\n",
       "    <tr>\n",
       "      <th>Per_Km_Rate</th>\n",
       "      <td>835.0</td>\n",
       "      <td>1.230419</td>\n",
       "      <td>0.430016</td>\n",
       "      <td>0.5000</td>\n",
       "      <td>0.860000</td>\n",
       "      <td>1.2200</td>\n",
       "      <td>1.61000</td>\n",
       "      <td>2.0000</td>\n",
       "    </tr>\n",
       "    <tr>\n",
       "      <th>Per_Minute_Rate</th>\n",
       "      <td>831.0</td>\n",
       "      <td>0.291961</td>\n",
       "      <td>0.115792</td>\n",
       "      <td>0.1000</td>\n",
       "      <td>0.190000</td>\n",
       "      <td>0.2900</td>\n",
       "      <td>0.39000</td>\n",
       "      <td>0.5000</td>\n",
       "    </tr>\n",
       "    <tr>\n",
       "      <th>Trip_Duration_Minutes</th>\n",
       "      <td>833.0</td>\n",
       "      <td>61.963337</td>\n",
       "      <td>32.433853</td>\n",
       "      <td>5.0100</td>\n",
       "      <td>35.480000</td>\n",
       "      <td>61.9300</td>\n",
       "      <td>89.15000</td>\n",
       "      <td>119.8400</td>\n",
       "    </tr>\n",
       "    <tr>\n",
       "      <th>Trip_Price</th>\n",
       "      <td>876.0</td>\n",
       "      <td>51.835674</td>\n",
       "      <td>23.510659</td>\n",
       "      <td>6.1269</td>\n",
       "      <td>33.355925</td>\n",
       "      <td>48.7955</td>\n",
       "      <td>66.56975</td>\n",
       "      <td>118.0321</td>\n",
       "    </tr>\n",
       "  </tbody>\n",
       "</table>\n",
       "</div>"
      ],
      "text/plain": [
       "                       count       mean        std     min        25%  \\\n",
       "Trip_Distance_km       876.0  24.947683  14.332743  1.2300  12.152500   \n",
       "Passenger_Count        876.0   2.463470   1.075350  1.0000   2.000000   \n",
       "Base_Fare              834.0   3.506799   0.869040  2.0100   2.730000   \n",
       "Per_Km_Rate            835.0   1.230419   0.430016  0.5000   0.860000   \n",
       "Per_Minute_Rate        831.0   0.291961   0.115792  0.1000   0.190000   \n",
       "Trip_Duration_Minutes  833.0  61.963337  32.433853  5.0100  35.480000   \n",
       "Trip_Price             876.0  51.835674  23.510659  6.1269  33.355925   \n",
       "\n",
       "                           50%       75%       max  \n",
       "Trip_Distance_km       25.2700  37.59250   49.9900  \n",
       "Passenger_Count         2.0000   3.00000    4.0000  \n",
       "Base_Fare               3.5250   4.26000    5.0000  \n",
       "Per_Km_Rate             1.2200   1.61000    2.0000  \n",
       "Per_Minute_Rate         0.2900   0.39000    0.5000  \n",
       "Trip_Duration_Minutes  61.9300  89.15000  119.8400  \n",
       "Trip_Price             48.7955  66.56975  118.0321  "
      ]
     },
     "execution_count": 73,
     "metadata": {},
     "output_type": "execute_result"
    }
   ],
   "source": [
    "df_clean.describe().T"
   ]
  },
  {
   "cell_type": "markdown",
   "id": "39e97bf0",
   "metadata": {},
   "source": [
    "### Ersätta nullvärden i övriga numeriska kategorier\n",
    "Eftersom jag redan tagit bort outliers bedömer jag att jag kan ersätta överiga numeriska kolumner med medianvärde. "
   ]
  },
  {
   "cell_type": "code",
   "execution_count": 76,
   "id": "82584d46",
   "metadata": {},
   "outputs": [],
   "source": [
    "for col in [\"Base_Fare\", \"Per_Km_Rate\", \"Per_Minute_Rate\", \"Trip_Duration_Minutes\"]:\n",
    "    df_clean[col] = df_clean[col].fillna(df_clean[col].median())"
   ]
  },
  {
   "cell_type": "code",
   "execution_count": 77,
   "id": "a491ac05",
   "metadata": {},
   "outputs": [
    {
     "name": "stdout",
     "output_type": "stream",
     "text": [
      "<class 'pandas.core.frame.DataFrame'>\n",
      "Index: 876 entries, 0 to 999\n",
      "Data columns (total 11 columns):\n",
      " #   Column                 Non-Null Count  Dtype  \n",
      "---  ------                 --------------  -----  \n",
      " 0   Trip_Distance_km       876 non-null    float64\n",
      " 1   Time_of_Day            876 non-null    object \n",
      " 2   Day_of_Week            876 non-null    object \n",
      " 3   Passenger_Count        876 non-null    float64\n",
      " 4   Traffic_Conditions     876 non-null    object \n",
      " 5   Weather                876 non-null    object \n",
      " 6   Base_Fare              876 non-null    float64\n",
      " 7   Per_Km_Rate            876 non-null    float64\n",
      " 8   Per_Minute_Rate        876 non-null    float64\n",
      " 9   Trip_Duration_Minutes  876 non-null    float64\n",
      " 10  Trip_Price             876 non-null    float64\n",
      "dtypes: float64(7), object(4)\n",
      "memory usage: 82.1+ KB\n"
     ]
    }
   ],
   "source": [
    "df_clean.info()"
   ]
  },
  {
   "cell_type": "code",
   "execution_count": 80,
   "id": "7584ac50",
   "metadata": {},
   "outputs": [],
   "source": [
    "df_clean.to_csv(\"taxi_clean.csv\", index=False)"
   ]
  }
 ],
 "metadata": {
  "kernelspec": {
   "display_name": "venv",
   "language": "python",
   "name": "python3"
  },
  "language_info": {
   "codemirror_mode": {
    "name": "ipython",
    "version": 3
   },
   "file_extension": ".py",
   "mimetype": "text/x-python",
   "name": "python",
   "nbconvert_exporter": "python",
   "pygments_lexer": "ipython3",
   "version": "3.13.3"
  }
 },
 "nbformat": 4,
 "nbformat_minor": 5
}
