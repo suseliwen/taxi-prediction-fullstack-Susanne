{
 "cells": [
  {
   "cell_type": "markdown",
   "id": "f37bc3f8",
   "metadata": {},
   "source": [
    "### Ett sista test - ersätta Base_Fare med median värde\n",
    "\n",
    "Innan jag går vidare till nästa del i labben vill jag försäkra mig om att uträkningen av Base_fare, som medför ganska många droppade kolumner, verkligen är den bästa vägen att gå.   \n",
    "Jag gör därför ett test, där jag jämför prediktionen med två olika df för att försäkra mig om att jag väljer rätt data för det fortsatta arbetet. "
   ]
  },
  {
   "cell_type": "code",
   "execution_count": 10,
   "id": "178f1cf6",
   "metadata": {},
   "outputs": [
    {
     "name": "stdout",
     "output_type": "stream",
     "text": [
      "Nuvarande arbetskatalog: c:\\Users\\susan\\KodPython\\LAB_taxi_pred\\explorations\n"
     ]
    }
   ],
   "source": [
    "import os\n",
    "print(\"Nuvarande arbetskatalog:\", os.getcwd())"
   ]
  },
  {
   "cell_type": "code",
   "execution_count": 11,
   "id": "5b9dce24",
   "metadata": {},
   "outputs": [
    {
     "name": "stdout",
     "output_type": "stream",
     "text": [
      "<class 'pandas.core.frame.DataFrame'>\n",
      "RangeIndex: 1000 entries, 0 to 999\n",
      "Data columns (total 11 columns):\n",
      " #   Column                 Non-Null Count  Dtype  \n",
      "---  ------                 --------------  -----  \n",
      " 0   Trip_Distance_km       950 non-null    float64\n",
      " 1   Time_of_Day            950 non-null    object \n",
      " 2   Day_of_Week            950 non-null    object \n",
      " 3   Passenger_Count        950 non-null    float64\n",
      " 4   Traffic_Conditions     950 non-null    object \n",
      " 5   Weather                950 non-null    object \n",
      " 6   Base_Fare              950 non-null    float64\n",
      " 7   Per_Km_Rate            950 non-null    float64\n",
      " 8   Per_Minute_Rate        950 non-null    float64\n",
      " 9   Trip_Duration_Minutes  950 non-null    float64\n",
      " 10  Trip_Price             951 non-null    float64\n",
      "dtypes: float64(7), object(4)\n",
      "memory usage: 86.1+ KB\n"
     ]
    }
   ],
   "source": [
    "from taxipred.utils.constants import DATA_PATH \n",
    "import pandas as pd\n",
    "from sklearn.model_selection import train_test_split\n",
    "from sklearn.preprocessing import StandardScaler, OneHotEncoder\n",
    "from sklearn.linear_model import LinearRegression\n",
    "from sklearn.metrics import r2_score, mean_absolute_error, mean_squared_error, root_mean_squared_error\n",
    "import numpy as np\n",
    "import matplotlib.pyplot as plt\n",
    "\n",
    "df = pd.read_csv(\"../src/taxipred/data/taxi_trip_pricing.csv\")\n",
    "\n",
    "df.info()"
   ]
  },
  {
   "cell_type": "code",
   "execution_count": 12,
   "id": "f2f9668e",
   "metadata": {},
   "outputs": [
    {
     "name": "stdout",
     "output_type": "stream",
     "text": [
      "<class 'pandas.core.frame.DataFrame'>\n",
      "RangeIndex: 1000 entries, 0 to 999\n",
      "Data columns (total 11 columns):\n",
      " #   Column                 Non-Null Count  Dtype  \n",
      "---  ------                 --------------  -----  \n",
      " 0   Trip_Distance_km       950 non-null    float64\n",
      " 1   Time_of_Day            1000 non-null   object \n",
      " 2   Day_of_Week            950 non-null    object \n",
      " 3   Passenger_Count        950 non-null    float64\n",
      " 4   Traffic_Conditions     950 non-null    object \n",
      " 5   Weather                950 non-null    object \n",
      " 6   Base_Fare              950 non-null    float64\n",
      " 7   Per_Km_Rate            950 non-null    float64\n",
      " 8   Per_Minute_Rate        950 non-null    float64\n",
      " 9   Trip_Duration_Minutes  950 non-null    float64\n",
      " 10  Trip_Price             951 non-null    float64\n",
      "dtypes: float64(7), object(4)\n",
      "memory usage: 86.1+ KB\n"
     ]
    }
   ],
   "source": [
    "df_test = df.copy()\n",
    "\n",
    "most_common = df[\"Time_of_Day\"].mode()[0]\n",
    "df_test[\"Time_of_Day\"] = df_test[\"Time_of_Day\"].fillna(most_common)\n",
    "\n",
    "df_test.info()"
   ]
  },
  {
   "cell_type": "code",
   "execution_count": 13,
   "id": "727610b3",
   "metadata": {},
   "outputs": [],
   "source": [
    "distance_median = df[\"Trip_Distance_km\"].median()\n",
    "\n",
    "df_test[\"Trip_Distance_km\"] = df_test[\"Trip_Distance_km\"].fillna(distance_median)\n"
   ]
  },
  {
   "cell_type": "code",
   "execution_count": 14,
   "id": "5b6e8786",
   "metadata": {},
   "outputs": [],
   "source": [
    "df_test[\"Day_of_Week\"] = df_test[\"Day_of_Week\"].fillna(\"Unknown\")"
   ]
  },
  {
   "cell_type": "code",
   "execution_count": 15,
   "id": "3c914cf8",
   "metadata": {},
   "outputs": [],
   "source": [
    "df_test[\"Weather\"] = df_test[\"Weather\"].fillna(\"Unknown\")"
   ]
  },
  {
   "cell_type": "code",
   "execution_count": 16,
   "id": "23c62e19",
   "metadata": {},
   "outputs": [],
   "source": [
    "passengers_median = df[\"Passenger_Count\"].median()\n",
    "\n",
    "df_test[\"Passenger_Count\"] = df_test[\"Passenger_Count\"].fillna(passengers_median)"
   ]
  },
  {
   "cell_type": "code",
   "execution_count": 17,
   "id": "236090a1",
   "metadata": {},
   "outputs": [],
   "source": [
    "df_test[\"Traffic_Conditions\"] = df_test[\"Traffic_Conditions\"].fillna(\"Unknown\")"
   ]
  },
  {
   "cell_type": "code",
   "execution_count": 18,
   "id": "5be51c40",
   "metadata": {},
   "outputs": [
    {
     "name": "stdout",
     "output_type": "stream",
     "text": [
      "<class 'pandas.core.frame.DataFrame'>\n",
      "RangeIndex: 1000 entries, 0 to 999\n",
      "Data columns (total 11 columns):\n",
      " #   Column                 Non-Null Count  Dtype  \n",
      "---  ------                 --------------  -----  \n",
      " 0   Trip_Distance_km       1000 non-null   float64\n",
      " 1   Time_of_Day            1000 non-null   object \n",
      " 2   Day_of_Week            1000 non-null   object \n",
      " 3   Passenger_Count        1000 non-null   float64\n",
      " 4   Traffic_Conditions     1000 non-null   object \n",
      " 5   Weather                1000 non-null   object \n",
      " 6   Base_Fare              950 non-null    float64\n",
      " 7   Per_Km_Rate            950 non-null    float64\n",
      " 8   Per_Minute_Rate        950 non-null    float64\n",
      " 9   Trip_Duration_Minutes  950 non-null    float64\n",
      " 10  Trip_Price             951 non-null    float64\n",
      "dtypes: float64(7), object(4)\n",
      "memory usage: 86.1+ KB\n"
     ]
    }
   ],
   "source": [
    "df_test.info()"
   ]
  },
  {
   "cell_type": "code",
   "execution_count": 19,
   "id": "e3a682a6",
   "metadata": {},
   "outputs": [],
   "source": [
    "df_test = df_test.fillna(df_test.median(numeric_only=True))"
   ]
  },
  {
   "cell_type": "code",
   "execution_count": 20,
   "id": "a1194a03",
   "metadata": {},
   "outputs": [
    {
     "name": "stdout",
     "output_type": "stream",
     "text": [
      "<class 'pandas.core.frame.DataFrame'>\n",
      "RangeIndex: 1000 entries, 0 to 999\n",
      "Data columns (total 11 columns):\n",
      " #   Column                 Non-Null Count  Dtype  \n",
      "---  ------                 --------------  -----  \n",
      " 0   Trip_Distance_km       1000 non-null   float64\n",
      " 1   Time_of_Day            1000 non-null   object \n",
      " 2   Day_of_Week            1000 non-null   object \n",
      " 3   Passenger_Count        1000 non-null   float64\n",
      " 4   Traffic_Conditions     1000 non-null   object \n",
      " 5   Weather                1000 non-null   object \n",
      " 6   Base_Fare              1000 non-null   float64\n",
      " 7   Per_Km_Rate            1000 non-null   float64\n",
      " 8   Per_Minute_Rate        1000 non-null   float64\n",
      " 9   Trip_Duration_Minutes  1000 non-null   float64\n",
      " 10  Trip_Price             1000 non-null   float64\n",
      "dtypes: float64(7), object(4)\n",
      "memory usage: 86.1+ KB\n"
     ]
    }
   ],
   "source": [
    "df_test.info()"
   ]
  },
  {
   "cell_type": "code",
   "execution_count": 21,
   "id": "727d6621",
   "metadata": {},
   "outputs": [
    {
     "data": {
      "text/html": [
       "<div>\n",
       "<style scoped>\n",
       "    .dataframe tbody tr th:only-of-type {\n",
       "        vertical-align: middle;\n",
       "    }\n",
       "\n",
       "    .dataframe tbody tr th {\n",
       "        vertical-align: top;\n",
       "    }\n",
       "\n",
       "    .dataframe thead th {\n",
       "        text-align: right;\n",
       "    }\n",
       "</style>\n",
       "<table border=\"1\" class=\"dataframe\">\n",
       "  <thead>\n",
       "    <tr style=\"text-align: right;\">\n",
       "      <th></th>\n",
       "      <th>Trip_Distance_km</th>\n",
       "      <th>Passenger_Count</th>\n",
       "      <th>Base_Fare</th>\n",
       "      <th>Per_Km_Rate</th>\n",
       "      <th>Per_Minute_Rate</th>\n",
       "      <th>Trip_Duration_Minutes</th>\n",
       "      <th>Trip_Price</th>\n",
       "    </tr>\n",
       "  </thead>\n",
       "  <tbody>\n",
       "    <tr>\n",
       "      <th>count</th>\n",
       "      <td>950.000000</td>\n",
       "      <td>950.000000</td>\n",
       "      <td>950.000000</td>\n",
       "      <td>950.000000</td>\n",
       "      <td>950.000000</td>\n",
       "      <td>950.000000</td>\n",
       "      <td>951.000000</td>\n",
       "    </tr>\n",
       "    <tr>\n",
       "      <th>mean</th>\n",
       "      <td>27.070547</td>\n",
       "      <td>2.476842</td>\n",
       "      <td>3.502989</td>\n",
       "      <td>1.233316</td>\n",
       "      <td>0.292916</td>\n",
       "      <td>62.118116</td>\n",
       "      <td>56.874773</td>\n",
       "    </tr>\n",
       "    <tr>\n",
       "      <th>std</th>\n",
       "      <td>19.905300</td>\n",
       "      <td>1.102249</td>\n",
       "      <td>0.870162</td>\n",
       "      <td>0.429816</td>\n",
       "      <td>0.115592</td>\n",
       "      <td>32.154406</td>\n",
       "      <td>40.469791</td>\n",
       "    </tr>\n",
       "    <tr>\n",
       "      <th>min</th>\n",
       "      <td>1.230000</td>\n",
       "      <td>1.000000</td>\n",
       "      <td>2.010000</td>\n",
       "      <td>0.500000</td>\n",
       "      <td>0.100000</td>\n",
       "      <td>5.010000</td>\n",
       "      <td>6.126900</td>\n",
       "    </tr>\n",
       "    <tr>\n",
       "      <th>25%</th>\n",
       "      <td>12.632500</td>\n",
       "      <td>1.250000</td>\n",
       "      <td>2.730000</td>\n",
       "      <td>0.860000</td>\n",
       "      <td>0.190000</td>\n",
       "      <td>35.882500</td>\n",
       "      <td>33.742650</td>\n",
       "    </tr>\n",
       "    <tr>\n",
       "      <th>50%</th>\n",
       "      <td>25.830000</td>\n",
       "      <td>2.000000</td>\n",
       "      <td>3.520000</td>\n",
       "      <td>1.220000</td>\n",
       "      <td>0.290000</td>\n",
       "      <td>61.860000</td>\n",
       "      <td>50.074500</td>\n",
       "    </tr>\n",
       "    <tr>\n",
       "      <th>75%</th>\n",
       "      <td>38.405000</td>\n",
       "      <td>3.000000</td>\n",
       "      <td>4.260000</td>\n",
       "      <td>1.610000</td>\n",
       "      <td>0.390000</td>\n",
       "      <td>89.055000</td>\n",
       "      <td>69.099350</td>\n",
       "    </tr>\n",
       "    <tr>\n",
       "      <th>max</th>\n",
       "      <td>146.067047</td>\n",
       "      <td>4.000000</td>\n",
       "      <td>5.000000</td>\n",
       "      <td>2.000000</td>\n",
       "      <td>0.500000</td>\n",
       "      <td>119.840000</td>\n",
       "      <td>332.043689</td>\n",
       "    </tr>\n",
       "  </tbody>\n",
       "</table>\n",
       "</div>"
      ],
      "text/plain": [
       "       Trip_Distance_km  Passenger_Count   Base_Fare  Per_Km_Rate  \\\n",
       "count        950.000000       950.000000  950.000000   950.000000   \n",
       "mean          27.070547         2.476842    3.502989     1.233316   \n",
       "std           19.905300         1.102249    0.870162     0.429816   \n",
       "min            1.230000         1.000000    2.010000     0.500000   \n",
       "25%           12.632500         1.250000    2.730000     0.860000   \n",
       "50%           25.830000         2.000000    3.520000     1.220000   \n",
       "75%           38.405000         3.000000    4.260000     1.610000   \n",
       "max          146.067047         4.000000    5.000000     2.000000   \n",
       "\n",
       "       Per_Minute_Rate  Trip_Duration_Minutes  Trip_Price  \n",
       "count       950.000000             950.000000  951.000000  \n",
       "mean          0.292916              62.118116   56.874773  \n",
       "std           0.115592              32.154406   40.469791  \n",
       "min           0.100000               5.010000    6.126900  \n",
       "25%           0.190000              35.882500   33.742650  \n",
       "50%           0.290000              61.860000   50.074500  \n",
       "75%           0.390000              89.055000   69.099350  \n",
       "max           0.500000             119.840000  332.043689  "
      ]
     },
     "execution_count": 21,
     "metadata": {},
     "output_type": "execute_result"
    }
   ],
   "source": [
    "df.describe()\n"
   ]
  },
  {
   "cell_type": "code",
   "execution_count": 22,
   "id": "465203d7",
   "metadata": {},
   "outputs": [
    {
     "data": {
      "text/html": [
       "<div>\n",
       "<style scoped>\n",
       "    .dataframe tbody tr th:only-of-type {\n",
       "        vertical-align: middle;\n",
       "    }\n",
       "\n",
       "    .dataframe tbody tr th {\n",
       "        vertical-align: top;\n",
       "    }\n",
       "\n",
       "    .dataframe thead th {\n",
       "        text-align: right;\n",
       "    }\n",
       "</style>\n",
       "<table border=\"1\" class=\"dataframe\">\n",
       "  <thead>\n",
       "    <tr style=\"text-align: right;\">\n",
       "      <th></th>\n",
       "      <th>Trip_Distance_km</th>\n",
       "      <th>Passenger_Count</th>\n",
       "      <th>Base_Fare</th>\n",
       "      <th>Per_Km_Rate</th>\n",
       "      <th>Per_Minute_Rate</th>\n",
       "      <th>Trip_Duration_Minutes</th>\n",
       "      <th>Trip_Price</th>\n",
       "    </tr>\n",
       "  </thead>\n",
       "  <tbody>\n",
       "    <tr>\n",
       "      <th>count</th>\n",
       "      <td>1000.000000</td>\n",
       "      <td>1000.000000</td>\n",
       "      <td>1000.000000</td>\n",
       "      <td>1000.000000</td>\n",
       "      <td>1000.000000</td>\n",
       "      <td>1000.000000</td>\n",
       "      <td>1000.000000</td>\n",
       "    </tr>\n",
       "    <tr>\n",
       "      <th>mean</th>\n",
       "      <td>27.008520</td>\n",
       "      <td>2.453000</td>\n",
       "      <td>3.503840</td>\n",
       "      <td>1.232650</td>\n",
       "      <td>0.292770</td>\n",
       "      <td>62.105210</td>\n",
       "      <td>56.541560</td>\n",
       "    </tr>\n",
       "    <tr>\n",
       "      <th>std</th>\n",
       "      <td>19.402661</td>\n",
       "      <td>1.079331</td>\n",
       "      <td>0.848115</td>\n",
       "      <td>0.418932</td>\n",
       "      <td>0.112664</td>\n",
       "      <td>31.339464</td>\n",
       "      <td>39.492129</td>\n",
       "    </tr>\n",
       "    <tr>\n",
       "      <th>min</th>\n",
       "      <td>1.230000</td>\n",
       "      <td>1.000000</td>\n",
       "      <td>2.010000</td>\n",
       "      <td>0.500000</td>\n",
       "      <td>0.100000</td>\n",
       "      <td>5.010000</td>\n",
       "      <td>6.126900</td>\n",
       "    </tr>\n",
       "    <tr>\n",
       "      <th>25%</th>\n",
       "      <td>13.107500</td>\n",
       "      <td>2.000000</td>\n",
       "      <td>2.770000</td>\n",
       "      <td>0.870000</td>\n",
       "      <td>0.197500</td>\n",
       "      <td>37.107500</td>\n",
       "      <td>34.578850</td>\n",
       "    </tr>\n",
       "    <tr>\n",
       "      <th>50%</th>\n",
       "      <td>25.830000</td>\n",
       "      <td>2.000000</td>\n",
       "      <td>3.520000</td>\n",
       "      <td>1.220000</td>\n",
       "      <td>0.290000</td>\n",
       "      <td>61.860000</td>\n",
       "      <td>50.074500</td>\n",
       "    </tr>\n",
       "    <tr>\n",
       "      <th>75%</th>\n",
       "      <td>37.782500</td>\n",
       "      <td>3.000000</td>\n",
       "      <td>4.202500</td>\n",
       "      <td>1.580000</td>\n",
       "      <td>0.382500</td>\n",
       "      <td>87.775000</td>\n",
       "      <td>67.476650</td>\n",
       "    </tr>\n",
       "    <tr>\n",
       "      <th>max</th>\n",
       "      <td>146.067047</td>\n",
       "      <td>4.000000</td>\n",
       "      <td>5.000000</td>\n",
       "      <td>2.000000</td>\n",
       "      <td>0.500000</td>\n",
       "      <td>119.840000</td>\n",
       "      <td>332.043689</td>\n",
       "    </tr>\n",
       "  </tbody>\n",
       "</table>\n",
       "</div>"
      ],
      "text/plain": [
       "       Trip_Distance_km  Passenger_Count    Base_Fare  Per_Km_Rate  \\\n",
       "count       1000.000000      1000.000000  1000.000000  1000.000000   \n",
       "mean          27.008520         2.453000     3.503840     1.232650   \n",
       "std           19.402661         1.079331     0.848115     0.418932   \n",
       "min            1.230000         1.000000     2.010000     0.500000   \n",
       "25%           13.107500         2.000000     2.770000     0.870000   \n",
       "50%           25.830000         2.000000     3.520000     1.220000   \n",
       "75%           37.782500         3.000000     4.202500     1.580000   \n",
       "max          146.067047         4.000000     5.000000     2.000000   \n",
       "\n",
       "       Per_Minute_Rate  Trip_Duration_Minutes   Trip_Price  \n",
       "count      1000.000000            1000.000000  1000.000000  \n",
       "mean          0.292770              62.105210    56.541560  \n",
       "std           0.112664              31.339464    39.492129  \n",
       "min           0.100000               5.010000     6.126900  \n",
       "25%           0.197500              37.107500    34.578850  \n",
       "50%           0.290000              61.860000    50.074500  \n",
       "75%           0.382500              87.775000    67.476650  \n",
       "max           0.500000             119.840000   332.043689  "
      ]
     },
     "execution_count": 22,
     "metadata": {},
     "output_type": "execute_result"
    }
   ],
   "source": [
    "df_test.describe()"
   ]
  },
  {
   "cell_type": "code",
   "execution_count": 23,
   "id": "5e8caab0",
   "metadata": {},
   "outputs": [],
   "source": [
    "X = df_test.drop(columns=[\"Trip_Price\"])\n",
    "y = df_test[\"Trip_Price\"]"
   ]
  },
  {
   "cell_type": "code",
   "execution_count": 24,
   "id": "7ae836db",
   "metadata": {},
   "outputs": [
    {
     "data": {
      "text/plain": [
       "((700, 10), (300, 10), (700,), (300,))"
      ]
     },
     "execution_count": 24,
     "metadata": {},
     "output_type": "execute_result"
    }
   ],
   "source": [
    "X_train, X_test, y_train, y_test = train_test_split(\n",
    "    X, y, test_size=0.3, random_state=42\n",
    ")\n",
    "\n",
    "X_train.shape, X_test.shape, y_train.shape, y_test.shape"
   ]
  },
  {
   "cell_type": "code",
   "execution_count": 25,
   "id": "e3d02f05",
   "metadata": {},
   "outputs": [],
   "source": [
    "# 1) Dela upp kolumner\n",
    "num_cols = X_train.select_dtypes(include=\"number\").columns\n",
    "cat_cols = X_train.select_dtypes(exclude=\"number\").columns\n",
    "#\n",
    "\n",
    "# Skala numeriska\n",
    "scaler = StandardScaler()\n",
    "scaled_X_train_num = scaler.fit_transform(X_train[num_cols])\n",
    "scaled_X_test_num  = scaler.transform(X_test[num_cols])\n",
    "\n",
    "\n",
    "# 3) One-hot-koda kategoriska\n",
    "encoder = OneHotEncoder(handle_unknown=\"ignore\", sparse_output=False)\n",
    "X_train_cat = encoder.fit_transform(X_train[cat_cols])\n",
    "X_test_cat  = encoder.transform(X_test[cat_cols])\n",
    "\n",
    "\n",
    "# 4) Slå ihop till en enda feature-matris\n",
    "import numpy as np\n",
    "X_train_prepared = np.hstack([scaled_X_train_num, X_train_cat])\n",
    "X_test_prepared  = np.hstack([scaled_X_test_num, X_test_cat])"
   ]
  },
  {
   "cell_type": "code",
   "execution_count": 26,
   "id": "0c3cf13c",
   "metadata": {},
   "outputs": [],
   "source": [
    "model = LinearRegression()\n",
    "model.fit(X_train_prepared, y_train)\n",
    "y_pred_lr = model.predict(X_test_prepared)"
   ]
  },
  {
   "cell_type": "code",
   "execution_count": 27,
   "id": "c406da92",
   "metadata": {},
   "outputs": [
    {
     "data": {
      "text/plain": [
       "array([35.3519384 , -0.07092247,  0.76497902, 10.23019269,  5.86495786,\n",
       "        8.67086046,  0.94645311, -0.44142331,  1.34432154, -1.84935134,\n",
       "        2.75012563, -1.69956207, -1.05056356, -1.45678417, -0.88502765,\n",
       "       -0.79755089,  3.1393627 , -2.04113308, -1.6827739 ,  3.06859722,\n",
       "        0.65530977])"
      ]
     },
     "execution_count": 27,
     "metadata": {},
     "output_type": "execute_result"
    }
   ],
   "source": [
    "model.coef_"
   ]
  },
  {
   "cell_type": "code",
   "execution_count": 28,
   "id": "e2ad2c6c",
   "metadata": {},
   "outputs": [
    {
     "name": "stdout",
     "output_type": "stream",
     "text": [
      "Test sample features:  [[-0.38947052 -0.42900831  1.24832811  1.18582429  1.27995192  1.42591238\n",
      "   0.          0.          0.          1.          0.          1.\n",
      "   0.          0.          1.          0.          0.          1.\n",
      "   0.          0.          0.        ]]\n",
      "Test sample target:  84.873\n"
     ]
    }
   ],
   "source": [
    "test_sample_features = X_test_prepared[0].reshape(1, -1)\n",
    "test_sample_target = y_test.values[0]\n",
    "\n",
    "print(\"Test sample features: \", test_sample_features)\n",
    "print(\"Test sample target: \", test_sample_target)"
   ]
  },
  {
   "cell_type": "code",
   "execution_count": 29,
   "id": "0d3cb474",
   "metadata": {},
   "outputs": [
    {
     "data": {
      "text/plain": [
       "(300,)"
      ]
     },
     "execution_count": 29,
     "metadata": {},
     "output_type": "execute_result"
    }
   ],
   "source": [
    "y_pred_lr = model.predict(X_test_prepared)\n",
    "y_pred_lr.shape"
   ]
  },
  {
   "cell_type": "code",
   "execution_count": 30,
   "id": "437211e4",
   "metadata": {},
   "outputs": [
    {
     "data": {
      "text/plain": [
       "array([ 72.84243053,  92.78869847,  66.13138146,  71.95217221,\n",
       "       118.50334822])"
      ]
     },
     "execution_count": 30,
     "metadata": {},
     "output_type": "execute_result"
    }
   ],
   "source": [
    "y_pred_lr[:5]"
   ]
  },
  {
   "cell_type": "code",
   "execution_count": 31,
   "id": "add882e1",
   "metadata": {},
   "outputs": [
    {
     "data": {
      "text/plain": [
       "array([ 84.873 ,  84.7232,  62.2353,  85.4652, 123.928 ])"
      ]
     },
     "execution_count": 31,
     "metadata": {},
     "output_type": "execute_result"
    }
   ],
   "source": [
    "y_test[:5].values"
   ]
  },
  {
   "cell_type": "code",
   "execution_count": 32,
   "id": "3d80e59a",
   "metadata": {},
   "outputs": [
    {
     "name": "stdout",
     "output_type": "stream",
     "text": [
      "MSE: 295.3141803888821\n",
      "MAE:  10.650522557396652\n",
      "RMSE:  17.184707748137065\n",
      "R2 : 0.7733064670175755\n"
     ]
    }
   ],
   "source": [
    "\n",
    "print(\"MSE:\", mean_squared_error(y_test, y_pred_lr))\n",
    "print(\"MAE: \", mean_absolute_error(y_test, y_pred_lr))\n",
    "print(\"RMSE: \", root_mean_squared_error(y_test, y_pred_lr))\n",
    "print(\"R2 :\", r2_score(y_test, y_pred_lr))"
   ]
  },
  {
   "cell_type": "code",
   "execution_count": 33,
   "id": "33c45d4f",
   "metadata": {},
   "outputs": [
    {
     "data": {
      "image/png": "[encoded data removed]",
      "text/plain": [
       "<Figure size 640x480 with 1 Axes>"
      ]
     },
     "metadata": {},
     "output_type": "display_data"
    }
   ],
   "source": [
    "plt.scatter(y_test, y_pred_lr, alpha=0.6)\n",
    "plt.plot([y_test.min(), y_test.max()], [y_test.min(), y_test.max()], 'r--')\n",
    "plt.xlabel(\"Sant pris\")\n",
    "plt.ylabel(\"Predikterat pris\")\n",
    "plt.title(\"Logistisk regression - Prediktion vs Sant\")\n",
    "plt.show()"
   ]
  },
  {
   "cell_type": "markdown",
   "id": "cc6b7cb6",
   "metadata": {},
   "source": [
    "### Sammanfattning av att testa att fylla data med medianvärde jämfört med att droppa c:a 220 kolumner\n",
    "\n",
    "Jag testade två olika strategier för att hantera null-värden:\n",
    "\n",
    "1. Droppa null-värden (df_strict)  \n",
    "   - Här tog jag bort alla rader som hade null-värden i `Trip_Price`, \n",
    "     `Trip_Duration_Minutes`, `Per_Km_Rate`, `Per_Minute_Rate`, eller `Trip_Distance_km`.\n",
    "   - Det resulterade i att ca 220 rader försvann, och jag hade kvar 778 rader.\n",
    "\n",
    "2. Imputera med medianvärden\n",
    "   - Här ersatte jag alla null-värden i de numeriska kolumnerna med medianen \n",
    "     för respektive kolumn, så att inga rader försvann. \n",
    "\n",
    "##### Resultat av jämförelse (Linjär regression)\n",
    "- Droppa nulls:\n",
    "  - MSE: 226.8\n",
    "  - MAE: 9.5\n",
    "  - RMSE: 15.1\n",
    "  - R²: 0.846\n",
    "\n",
    "- Median-imputering:\n",
    "  - MSE: 295.3\n",
    "  - MAE: 10.7\n",
    "  - RMSE: 17.2\n",
    "  - R²: 0.773\n",
    "\n",
    "##### Slutsats\n",
    "Att fylla med medianvärden försämrade modellens prestanda.  \n",
    "\n",
    "Jag väljer därför att arbeta vidare med **df_strict** (droppade nulls), \n",
    "eftersom den ger bättre prediktioner, trots att datamängden blir mindre.\n"
   ]
  }
 ],
 "metadata": {
  "kernelspec": {
   "display_name": "venv",
   "language": "python",
   "name": "python3"
  },
  "language_info": {
   "codemirror_mode": {
    "name": "ipython",
    "version": 3
   },
   "file_extension": ".py",
   "mimetype": "text/x-python",
   "name": "python",
   "nbconvert_exporter": "python",
   "pygments_lexer": "ipython3",
   "version": "3.13.3"
  }
 },
 "nbformat": 4,
 "nbformat_minor": 5
}
